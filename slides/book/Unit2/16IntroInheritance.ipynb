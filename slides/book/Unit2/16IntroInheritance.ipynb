{
 "cells": [
  {
   "cell_type": "markdown",
   "metadata": {},
   "source": [
    "# Introduction to Inheritance \n",
    "\n",
    "In this lecture we will cover:\n",
    "* Four pillars of object oriented programming\n",
    "* Basic inheritance\n",
    "* The Java Object class\n",
    "\n",
    "\n",
    "\n",
    "### Your future in CS \n",
    "I used to include this on my slides, but since these slides have changed - going to just leave it up here for every notebook. I get a lot of questions about more programming courses, the concentrations, and minors in computer science. Here is a brief reminder.\n",
    "\n",
    "CS 165 – Next Course In Sequence, also consider CS 220 (math and stats especially) \n",
    "* CO Jobs Report 2021 – 77% of *all* new jobs in Colorado require programming\n",
    "* 60% of all STEM jobs requires *advanced* (200-300 level) \n",
    "* 31% of all Bachelor of Arts degree titled jobs also required coding skills \n",
    "* 2016 Report found on average jobs that require coding skills paid $22,000 more\n",
    "\n",
    "* Concentrations in CS:\n",
    "  * Computer science has a number of concentrations. \n",
    "    * [General concentration](https://catalog.colostate.edu/general-catalog/colleges/natural-sciences/computer-science/computer-science-major/computer-science-concentration/#requirementstext) is the most flexible, and even allows students to double major or minor pretty easily. \n",
    "    * [Software Engineering](https://catalog.colostate.edu/general-catalog/colleges/natural-sciences/computer-science/computer-science-major-software-engineering-concentration/)\n",
    "    * [Computing Systems](https://catalog.colostate.edu/general-catalog/colleges/natural-sciences/computer-science/computer-science-major-computing-systems-concentration/)\n",
    "    * [Human Centered Computing](https://catalog.colostate.edu/general-catalog/colleges/natural-sciences/computer-science/computer-science-major/human-centered-computing-concentration/)\n",
    "    * [Networks and Security](https://catalog.colostate.edu/general-catalog/colleges/natural-sciences/computer-science/computer-science-major-networks-security-concentration/)\n",
    "    * [Artificial Intelligence](https://catalog.colostate.edu/general-catalog/colleges/natural-sciences/computer-science/computer-science-major-artificial-intelligence-machine-learning-concentration/)\n",
    "    * Computer Science Education. \n",
    "  * Minors: \n",
    "    * [Minor in Computer Science](https://catalog.colostate.edu/general-catalog/colleges/natural-sciences/computer-science/computer-science-minor/) - choose your own adventure minor\n",
    "    * [Minor in Machine Learning](https://catalog.colostate.edu/general-catalog/colleges/natural-sciences/computer-science/machine-learning-minor/) - popular with stats/math, and engineering\n",
    "    * [Minor in Bioinformatics](https://catalog.colostate.edu/general-catalog/colleges/natural-sciences/computer-science/bioinformatics-minor/) - Biology + Computer Science\n"
   ]
  },
  {
   "cell_type": "markdown",
   "metadata": {},
   "source": [
    "## Four Pillars of Object Oriented Programming\n",
    "\n",
    "* Abstraction\n",
    "  * You have practiced this already by building 'general' classes/types\n",
    "  * You can reuse these types in a variety of different ways\n",
    "* Encapsulation\n",
    "  * You have practiced this by\n",
    "    * Making classes wrap/focus on a single idea\n",
    "    * Controlled entry points into that class (public / private control)\n",
    "* Inheritance\n",
    "  * The ability to create an **is a** relationship between classes\n",
    "  * Classes inherit from other classes, gaining their properties \n",
    "* Polymorphism \n",
    "  * Intrinsically connected to Inheritance\n",
    "  * We will cover this in a future lecture in Unit 3\n",
    "\n",
    "\n",
    "These are nice technical interview questions, but not something we talk about daily. Understanding them helps you understand the \"why\" on how java is designed (every class can be an object, and one class per file embodies encapsulation!)"
   ]
  },
  {
   "cell_type": "markdown",
   "metadata": {},
   "source": [
    "## Inheritance\n",
    "<img style=\"float:right;margin-right:20px;width:300px\" src=\"img/boxes.jfif\" />\n",
    "\n",
    "* Allows you to build relationships\n",
    "  * Between a more general class (called superclass also parent class)\n",
    "  * And a more specialized class (called subclass or child class)\n",
    "* Or another way to look at it\n",
    "  * By looking at types/ideas as generalized to more specific\n",
    "  * You can write your code **once** and let the more specialized classes use the generalized code\n",
    "\n",
    "### Example:\n",
    "* Boxes come in different shapes and sizes\n",
    "  * but a *cube* is a specific box with the sides the same in all dimensions\n",
    "  * Let's look at some code that represents it!\n"
   ]
  },
  {
   "cell_type": "code",
   "execution_count": 6,
   "metadata": {},
   "outputs": [
    {
     "name": "stdout",
     "output_type": "stream",
     "text": [
      "Width: 10, Height: 12, Length:7 and the area is 840\n",
      "Side Size: 5 and the area is 125\n"
     ]
    }
   ],
   "source": [
    "public class Box {\n",
    "    protected int width;\n",
    "    protected int height;\n",
    "    protected int length;\n",
    "    public int getArea() { return width*height*length;}\n",
    "    public String toString() {\n",
    "        return String.format(\"Width: %d, Height: %d, Length:%d\", width, height, length);\n",
    "    }\n",
    "    public Box(int width, int height, int length) {\n",
    "        this.width = width; \n",
    "        this.height = height;\n",
    "        this.length = length;\n",
    "    }\n",
    "}\n",
    "\n",
    "public class CubeBox extends Box {\n",
    "    public CubeBox(int side) {\n",
    "        super(side, side, side);\n",
    "    }\n",
    "    public String toString() {\n",
    "        return String.format(\"Side Size: %d\", width);\n",
    "    }\n",
    "}\n",
    "\n",
    "Box bx = new Box(10, 12, 7);\n",
    "CubeBox cb = new CubeBox(5);\n",
    "System.out.println(bx + \" and the area is \" + bx.getArea());\n",
    "System.out.println(cb + \" and the area is \" + cb.getArea());"
   ]
  },
  {
   "cell_type": "markdown",
   "metadata": {},
   "source": [
    "> Discussion  \n",
    "> Discuss at your table what you notice about the code? Some is talked about in the reading, can you help each other understand it? We will talk about it in a moment, but for now take a moment to explain the code to others at the table. \n",
    "\n",
    "\n",
    "### Inheritance Definitions\n",
    "* **extends** keyword says\n",
    "  * Inherit the methods and properties (variables) from the superclass Box\n",
    "  * Critical word to have\n",
    "* CubeBox\n",
    "  * has both the method created in CubeBox *plus* the methods in Box\n",
    "    * getArea() is in both, functions the same in both!\n",
    "* **super** \n",
    "  * Is you reference the superclass (parent). \n",
    "  * super(...) - is calling the parent classes constructor\n",
    "  * Not required, but common!\n",
    "* **protected**\n",
    "  * New scope (you already know private and public)\n",
    "  * protected scope subclasses have direct access to, but only the current class and subclasses.\n",
    "* toString()?\n",
    "  * both classes have a toString() method\n",
    "    * which  means that specific classes version is called\n",
    "    * this is called **Overwriting**"
   ]
  },
  {
   "cell_type": "markdown",
   "metadata": {},
   "source": [
    "### In Class Activity\n",
    "\n",
    "You will find in canvas/zybooks/github the class `Employee.java`. It simply contains an employee ID and name.\n",
    "\n",
    "You goal is to write a new class (notice it is completely blank in zybooks) called `SoftwareEngineer.java`\n",
    "\n",
    "* SoftwareEngineer\n",
    "  * sets the Employee pay scale to be 75,000-250,000\n",
    "  * has a jobcode associated with them\n",
    "  * needs a getJobCode() and setJobCode() method\n",
    "  * needs a constructor of the format `SoftwareEngineer(int id, String name)`\n",
    "* Make sure to write some tests, so you get something useful to print"
   ]
  },
  {
   "cell_type": "code",
   "execution_count": 13,
   "metadata": {},
   "outputs": [
    {
     "name": "stdout",
     "output_type": "stream",
     "text": [
      "Name: Lucky Lou, ID: 10\n",
      "Name: Alice Wonder, ID: 42\n"
     ]
    }
   ],
   "source": [
    "public class Employee {\n",
    "    private final int pay_low;\n",
    "    private final int pay_high;\n",
    "    private String name;\n",
    "    private final int employee_id;\n",
    "    \n",
    "    public int getLowPay() { return pay_low;}\n",
    "    public int getMaxPay() { return pay_high;}\n",
    "    public int getID() { return employee_id;}\n",
    "    public String getName() { return name;}\n",
    "    public void setName(String name) { this.name = name;}\n",
    "    public String toString() { return String.format(\"Name: %s, ID: %d\", name, employee_id);}\n",
    "    public Employee(int id, String name, int pay_low, int pay_high) {\n",
    "        employee_id = id;\n",
    "        this.pay_low = pay_low;\n",
    "        this.pay_high = pay_high;\n",
    "        this.name = name;\n",
    "    }\n",
    "}\n",
    "    \n",
    "\n",
    "// Added during class SoftwareEngineer\n",
    "\n",
    "\n",
    "\n",
    "Employee hr = new Employee(10, \"Lucky Lou\", 40000, 60000);\n",
    "SoftwareEngineer se = new SoftwareEngineer(42, \"Alice Wonder\");\n",
    "se.setJobCode(\"REDQUEEN01\");\n",
    "\n",
    "System.out.println(hr);\n",
    "System.out.println(se);\n"
   ]
  },
  {
   "cell_type": "markdown",
   "metadata": {},
   "source": [
    "## Object class\n",
    "\n",
    "**All classes inherit from Object.java**\n",
    "\n",
    "This is assumed, and even if you don't put *extends Object*, it is already there.\n",
    "* Another way to put it, Objects are the cells of Java, everything is based on them. \n",
    "\n",
    "Why is this beneficial?\n",
    "\n",
    "* .toString()\n",
    "  * This is implemented in object as returning the memory address\n",
    "  * As all classes have it, other objects (ArrayList) can use it to print!\n",
    "  * When you **overwrite** it, it calls your version of toString()\n",
    "  * You have already been doing this\n",
    "* .equals(Object)\n",
    "  * By default compares the memory address\n",
    "  * However, String overwrites it to compare the characters in the string\n",
    "  * You can overwrite it in your classes to give meaning on comparing them\n",
    "\n",
    "There are a lot of other methods Object provides to all classes you write, but those are the most common to overwrite (getHash() is another one).\n",
    "\n",
    "\n",
    "### In Class Activity Two\n",
    "\n",
    "* Add a toString method to SoftwareEngineer\n",
    "* It should print out\n",
    "    ```text\n",
    "      Name: name, ID: id, JobCode: jobcode\n",
    "    ```\n",
    "\n"
   ]
  },
  {
   "cell_type": "code",
   "execution_count": 14,
   "metadata": {},
   "outputs": [
    {
     "name": "stdout",
     "output_type": "stream",
     "text": [
      "Name: Lucky Lou, ID: 10\n",
      "Name: Alice Wonder, ID: 42, JobCode: REDQUEEN01\n"
     ]
    }
   ],
   "source": [
    "public class SoftwareEngineer extends Employee {\n",
    "    private String jobCode;\n",
    "\n",
    "    public SoftwareEngineer(int id, String name) {\n",
    "        super(id, name, 75000, 250000);\n",
    "    }\n",
    "    public void setJobCode(String code) { jobCode = code;}\n",
    "    public String getJobCode() { return jobCode;}\n",
    "\n",
    "    //toString added during class\n",
    "\n",
    "}\n",
    "\n",
    "Employee hr = new Employee(10, \"Lucky Lou\", 40000, 60000);\n",
    "SoftwareEngineer se = new SoftwareEngineer(42, \"Alice Wonder\");\n",
    "se.setJobCode(\"REDQUEEN01\");\n",
    "\n",
    "System.out.println(hr);\n",
    "System.out.println(se);"
   ]
  },
  {
   "cell_type": "markdown",
   "metadata": {},
   "source": [
    "## Overview\n",
    "\n",
    "General rules for inheritance\n",
    "\n",
    "* Use it. The *is a* relationship is valuable\n",
    "  * Good inheritance saves you time writing code\n",
    "  * Bad inheritance increases work loads\n",
    "* Really focus on the idea and breaking up the idea\n",
    "* If you can, call the superclass methods with slight modifications\n",
    "  * This helps incase the superclass changes implementations\n",
    "* Right now the primary reason for inheritance?\n",
    "  * Keeping your code DRY\n",
    "  * In the future, we will learn about polymorphism which doubles the power of inheritance. "
   ]
  }
 ],
 "metadata": {
  "interpreter": {
   "hash": "507d0580e2b527a70f64f40fb9b6583b2a77378ccde06f27533dbdd39bb8d03d"
  },
  "kernelspec": {
   "display_name": "Java",
   "language": "java",
   "name": "java"
  },
  "language_info": {
   "codemirror_mode": "java",
   "file_extension": ".jshell",
   "mimetype": "text/x-java-source",
   "name": "Java",
   "pygments_lexer": "java",
   "version": "17.0.1+12"
  },
  "orig_nbformat": 4
 },
 "nbformat": 4,
 "nbformat_minor": 2
}
