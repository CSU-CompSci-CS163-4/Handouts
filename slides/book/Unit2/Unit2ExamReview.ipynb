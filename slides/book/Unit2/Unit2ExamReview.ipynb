{
 "cells": [
  {
   "cell_type": "markdown",
   "metadata": {},
   "source": [
    "# Unit 2 Review\n",
    "\n",
    "Requested Review Topics:\n",
    "\n",
    "* Incrementor order precedence (++value vs value++)\n",
    "* Do-while vs while loop\n",
    "* this, and when to use it\n",
    "* Overloaded Constructors\n",
    "* Substrings and indexOf\n",
    "* File input into into ArrayLists\n",
    "* Inheritance\n",
    "  * Especially knowledge check on what is printed from stimulus question\n",
    "\n",
    "\n",
    "### Your future in CS \n",
    "I used to include this on my slides, but since these slides have changed - going to just leave it up here for every notebook. I get a lot of questions about more programming courses, the concentrations, and minors in computer science. Here is a brief reminder.\n",
    "\n",
    "CS 165 – Next Course In Sequence, also consider CS 220 (math and stats especially) \n",
    "* CO Jobs Report 2021 – 77% of *all* new jobs in Colorado require programming\n",
    "* 60% of all STEM jobs requires *advanced* (200-300 level) \n",
    "* 31% of all Bachelor of Arts degree titled jobs also required coding skills \n",
    "* 2016 Report found on average jobs that require coding skills paid $22,000 more\n",
    "\n",
    "* Concentrations in CS:\n",
    "  * Computer science has a number of concentrations. \n",
    "    * [General concentration](https://catalog.colostate.edu/general-catalog/colleges/natural-sciences/computer-science/computer-science-major/computer-science-concentration/#requirementstext) is the most flexible, and even allows students to double major or minor pretty easily. \n",
    "    * [Software Engineering](https://catalog.colostate.edu/general-catalog/colleges/natural-sciences/computer-science/computer-science-major-software-engineering-concentration/)\n",
    "    * [Computing Systems](https://catalog.colostate.edu/general-catalog/colleges/natural-sciences/computer-science/computer-science-major-computing-systems-concentration/)\n",
    "    * [Human Centered Computing](https://catalog.colostate.edu/general-catalog/colleges/natural-sciences/computer-science/computer-science-major/human-centered-computing-concentration/)\n",
    "    * [Networks and Security](https://catalog.colostate.edu/general-catalog/colleges/natural-sciences/computer-science/computer-science-major-networks-security-concentration/)\n",
    "    * [Artificial Intelligence](https://catalog.colostate.edu/general-catalog/colleges/natural-sciences/computer-science/computer-science-major-artificial-intelligence-machine-learning-concentration/)\n",
    "    * Computer Science Education. \n",
    "  * Minors: \n",
    "    * [Minor in Computer Science](https://catalog.colostate.edu/general-catalog/colleges/natural-sciences/computer-science/computer-science-minor/) - choose your own adventure minor\n",
    "    * [Minor in Machine Learning](https://catalog.colostate.edu/general-catalog/colleges/natural-sciences/computer-science/machine-learning-minor/) - popular with stats/math, and engineering\n",
    "    * [Minor in Bioinformatics](https://catalog.colostate.edu/general-catalog/colleges/natural-sciences/computer-science/bioinformatics-minor/) - Biology + Computer Science\n"
   ]
  },
  {
   "cell_type": "markdown",
   "metadata": {},
   "source": [
    "## Incrementor \n",
    "\n",
    "* `++value` - adds 1 to the value, and then uses the variable\n",
    "* `value++` - uses the value, and then adds 1 to it. \n",
    "\n",
    "Good to know, but can technically program without them.\n",
    "\n",
    "For practice, Open an IDE - and create an class with a main method, and **follow** along with my example\n",
    "\n",
    "(we will keep coming back to that main method)\n",
    "\n",
    "What is printed (just write down the numbers of every step)?\n"
   ]
  },
  {
   "cell_type": "code",
   "execution_count": 3,
   "metadata": {},
   "outputs": [
    {
     "name": "stdout",
     "output_type": "stream",
     "text": [
      "The value is 10, and the incremented value is 11\n",
      "The value is 11, and the incremented value is 12\n",
      "The value is 12, and the incremented value is 13\n",
      "The value is 13, and the incremented value is 14\n",
      "The value is 14, and the incremented value is 15\n",
      "The value is 15, and the incremented value is 16\n",
      "The value is 16, and the incremented value is 17\n",
      "The value is 17, and the incremented value is 18\n",
      "The value is 18, and the incremented value is 19\n",
      "The value is 19, and the incremented value is 20\n"
     ]
    }
   ],
   "source": [
    "int value = 10;\n",
    "for(int i = 0; i < 10; i+=1) {\n",
    "    System.out.println(String.format(\"The value is %d, and the incremented value is %d\", value++, value));\n",
    "}"
   ]
  },
  {
   "cell_type": "markdown",
   "metadata": {},
   "source": [
    "> Discussion Topic  \n",
    "> As some folks are having trouble remembering the differences, what are some ways you can think of to help you remember the differences at your table. "
   ]
  },
  {
   "cell_type": "markdown",
   "metadata": {},
   "source": [
    "## Do-While and While Loops\n",
    "\n",
    "* **while** loops - checks condition before running\n",
    "* **do while** loops - runs *once always*, and then checks the condition.\n",
    "\n",
    "Really, it is in order of how you read it. \n",
    "\n",
    "Follow along again:"
   ]
  },
  {
   "cell_type": "code",
   "execution_count": 4,
   "metadata": {},
   "outputs": [
    {
     "name": "stdout",
     "output_type": "stream",
     "text": [
      "Do-While: Does this print?\n"
     ]
    }
   ],
   "source": [
    "int val = 10;\n",
    "\n",
    "while(val < 10) {\n",
    "    System.out.println(\"While: Does this print?\");\n",
    "}\n",
    "\n",
    "do {\n",
    "    System.out.println(\"Do-While: Does this print?\");\n",
    "}while(val < 10);"
   ]
  },
  {
   "cell_type": "markdown",
   "metadata": {},
   "source": [
    "## this.\n",
    "\n",
    "`this` literally means \"this instance / object\", so used when you want to reference *instance* variables.\n",
    "\n",
    "Another way to look at it, let's take the following code - how will I fix this code??"
   ]
  },
  {
   "cell_type": "code",
   "execution_count": 6,
   "metadata": {},
   "outputs": [
    {
     "name": "stdout",
     "output_type": "stream",
     "text": [
      "ID:10\n"
     ]
    }
   ],
   "source": [
    "public class Student {\n",
    "    private int id = 5;\n",
    "\n",
    "    public void setID(int id) {\n",
    "        this.id = id;\n",
    "    }\n",
    "\n",
    "    public String toString() {\n",
    "        return String.format(\"ID:%d\", id);\n",
    "    }\n",
    "}\n",
    "\n",
    "Student stuie = new Student();\n",
    "stuie.setID(10);\n",
    "System.out.println(stuie);"
   ]
  },
  {
   "cell_type": "markdown",
   "metadata": {},
   "source": [
    "Let's step through each line of code looking at the memory.\n",
    "\n",
    "```java\n",
    "Student stuie = new Student();\n",
    "```\n",
    "\n",
    "We see the *new* keyword, which means create a new table:\n",
    "\n",
    "\n",
    "#### Student@x131\n",
    "| variable | value |\n",
    "| - | - |\n",
    "| id | 5 |\n",
    "\n",
    "#### The Stack (initial memory location)\n",
    "| variable | value |\n",
    "| - | - |\n",
    "| stuie | Student@x131 |\n",
    "\n",
    "\n",
    "Now, we call the following line of code\n",
    "```java\n",
    "stuie.setID(10);\n",
    "```\n",
    "\n",
    "Which means, we are *inside* of stuie, giving us access to the following variables:\n",
    "\n",
    "#### .setID(10)\n",
    "| variable | value |\n",
    "| - | - |\n",
    "| id | 10 |\n",
    "| this.id | 5 |\n",
    "\n",
    "this being the **instance** variable in the current active object. \n",
    "\n",
    "Without this, how would java know which `id` to access? It really wouldn't, so it grabs the first one. \n",
    "\n",
    "Using `this` helps us access the instance / object variable, to either use or set it to a different value, which is what `setID(int)` does. \n"
   ]
  },
  {
   "cell_type": "markdown",
   "metadata": {},
   "source": [
    "## Overloaded Constructors and this()\n",
    "\n",
    "> Discussion  \n",
    "> What is an overloaded **method**?  \n",
    "> Why are they useful?\n",
    "\n",
    "### Overloaded Constructors\n",
    "\n",
    "* Constructors are specialized methods whose purpose is to 'build' the object\n",
    "  * They can only be called via the 'new' keyword\n",
    "* Overloading a Constructor is just like overloading a method!\n",
    "  * It creates optional ways to create objects.\n",
    "\n",
    "\n",
    "Let's take the following \"student\" sometimes we want to have just an id, and other times we want a name and id. "
   ]
  },
  {
   "cell_type": "code",
   "execution_count": 9,
   "metadata": {},
   "outputs": [
    {
     "name": "stdout",
     "output_type": "stream",
     "text": [
      "Name:Stewie, ID:10\n"
     ]
    }
   ],
   "source": [
    "public class Student {\n",
    "    private int id = 5;\n",
    "    private String name = null;\n",
    "\n",
    "    public Student(int id) {\n",
    "        setID(id); \n",
    "    }\n",
    "    public Student(String name, int id) {\n",
    "        this(id);  // but wait! isn't this the same code in Student(int)!!\n",
    "        setName(name);\n",
    "    }\n",
    "\n",
    "    public void setID(int id) { this.id = id;}\n",
    "    public void setName(String name) { this.name = name;}\n",
    "    public String toString() {return String.format(\"Name:%s, ID:%d\", name, id);}\n",
    "}\n",
    "\n",
    "Student stuie = new Student(\"Stewie\", 8);\n",
    "stuie.setID(10);\n",
    "System.out.println(stuie);"
   ]
  },
  {
   "cell_type": "markdown",
   "metadata": {},
   "source": [
    "Notice the 'but wait!' comment.\n",
    "\n",
    "Just like overloaded methods, you often want to keep your code *DRY*. However, java requires a special keyword for that\n",
    "\n",
    "```java\n",
    "this(values);\n",
    "```\n",
    "\n",
    "Notice the parans (not the same as `this.`). It is saying, use the 'constructor' of this format, to help me build the  instance of this object. Let's change the code above and see!\n",
    "\n",
    "Caveat - Java requires it to always be the *first line* of another constructor (just how they built it). "
   ]
  },
  {
   "cell_type": "markdown",
   "metadata": {},
   "source": [
    "## Substring and IndexOf\n",
    "\n",
    "* substring(start, end) - takes the substring from index start (inclusive) to index end (exclusive)\n",
    "  * Since it takes int values, it pairs well with indexOf.\n",
    "* indexOf(string or char) - gives you the location where that item **first** shows up or -1 if it isn't in the string\n",
    "* indexOf(string or char, int) - gives you the location of the item the first time it shows up after (including) the int location for starting\n",
    "  * `indexOf(string or char)` is the equivalent of `indexOf(string or char, 0)`\n",
    "\n",
    "So let's take the following code\n",
    "```java\n",
    "String knocker = \"tattarrattat\";\n",
    "String knock = knocker.substring(knocker.indexOf(\"r\")+1,\n",
    "                knocker.indexOf(\"t\", knocker.length()-1)+1);\n",
    "```\n",
    "\n",
    "Step 1: I would write out the string, and put the indices under it!\n",
    "\n",
    "| t | a | t | t | a | r | r | a | t | t | a | t |\n",
    "| - | - | - | - | - | - | - | - | - | - | - | - |\n",
    "| 0 | 1 | 2 | 3 | 4 | 5 | 6 | 7 | 8 | 9 | 10 | 11 |\n",
    "\n",
    "Step 2: read the code and take it in **smaller parts** (divide-conquer-glue)\n",
    "\n",
    "* knocker.indexOf(\"r\") + 1 - i know this starts at 0, goes to r, but then adds 1 to it\n",
    "  * 5+1 = 6\n",
    "  * ```java\n",
    "    knocker.substring(6, ...)\n",
    "    ```\n",
    "* knocker.length()-1 \n",
    "  * 12 - 1 = 11\n",
    "  * ```java \n",
    "    knocker.indexOf(\"t\",11)+1)\n",
    "    ```\n",
    "    * 11 + 1 = 12\n",
    "    * yes, just a way to grab the last T\n",
    "* ```java\n",
    "  knocker.substring(6,12);\n",
    "  ```\n",
    "* I then remind myself inclusive, exclusive\n",
    "\n",
    "| r | a | t | t | a | t |\n",
    "| - | - | - | - | - | - |\n",
    "| 6 | 7 | 8 | 9 | 10 | 11 |\n",
    "\n",
    "\n",
    "The last part, I would often do just by circling or underlining.\n",
    "\n",
    "#### IMPORTANT!\n",
    "Write it out with index numbers. **REALLY** easy to get an OB1 error without it. "
   ]
  },
  {
   "cell_type": "code",
   "execution_count": null,
   "metadata": {},
   "outputs": [],
   "source": [
    "// your turn - at the table, work it out with the same steps above!\n",
    "\n",
    "String plant = \"kinnikinnick\";\n",
    "String p2 = plant.substring(plant.indexOf(\"k\"),\n",
    "            plant.indexOf(\"k\", plant.indexOf(\"i\"))+1);\n",
    "\n",
    "System.out.println(p2);"
   ]
  },
  {
   "cell_type": "markdown",
   "metadata": {},
   "source": [
    "## File Input:\n",
    "\n",
    "File input into ArrayList?\n",
    "\n",
    "### Small but very important difference!\n",
    "File input is into **Strings** (for now). We *then* take those strings, and use them how we want - often putting them in ArrayLists.\n",
    "\n",
    "Let's look at code, and build it up!"
   ]
  },
  {
   "cell_type": "code",
   "execution_count": null,
   "metadata": {},
   "outputs": [],
   "source": [
    "import java.util.ArrayList;\n",
    "import java.io.File;\n",
    "import java.io.IOException;\n",
    "\n",
    "public ArrayList<String> readFileIntoArrayList(String filename) {\n",
    "    ArrayList<String> lines = new ArrayList<>();\n",
    "\n",
    "    try {\n",
    "        Scanner in = new Scanner(new File(filename));\n",
    "        \n",
    "    }catch(IOException ex) {\n",
    "        ex.printStackTrace();\n",
    "    }\n",
    "    return lines;\n",
    "}\n",
    "\n",
    "\n",
    "ArrayList<String> lines = readFileIntoArrayList(\"data/students.csv\");"
   ]
  },
  {
   "cell_type": "markdown",
   "metadata": {},
   "source": [
    "## Inheritance\n",
    "\n",
    "We will switch over to a knowledge check for this one"
   ]
  }
 ],
 "metadata": {
  "interpreter": {
   "hash": "507d0580e2b527a70f64f40fb9b6583b2a77378ccde06f27533dbdd39bb8d03d"
  },
  "kernelspec": {
   "display_name": "Java",
   "language": "java",
   "name": "java"
  },
  "language_info": {
   "codemirror_mode": "java",
   "file_extension": ".jshell",
   "mimetype": "text/x-java-source",
   "name": "java",
   "pygments_lexer": "java",
   "version": "17.0.2+8-LTS-86"
  },
  "orig_nbformat": 4
 },
 "nbformat": 4,
 "nbformat_minor": 2
}
