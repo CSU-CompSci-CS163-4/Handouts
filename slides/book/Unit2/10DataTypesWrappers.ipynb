{
 "cells": [
  {
   "cell_type": "markdown",
   "metadata": {},
   "source": [
    "# Binary, Data Types, Wrapper Classes\n",
    "\n",
    "For this lecture, we will cover:\n",
    "* binary\n",
    "* expand upon our primative data types\n",
    "* discuss the wrapper classes related to the primative data types\n",
    "\n",
    "\n",
    "| 8 Bit | 16 bit |\n",
    "| - | - |\n",
    "| ![Mario 8 bit](img/mario8bit.png) | ![Super Mario 16 bit](img/mario16bit.jpeg) |\n",
    "\n",
    "<p></p>\n",
    "\n",
    "> Discussion  \n",
    "> What is a bit? and a byte? - they are not cookies! \n",
    "\n",
    "\n",
    "\n"
   ]
  },
  {
   "cell_type": "markdown",
   "metadata": {},
   "source": [
    "## Binary Bits\n",
    "\n",
    "Binary – two state system\n",
    "* 1 for on\n",
    "* 0 for off\n",
    "\n",
    "Bit\n",
    "* Each 0 and 1 is called a bit \n",
    "* 8  bits is called a byte\n",
    "* Contains 255 states (128+64+32+16+8+4+2+1)\n",
    "\n",
    "Examples:\n",
    "* ~1000  bytes is a kilobyte\n",
    "* ~1,000,000 bytes is a megabyte \n",
    "* A song is often 3-5 megabytes\n",
    "\n"
   ]
  },
  {
   "cell_type": "markdown",
   "metadata": {},
   "source": [
    "# Binary Practice\n",
    "\n",
    "* Every bit is a exponential of 2\n",
    " * 1 + 2 + 4 + 8, etc\n",
    "\n",
    "Take\n",
    "\n",
    "$1001$\n",
    "\n",
    "$= 2^3 * 1 + 2^2 * 0 + 2^1 * 0 + 2^0 * 1$\n",
    "\n",
    "$= 8 + 0 + 0 + 1$\n",
    "\n",
    "$= 9$\n",
    "\n",
    "\n",
    "> Math reminder  \n",
    "> Any number to the power of 0 is 1. \n",
    "\n",
    "This means with 4 bits, I can represent 16 different states! (0-15). \n",
    "With 5 bits, I get to double that, representing 32 states (0-31).\n",
    "\n",
    "This double of every bit is huge!\n",
    "\n",
    "> Fun Tip:  \n",
    "> Knowing binary means you can count to 32 on one hand, and 1023 on two hands"
   ]
  },
  {
   "cell_type": "code",
   "execution_count": null,
   "metadata": {},
   "outputs": [],
   "source": [
    "public static int binaryToDecimalConverter(String binaryStr) {\n",
    "    int dec = Integer.parseInt(binaryStr, 2); // convert the string using base 2\n",
    "    return dec;\n",
    "}"
   ]
  },
  {
   "cell_type": "code",
   "execution_count": null,
   "metadata": {},
   "outputs": [],
   "source": [
    "int answer = binaryToDecimalConverter(\"011\");\n",
    "System.out.println(answer)"
   ]
  },
  {
   "cell_type": "code",
   "execution_count": null,
   "metadata": {},
   "outputs": [],
   "source": [
    "int answer = binaryToDecimalConverter(\"111\");\n",
    "System.out.println(answer)"
   ]
  },
  {
   "cell_type": "code",
   "execution_count": null,
   "metadata": {},
   "outputs": [],
   "source": [
    "int answer = binaryToDecimalConverter(\"1011\");\n",
    "System.out.println(answer)"
   ]
  },
  {
   "cell_type": "markdown",
   "metadata": {},
   "source": [
    "Now, let's flip it!"
   ]
  },
  {
   "cell_type": "code",
   "execution_count": null,
   "metadata": {},
   "outputs": [],
   "source": [
    " System.out.print(Integer.toBinaryString(8));"
   ]
  },
  {
   "cell_type": "code",
   "execution_count": null,
   "metadata": {},
   "outputs": [],
   "source": [
    " System.out.print(Integer.toBinaryString(31));"
   ]
  },
  {
   "cell_type": "markdown",
   "metadata": {},
   "source": [
    "## More Data Types\n",
    "\n",
    "When we declare a `type`\n",
    "* we are requesting a certain number of bits!\n",
    "\n",
    "The primative types we know are:\n",
    "* boolean\n",
    "    * 1 bit - yes or no\n",
    "* char\n",
    "    * 16 bit - converted to characters via ascii/unicode table\n",
    "* int\n",
    "    * 32 bit\n",
    "* double\n",
    "    * 64 bit with floating point (decimal)\n",
    "\n",
    "However, there is a range of primative types, based on your need. \n",
    "* java centers the 'states' on zero,\n",
    "* so for example a byte is -128-127, isntead of 0-255\n",
    "\n",
    "| Type |\tSize\t| Supported number range | Category |\n",
    "| - | - | - | - |\n",
    "| byte  | 8 bits  | -128 to 127 | Whole Number |\n",
    "| short | 16 bits |\t-32,768 to 32,767 | Whole Number |\n",
    "| int   | 32 bits |\t-2,147,483,648 to 2,147,483,647 | Whole Number |\n",
    "| float | 32 bits | -3.4 x $10^{38}$ to 3.4 x $10^{38}$ | Floating Point |\n",
    "| long  | 64 bits |\t-9,223,372,036,854,775,808 to 9,223,372,036,854,775,807 | Whole Number |\n",
    "| double | 64 bits | -1.7 x $10^{308}$ to 1.7 x $10^{308}$ | Floating Point |\n",
    "\n",
    "\n",
    "Note: we don't expect you to memorize the number range, but being able to recognize the different sizing is good. \n",
    "\n",
    "> Casting:  \n",
    "> This is also why an int will automatically convert to a double, but a double can't convert to an int without explict casting - possible loss of information!\n"
   ]
  },
  {
   "cell_type": "code",
   "execution_count": null,
   "metadata": {},
   "outputs": [],
   "source": [
    "short red = 127;   // to think about, why did I have to use short, instead of byte?\n",
    "short green = 135;\n",
    "short blue = 255;\n",
    "\n",
    "String htmlCode = String.format(\"#%02X%02X%02X\", red, green, blue);\n",
    "\n",
    "System.out.println(htmlCode);\n"
   ]
  },
  {
   "cell_type": "code",
   "execution_count": null,
   "metadata": {},
   "outputs": [],
   "source": [
    "public static int fib(int n) {\n",
    "    int rtn = 0;\n",
    "    for(int i = 0, current = 1; i < n-1; i++) {\n",
    "        System.out.print(rtn + \" \");\n",
    "        int tmp = rtn;\n",
    "        rtn += current;\n",
    "        current = tmp;\n",
    "    }\n",
    "    System.out.println(rtn);\n",
    "    return rtn;\n",
    "\n",
    "}\n",
    "\n",
    "int fibAns = fib(6);\n"
   ]
  },
  {
   "cell_type": "markdown",
   "metadata": {},
   "source": [
    "![Fibonacci info](img/Fibonacci-Sequence.gif)"
   ]
  },
  {
   "cell_type": "markdown",
   "metadata": {},
   "source": [
    "Let's try it with a variety of values!"
   ]
  },
  {
   "cell_type": "code",
   "execution_count": null,
   "metadata": {},
   "outputs": [],
   "source": [
    "fibAns = fib(24)"
   ]
  },
  {
   "cell_type": "code",
   "execution_count": null,
   "metadata": {},
   "outputs": [],
   "source": [
    "fibAns = fib(47)"
   ]
  },
  {
   "cell_type": "markdown",
   "metadata": {},
   "source": [
    "### Uh oh, we have a problem!\n",
    "\n",
    "$fib(48) = 1,134,903,170 + 1,836,311,903$ \n",
    "\n",
    "$fib(48) = 2,971,215,073$  \n",
    "\n",
    "However, the max size we can hold in an `int` is 2,147,483,647!\n",
    "\n",
    "Let's see what happens!"
   ]
  },
  {
   "cell_type": "code",
   "execution_count": null,
   "metadata": {},
   "outputs": [],
   "source": [
    "fibAns = fib(48)"
   ]
  },
  {
   "cell_type": "markdown",
   "metadata": {},
   "source": [
    "$-1,323,752,223$ - WHAT!\n",
    "\n",
    "The value 'overflows' and wraps around between the max to the min of int! Not at all what we would expect, and causes unusual situations. \n",
    "\n",
    "The fix? Let's go back to our types!\n",
    "* short is less bits than int\n",
    "* long is more bits \n",
    "\n",
    "seems like we should have used `long`"
   ]
  },
  {
   "cell_type": "code",
   "execution_count": null,
   "metadata": {},
   "outputs": [],
   "source": [
    "public static long bigFib(int n) {\n",
    "    long rtn = 0;\n",
    "    long current = 1;\n",
    "    for(int i = 0; i < n-1; i++) {\n",
    "        System.out.print(rtn + \" \");\n",
    "        long tmp = rtn;\n",
    "        rtn += current;\n",
    "        current = tmp;\n",
    "    }\n",
    "    System.out.println(rtn);\n",
    "    return rtn;\n",
    "\n",
    "}\n",
    "\n",
    "long big = bigFib(48);"
   ]
  },
  {
   "cell_type": "code",
   "execution_count": null,
   "metadata": {},
   "outputs": [],
   "source": [
    "big = bigFib(80);\n",
    "System.out.println();\n",
    "System.out.println();\n",
    "// but what about?\n",
    "long big2 = bigFib(100);"
   ]
  },
  {
   "cell_type": "markdown",
   "metadata": {},
   "source": [
    "### Data Types - Summary\n",
    "\n",
    "They are useful to know!\n",
    "* For the most part:\n",
    "    * we use `int` and `double`\n",
    "* However for known cases\n",
    "    * Alright to change it\n",
    "    * long is especially common\n",
    "        * but we have all dealt with a program sucking the computers memory!\n",
    "\n",
    "What happens on **really** big numbers?\n",
    "* BigInteger class - handles an \"unlimited\" size, but at an overhead cost\n",
    "* BigDecimal class - same, but with floating points\n",
    "    * BigDecimal is more accurate than `double`, so recommended for currency calculations"
   ]
  },
  {
   "cell_type": "markdown",
   "metadata": {},
   "source": [
    "## Wrapper Classes\n",
    "\n",
    "The problem: primatives lack actions / functionality\n",
    "The solution: wrapper classes!\n",
    "\n",
    "For every primative, there is a matching Object version.\n",
    "\n",
    "| primative | Object |\n",
    "| - | - |\n",
    "| boolean | Boolean | \n",
    "| byte | Byte |\n",
    "| short | Short |\n",
    "| char | Character |\n",
    "| int | Integer |\n",
    "| float | Float |\n",
    "| long | Long |\n",
    "| double | Double |\n",
    "\n",
    "Like primatives:\n",
    "    * Integer, Character, Double  - are the most used\n",
    "\n",
    "Wrapper Static Functionality:\n",
    "* There a many static methods in each class\n",
    "  * Integer.parseInt(String) - takes a String, converts it to an int\n",
    "  * Double.parseDouble(String) - takes a String, converts it to a double\n",
    "  * Character.isWhitespace(char) - returns true if it is whitespace (space, tab, etc)\n",
    "  * Character.isLetterOrDigit(char) - returns true if it is a letter or digit\n",
    "  * Character.isDigit(char) - return true if it is a digit\n",
    "\n",
    "Let's use them!\n",
    "\n",
    "### Task 1 : Loop and Character.isDigit(char) practice\n",
    "\n",
    "Write a loop that takes a String, and only returns the digits in that String\n",
    "\n",
    "example:\n",
    "```text\n",
    "811-111-111\n",
    "```\n",
    "would become\n",
    "```text\n",
    "811111111\n",
    "```\n",
    "\n",
    "String.length() and String.charAt(x) will be helpful!"
   ]
  },
  {
   "cell_type": "code",
   "execution_count": null,
   "metadata": {},
   "outputs": [],
   "source": [
    "String test = \"811-111-111\";\n",
    "String numOnly = \"\";\n",
    "for(int i =0; i < test.length(); i++) {\n",
    "    if(Character.isDigit(test.charAt(i))) {\n",
    "        numOnly += test.charAt(i);\n",
    "    }\n",
    "}\n",
    "\n",
    "System.out.println(numOnly);"
   ]
  },
  {
   "cell_type": "markdown",
   "metadata": {},
   "source": [
    "Let's also use try some more\n",
    "\n",
    "### Task 2 - Convert to double\n",
    "Write a program that takes  in two numbers\n",
    "* the first number is the \"left\" half of a decimal\n",
    "* the second number is the \"right\" half of a decimal\n",
    "* combine the two halves, and return the double value!\n",
    "\n",
    "See method convert halves to double in the in class activity. "
   ]
  },
  {
   "cell_type": "code",
   "execution_count": null,
   "metadata": {},
   "outputs": [],
   "source": [
    "String one = \"111\";\n",
    "String two = \"456\";\n",
    "\n",
    "double dbl = Double.parseDouble(String.format(\"%s.%s\", one, two));\n",
    "\n",
    "System.out.println(dbl / 2);\n"
   ]
  },
  {
   "cell_type": "markdown",
   "metadata": {},
   "source": [
    "### Autoconversation / Boxing and unboxing\n",
    "\n",
    "Since going back and forth between Integer and int (and other wrapper classes to their type) is so common. Java added boxing/unboxing.\n",
    "\n",
    "Boxing:\n",
    "* Wrapping a primative in its Object wrapper class\n",
    "Unboxing\n",
    "* Pulling the primative out of the object. \n",
    "\n",
    "For example:"
   ]
  },
  {
   "cell_type": "code",
   "execution_count": null,
   "metadata": {},
   "outputs": [],
   "source": [
    "Integer x = 10; \n",
    "System.out.println(x.toString().charAt(0)); // only valid because x is the Object \"Integer\"\n",
    "\n",
    "// butw e can also do the following\n",
    "\n",
    "int value = x + 32; // converted x to an int, added 32, stored in value\n",
    "System.out.println(value); "
   ]
  },
  {
   "cell_type": "markdown",
   "metadata": {},
   "source": [
    "Why not always use the objects?\n",
    "\n",
    "* valid in some languages (python, kotlin)\n",
    "* cost overhead with java and similiar languages\n",
    "    * which slows down your program. \n",
    "\n",
    "\n",
    "We will come across the most important use of boxing/unboxing on Monday! Have a great weekend. "
   ]
  }
 ],
 "metadata": {
  "kernelspec": {
   "display_name": "Java",
   "language": "java",
   "name": "java"
  },
  "language_info": {
   "codemirror_mode": "java",
   "file_extension": ".jshell",
   "mimetype": "text/x-java-source",
   "name": "Java",
   "pygments_lexer": "java",
   "version": "17.0.2+8-LTS-86"
  },
  "orig_nbformat": 4
 },
 "nbformat": 4,
 "nbformat_minor": 2
}
