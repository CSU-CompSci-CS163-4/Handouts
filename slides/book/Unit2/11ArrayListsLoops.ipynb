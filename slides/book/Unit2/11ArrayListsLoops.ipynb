{
 "cells": [
  {
   "cell_type": "markdown",
   "metadata": {},
   "source": [
    "# ArrayLists and For:Each Loops\n",
    "\n",
    "For this lecture we are going to cover:\n",
    "\n",
    "* lists\n",
    "* a specialized loop for list like structures - For:each\n",
    "\n",
    "\n",
    "\n",
    "### Your future in CS \n",
    "I used to include this on my slides, but since these slides have changed - going to just leave it up here for every notebook. I get a lot of questions about more programming courses, the concentrations, and minors in computer science. Here is a brief reminder.\n",
    "\n",
    "CS 165 – Next Course In Sequence, also consider CS 220 (math and stats especially) \n",
    "* CO Jobs Report 2021 – 77% of *all* new jobs in Colorado require programming\n",
    "* 60% of all STEM jobs requires *advanced* (200-300 level) \n",
    "* 31% of all Bachelor of Arts degree titled jobs also required coding skills \n",
    "* 2016 Report found on average jobs that require coding skills paid $22,000 more\n",
    "\n",
    "* Concentrations in CS:\n",
    "  * Computer science has a number of concentrations. General concentration is the most flexible, and even allows students to double major or minor pretty easily. The others are specialized paths in CS. Software Engineering, Computing Systems, Human Centered Computing (Psychology+CS), Networking and Security, Artificial Intelligence, and Computer Science Education. \n",
    "  * Minors: We have three minors. Minor in computer science (choose your own adventure minor), Minor in Machine Learning (popular with stats/math), and Minor in Bioinformatics (Biology+Computer Science)"
   ]
  },
  {
   "cell_type": "markdown",
   "metadata": {},
   "source": [
    "## Reading Check-in\n",
    "\n",
    "Given the following code, what is the size of the list?"
   ]
  },
  {
   "cell_type": "code",
   "execution_count": null,
   "metadata": {},
   "outputs": [],
   "source": [
    "ArrayList<String> list = new ArrayList<>();\n",
    "\n",
    "list.add(\"link\");\n",
    "list.add(\"zelda\");\n",
    "list.add(\"ganon\");\n",
    "list.add(\"epona\");\n",
    "list.add(\"sages\");\n",
    "\n",
    "list.remove(2);\n",
    "\n",
    "System.out.println(list.size());\n",
    "\n",
    "// question 2, what is the element at position 2?\n",
    "\n",
    "System.out.println(list.get(2));\n",
    "\n"
   ]
  },
  {
   "cell_type": "markdown",
   "metadata": {},
   "source": [
    "## ArrayLists\n",
    "\n",
    "So far in programming, we have had to keep a variable for every value we want to keep. But\n",
    "* What happens if we had 100 values, like grades for one student\n",
    "* Or even number of students in this class?\n",
    "* What about students across multiple classes?\n",
    "\n",
    "Keeping every variable would be impossible! Thus enter an ArrayList.\n",
    "\n",
    "ArrayList is a Object (called a DataStructure):\n",
    "* Allows me to keep items\n",
    "  * Stored in a set order!\n",
    "* Let's lets me add items at any point\n",
    "* Let's me remove items\n",
    "* Keeps track of the size, and other internal features\n",
    "\n",
    "> Advanced Topic  \n",
    "> The \"Array\" part of the ArrayList we will come back to in the future. Java actually has multiple types of lists. However, we are starting with ArrayLists as it makes file handling easier. \n"
   ]
  },
  {
   "cell_type": "markdown",
   "metadata": {},
   "source": [
    "So how do how can we visualize array lists? Let's take the code above. \n",
    "\n",
    "### Stack\n",
    "| variable | value |\n",
    "| - | - |\n",
    "| list | ArrayList@7ba7 |\n",
    "\n",
    "\n",
    "### ArrayList@7ba7  (before the remove call)\n",
    "| index | object |\n",
    "| - | - |\n",
    "| 0 | \"link\" |\n",
    "| 1 | \"zelda\" |\n",
    "| 2 | \"ganon\" |\n",
    "| 3 | \"epona\" |\n",
    "| 4 | \"sages\" |\n",
    "\n",
    "\n",
    "However, when we removed ganon, all the values shifted up, to create\n",
    "| index | object |\n",
    "| - | - |\n",
    "| 0 | \"link\" |\n",
    "| 1 | \"zelda\" |\n",
    "| 2 | \"epona\" |\n",
    "| 3 | \"sages\" |\n",
    "\n",
    "<p></p>\n",
    "\n",
    "> Memory Note:  \n",
    "> For simplicity, I put the String directly in the table. In truth, since every String is an Object, it is actually a memory address to that Object location. This matters if we are changing values in Objects we create. \n",
    "\n",
    "### Another Way to Visualize\n",
    "\n",
    "```text\n",
    "[\"link\", \"zelda\", \"ganon\", \"epona\", \"sages\"]\n",
    "```\n",
    "* This way is actually the standard way in which they print.\n",
    "* This is actually how I tend to write it down\n",
    "* I then insert (mentally or visually) 0-N under the items"
   ]
  },
  {
   "cell_type": "markdown",
   "metadata": {},
   "source": [
    "## In class activity:\n",
    "\n",
    "* Create an ArrayList of Strings\n",
    "* Add the name of each person to the ArrayList\n",
    "* Print out the ArrayList\n",
    "  * For reference, you an just type `System.out.println(listname);` to print out the list\n",
    "\n",
    "ArrayLists require the following line at the top of the file `import java.util.ArrayList;` It has already been provided."
   ]
  },
  {
   "cell_type": "code",
   "execution_count": null,
   "metadata": {},
   "outputs": [],
   "source": []
  },
  {
   "cell_type": "markdown",
   "metadata": {},
   "source": [
    "## ArrayList Methods\n",
    "\n",
    "There are a number of useful ArrayList methods. \n",
    "* `.get(int)` - returns the item at the set index\n",
    "* `.remove(int)` - removes the item at the set index (giving the item if needed)\n",
    "* `.set(int, value)` - replaces an item at an already exist index\n",
    "* `.add(value)` - adds an item to the end of the list\n",
    "* `.add(int, value)` - inserts an item at a set location\n",
    "* `.size()` - returns the total number of elements in the list \n",
    "    * yes, this one is confused with .length() all the time."
   ]
  },
  {
   "cell_type": "code",
   "execution_count": null,
   "metadata": {},
   "outputs": [],
   "source": [
    "System.out.println(list.get(0));\n",
    "\n",
    "System.out.println(list.get(3));"
   ]
  },
  {
   "cell_type": "markdown",
   "metadata": {},
   "source": [
    "But what happens if I try to access something not in the list?"
   ]
  },
  {
   "cell_type": "code",
   "execution_count": null,
   "metadata": {},
   "outputs": [],
   "source": [
    "System.out.println(list.get(100));"
   ]
  },
  {
   "cell_type": "markdown",
   "metadata": {},
   "source": [
    "This error is arguably one of the most common errors you will see in programming. \n",
    "Why? \n",
    "* Sometimes we aren't adding to lists when we think\n",
    "* Sometimes we forgot we removed an item\n",
    "* Sometime our loops to access them are simply off-by-one (OB1)\n",
    "\n",
    "Speaking about loops, now that we have .get(), we can easily get every item. \n"
   ]
  },
  {
   "cell_type": "code",
   "execution_count": null,
   "metadata": {},
   "outputs": [],
   "source": [
    "for(int i = 0; i < list.size(); i++) {\n",
    "    System.out.printf(\"%d: %s\\n\", i, list.get(i));\n",
    "}"
   ]
  },
  {
   "cell_type": "markdown",
   "metadata": {},
   "source": [
    "### In Class Activity \n",
    "\n",
    "#### Part 1\n",
    "Take the list you already made, and print it with the indexes, similar to the example above. \n",
    "\n",
    "\n",
    "#### Part 2\n",
    "Modify that loop to print every *other* name. \n",
    "\n",
    "#### Part 3\n",
    "Print out the length of each item in the list."
   ]
  },
  {
   "cell_type": "code",
   "execution_count": null,
   "metadata": {},
   "outputs": [],
   "source": [
    "// to be filled out in class\n",
    "\n"
   ]
  },
  {
   "cell_type": "markdown",
   "metadata": {},
   "source": [
    "## For:each loop\n",
    "\n",
    "This last idea of grabbing an item, storing it, and using methods on that item is **very** common.\n",
    "\n",
    "```java\n",
    "for(int i = 0; i < names.size(); i++) {\n",
    "    String name = names.get(i);\n",
    "    System.out.println(\"length is \" + name.length());\n",
    "}\n",
    "```\n",
    "\n",
    "As such, there is a specialized loop structure we use. The **for each loop** or **enhanced for loop**.\n",
    "\n",
    "```java\n",
    "for(String name : names) {\n",
    "    System.out.println(\"length is \" + name.length());\n",
    "}\n",
    "```\n",
    "\n",
    "Yes, the above are equivalent! \n"
   ]
  },
  {
   "cell_type": "code",
   "execution_count": null,
   "metadata": {},
   "outputs": [],
   "source": [
    "for(String name : names) {\n",
    "    System.out.println(\"length is \" + name.length());\n",
    "}"
   ]
  },
  {
   "cell_type": "markdown",
   "metadata": {},
   "source": [
    "### In Class Activity\n",
    "\n",
    "Write a loop (using a for:each), that prints out the following for every item in your ArrayList you have been using. \n",
    "\n",
    "```text\n",
    "Name is N characters long, and the first character is X and the middle character is Y and the last character is Z.\n",
    "```\n",
    "\n",
    "Example:\n",
    "```text\n",
    "Link is 4 characters long, and the first character is L, and the middle character is n, and the last character is k.\n",
    "``` \n",
    "\n",
    "Some useful String methods to help out:\n",
    "* .length()\n",
    "* .charAt(int)"
   ]
  },
  {
   "cell_type": "code",
   "execution_count": null,
   "metadata": {},
   "outputs": [],
   "source": []
  }
 ],
 "metadata": {
  "interpreter": {
   "hash": "507d0580e2b527a70f64f40fb9b6583b2a77378ccde06f27533dbdd39bb8d03d"
  },
  "kernelspec": {
   "display_name": "Java",
   "language": "java",
   "name": "java"
  },
  "language_info": {
   "codemirror_mode": "java",
   "file_extension": ".jshell",
   "mimetype": "text/x-java-source",
   "name": "Java",
   "pygments_lexer": "java",
   "version": "17.0.1+12"
  },
  "orig_nbformat": 4
 },
 "nbformat": 4,
 "nbformat_minor": 2
}
