{
 "cells": [
  {
   "cell_type": "markdown",
   "metadata": {},
   "source": [
    "# More Loops\n",
    "\n",
    "In this lecture we will repeat ourselves.\n",
    "\n",
    "In this lecture we will repeat ourselves and cover:\n",
    "* Incrementor / decrementor review\n",
    "* More loops\n",
    "* Break/Continue\n",
    "* Do-While loops\n",
    "\n",
    "\n",
    "### Your future in CS \n",
    "I used to include this on my slides, but since these slides have changed - going to just leave it up here for every notebook. I get a lot of questions about more programming courses, the concentrations, and minors in computer science. Here is a brief reminder.\n",
    "\n",
    "CS 165 – Next Course In Sequence, also consider CS 220 (math and stats especially) \n",
    "* CO Jobs Report 2021 – 77% of *all* new jobs in Colorado require programming\n",
    "* 60% of all STEM jobs requires *advanced* (200-300 level) \n",
    "* 31% of all Bachelor of Arts degree titled jobs also required coding skills \n",
    "* 2016 Report found on average jobs that require coding skills paid $22,000 more\n",
    "\n",
    "* Concentrations in CS:\n",
    "  * Computer science has a number of concentrations. \n",
    "    * [General concentration](https://catalog.colostate.edu/general-catalog/colleges/natural-sciences/computer-science/computer-science-major/computer-science-concentration/#requirementstext) is the most flexible, and even allows students to double major or minor pretty easily. \n",
    "    * [Software Engineering](https://catalog.colostate.edu/general-catalog/colleges/natural-sciences/computer-science/computer-science-major-software-engineering-concentration/)\n",
    "    * [Computing Systems](https://catalog.colostate.edu/general-catalog/colleges/natural-sciences/computer-science/computer-science-major-computing-systems-concentration/)\n",
    "    * [Human Centered Computing](https://catalog.colostate.edu/general-catalog/colleges/natural-sciences/computer-science/computer-science-major/human-centered-computing-concentration/)\n",
    "    * [Networks and Security](https://catalog.colostate.edu/general-catalog/colleges/natural-sciences/computer-science/computer-science-major-networks-security-concentration/)\n",
    "    * [Artificial Intelligence](https://catalog.colostate.edu/general-catalog/colleges/natural-sciences/computer-science/computer-science-major-artificial-intelligence-machine-learning-concentration/)\n",
    "    * Computer Science Education. \n",
    "  * Minors: \n",
    "    * [Minor in Computer Science](https://catalog.colostate.edu/general-catalog/colleges/natural-sciences/computer-science/computer-science-minor/) - choose your own adventure minor\n",
    "    * [Minor in Machine Learning](https://catalog.colostate.edu/general-catalog/colleges/natural-sciences/computer-science/machine-learning-minor/) - popular with stats/math, and engineering\n",
    "    * [Minor in Bioinformatics](https://catalog.colostate.edu/general-catalog/colleges/natural-sciences/computer-science/bioinformatics-minor/) - Biology + Computer Science\n"
   ]
  },
  {
   "cell_type": "markdown",
   "metadata": {},
   "source": [
    "## Reading Review\n",
    "-- There will be no iclicker required, just discussion due to guest instructor.\n",
    "\n",
    "Answer the questions based on the following code:\n",
    "\n",
    "### Question 1:\n",
    "What is printed at the end?\n",
    "\n",
    "### Question 2:\n",
    "What is the value of counter?"
   ]
  },
  {
   "cell_type": "code",
   "execution_count": 4,
   "metadata": {},
   "outputs": [
    {
     "name": "stdout",
     "output_type": "stream",
     "text": [
      "11\n",
      "Track: 10\n"
     ]
    }
   ],
   "source": [
    "int counter = 10;\n",
    "String tracker = \"Track:\";\n",
    "\n",
    "do {\n",
    "    tracker += \" \" + counter;\n",
    "\n",
    "}while(++counter < 11);\n",
    "\n",
    "System.out.println(counter);\n",
    "System.out.println(tracker);\n"
   ]
  },
  {
   "cell_type": "markdown",
   "metadata": {},
   "source": [
    "And the final discussion item, what happens if we change\n",
    "\n",
    "`++counter` to `counter++`"
   ]
  },
  {
   "cell_type": "code",
   "execution_count": 5,
   "metadata": {},
   "outputs": [
    {
     "name": "stdout",
     "output_type": "stream",
     "text": [
      "12\n",
      "Track: 10 11\n"
     ]
    }
   ],
   "source": [
    "int counter = 10;\n",
    "String tracker = \"Track:\";\n",
    "\n",
    "do {\n",
    "    tracker += \" \" + counter;\n",
    "\n",
    "}while(counter++ < 11);\n",
    "\n",
    "System.out.println(counter);\n",
    "System.out.println(tracker);"
   ]
  },
  {
   "cell_type": "markdown",
   "metadata": {},
   "source": [
    "## Incrementor and Decrementors\n",
    "\n",
    "While not \"required\" for coding, there are uses for incrementor and decrementor operators.\n",
    "\n",
    "* ++ or -- BEFORE the variable means\n",
    "  * add or subtract by 1, and then use the modified variable\n",
    "* ++ or -- AFTER the variable means\n",
    "  * use the value in the variable, and then add or subtract by one modifying the variable\n",
    "\n",
    "Admittedly, good coding can avoid using it, but there are cases where it just makes life easier. "
   ]
  },
  {
   "cell_type": "code",
   "execution_count": 7,
   "metadata": {},
   "outputs": [
    {
     "name": "stdout",
     "output_type": "stream",
     "text": [
      "Scoobert \"Scooby\" Doo\n",
      "Norville \"Shaggy\" Rogers\n"
     ]
    }
   ],
   "source": [
    "public class TrackerExample {\n",
    "    ArrayList<String> values;\n",
    "    int current = 0;\n",
    "\n",
    "    public TrackerExample(ArrayList<String> toTrack) { // just adding values here to make life easy\n",
    "        values = toTrack;\n",
    "    }\n",
    "\n",
    "    public String getCurrent() {\n",
    "        return values.get(current++);\n",
    "    }\n",
    "\n",
    "}\n",
    "\n",
    "ArrayList<String> students = new ArrayList<>();\n",
    "\n",
    "students.add(\"Scoobert \\\"Scooby\\\" Doo\");\n",
    "students.add(\"Norville \\\"Shaggy\\\" Rogers\");\n",
    "students.add(\"Daphne Blake\");\n",
    "students.add(\"Velma Dinkley\");\n",
    "students.add(\"Fred Jones\");\n",
    "TrackerExample tracked = new TrackerExample(students);\n",
    "\n",
    "\n",
    "System.out.println(tracked.getCurrent());\n",
    "\n",
    "System.out.println(tracked.getCurrent());\n"
   ]
  },
  {
   "cell_type": "markdown",
   "metadata": {},
   "source": [
    "#### Needed? - Your call. \n",
    "```java\n",
    "public String getCurrent() {\n",
    "    return values.get(current++);\n",
    "}\n",
    "```\n",
    "\n",
    "could have been written as:\n",
    "\n",
    "```java\n",
    "public String getCurrent() {\n",
    "    String tmp = values.get(current);\n",
    "    current += 1;\n",
    "    return tmp;\n",
    "}\n",
    "```\n",
    "\n",
    "The style / choice is yours. \n"
   ]
  },
  {
   "cell_type": "markdown",
   "metadata": {},
   "source": [
    "## Do-While\n",
    "\n",
    "When it comes to looping we have covered:\n",
    "\n",
    "* while loop\n",
    "* for loop\n",
    "* for:each loop\n",
    "\n",
    "There is a 4th type in java (and most languages)\n",
    "\n",
    "The **do-while** loop. \n",
    "\n",
    "#### What makes it different?\n",
    "The do-while loop is the loop in which 1 run is guaranteed! \n",
    "\n",
    "Format:\n",
    "\n",
    "```java\n",
    "do {\n",
    "    // code to repeat\n",
    "}while(/*condition*/); // notice semi at the end.\n",
    "```\n"
   ]
  },
  {
   "cell_type": "code",
   "execution_count": 10,
   "metadata": {},
   "outputs": [
    {
     "name": "stdout",
     "output_type": "stream",
     "text": [
      "Continue (yes or no)? \n",
      "Answer is currently: no\n",
      "Continue (yes or no)? \n",
      "Continue (yes or no)? \n",
      "Continue (yes or no)? \n"
     ]
    }
   ],
   "source": [
    "Scanner in = new Scanner(System.in);\n",
    "\n",
    "String answer = \"y\";\n",
    "while(answer.startsWith(\"y\")) {\n",
    "    System.out.println(\"Continue (yes or no)? \");\n",
    "    answer = in.nextLine().trim();    \n",
    "}\n",
    "\n",
    "System.out.println(\"Answer is currently: \" + answer);\n",
    "do {\n",
    "    System.out.println(\"Continue (yes or no)? \");\n",
    "    answer = in.nextLine().trim();    \n",
    "}while(answer.startsWith(\"y\"));"
   ]
  },
  {
   "cell_type": "markdown",
   "metadata": {},
   "source": [
    "For the most part, you actually don't use do-while, but for the cases it is useful, it is extremely useful!\n",
    "\n",
    "### In class activity\n",
    "\n",
    "Write a program that prompts the user to enter a number between 1-12. Keep looping until they guess the correct number. \n",
    "\n",
    "See Inclass.java for a skeleton setup."
   ]
  },
  {
   "cell_type": "code",
   "execution_count": 15,
   "metadata": {},
   "outputs": [
    {
     "name": "stdout",
     "output_type": "stream",
     "text": [
      "TESTING/SPOILER - the number is 12\n",
      "Guess a number between 1 and 12: \n",
      "Congrats you escaped!\n"
     ]
    }
   ],
   "source": [
    "class GuessingGame {\n",
    "    Random rnd = new Random();\n",
    "    Scanner in = new Scanner(System.in);\n",
    "\n",
    "    public void runGame() {\n",
    "        int correct = rnd.nextInt(12)+1; // nextInt returns 0-11, +1 makes it 1-12\n",
    "        int guess = 0;\n",
    "        System.out.println(\"TESTING/SPOILER - the number is \" + correct);\n",
    "        do {\n",
    "            System.out.print(\"Guess a number between 1 and 12: \");\n",
    "            if(in.hasNextInt()) {\n",
    "                guess = in.nextInt();\n",
    "            }else {\n",
    "                System.out.println(\"Not a number! Try again\");\n",
    "                in.next();\n",
    "            }\n",
    "            System.out.println();\n",
    "        }while(guess != correct);\n",
    "        System.out.println(\"Congrats you escaped!\");\n",
    "    }\n",
    "}\n",
    "\n",
    "GuessingGame game = new GuessingGame();\n",
    "game.runGame();"
   ]
  },
  {
   "cell_type": "markdown",
   "metadata": {},
   "source": [
    "## Break and Continue\n",
    "\n",
    "* break\n",
    "  * Sometimes you want to exit a loop early\n",
    "* continue\n",
    "  * Sometimes you want to restart at the top of the loop / skip the rest of the code below it. \n",
    "  * Once we introduce continue, for and while loops start to become different! \n",
    "\n",
    "Useful commands to help modify how loops work!\n",
    "\n",
    "Let's look at code. "
   ]
  },
  {
   "cell_type": "code",
   "execution_count": 16,
   "metadata": {},
   "outputs": [
    {
     "name": "stdout",
     "output_type": "stream",
     "text": [
      "Odd? 1\n"
     ]
    }
   ],
   "source": [
    "for(int i = 1; i < 10; i++) {\n",
    "    if (i % 2 == 0) break;\n",
    "    System.out.println(\"Odd? \" + i);\n",
    "}"
   ]
  },
  {
   "cell_type": "markdown",
   "metadata": {},
   "source": [
    "Notice, the loop stopped the moment break was executed!"
   ]
  },
  {
   "cell_type": "code",
   "execution_count": 17,
   "metadata": {},
   "outputs": [
    {
     "name": "stdout",
     "output_type": "stream",
     "text": [
      "Odd? 1\n",
      "Odd? 3\n",
      "Odd? 5\n",
      "Odd? 7\n",
      "Odd? 9\n"
     ]
    }
   ],
   "source": [
    "for(int i = 0; i < 10; i++) {\n",
    "    if (i%2 == 0) continue;\n",
    "    System.out.println(\"Odd? \" + i); // this line will never be executed when i is even!\n",
    "}"
   ]
  },
  {
   "cell_type": "markdown",
   "metadata": {},
   "source": [
    "### More realistic example?\n",
    "\n",
    "What if we wanted to skip empty lines when reading a file?\n",
    "\n",
    "* Option A: We nest everything in a giant if/else statement\n",
    "* Option B: We have small if with a continue that skips the rest of the lines\n",
    "\n",
    "Both are valid, and the preference is yours. "
   ]
  },
  {
   "cell_type": "markdown",
   "metadata": {},
   "source": [
    "## Nesting Loops\n",
    "\n",
    "Loops can contain any block of code, which means it can contain more loops!\n",
    "\n",
    "Let's look at the following code, and try to figure out what is printed! "
   ]
  },
  {
   "cell_type": "code",
   "execution_count": 22,
   "metadata": {},
   "outputs": [
    {
     "name": "stdout",
     "output_type": "stream",
     "text": [
      "Seat: A0 A1\n",
      "Seat: B0 B1\n",
      "Seat: C0 C1\n"
     ]
    }
   ],
   "source": [
    "\n",
    "for (char c = 'A'; c < 'D'; c++) {\n",
    "    System.out.print(\"Seat:\");\n",
    "    for (int i = 0; i < 2; i++) {\n",
    "        System.out.print(\" \" + c + i);\n",
    "    }\n",
    "    System.out.println();\n",
    "}\n"
   ]
  },
  {
   "cell_type": "markdown",
   "metadata": {},
   "source": [
    "### Question 1:\n",
    "What code would I want to change if I wanted to make 3 seats per row?\n",
    "\n",
    "### Question 2:\n",
    "What code would I change if I wanted to add another row?\n",
    "\n",
    "\n",
    "### Question 3:\n",
    "What are other examples you can think of with row by column (you are looking at one...)"
   ]
  },
  {
   "cell_type": "markdown",
   "metadata": {},
   "source": [
    "### In Class Activity \n",
    "\n",
    "Your task is to do the following:\n",
    "\n",
    "* In the 'countCharacters' method, it will count\n",
    "  * count the number of times a character shows up\n",
    "  * print the character:count \n",
    "    * after you are done counting, but before the next letter\n",
    "* You *do not* have to worry about removing duplicates. \n",
    "  * Though if you have time, that would be  good challenge using an ArrayList to track the characters you have seen. \n",
    "\n",
    "\n",
    "Implementation tips:\n",
    "1. discuss as a group how would you do this\n",
    "      * Can you talk about it in english and then work towards pseudocode. \n",
    "1. First code what you know. \n",
    "      * Write a loop that just prints the characters followed by a colon.\n",
    "      * Add an inner loop that also loops through the string. Print out what is going on!\n",
    "\n",
    "Example `countCharacters(\"blueberry\")` will print:\n",
    "```text\n",
    "b:2\n",
    "l:1\n",
    "u:1\n",
    "e:2\n",
    "b:2\n",
    "e:2\n",
    "r:2\n",
    "r:2\n",
    "y:1\n",
    "```\n"
   ]
  },
  {
   "cell_type": "code",
   "execution_count": 26,
   "metadata": {},
   "outputs": [
    {
     "name": "stdout",
     "output_type": "stream",
     "text": [
      "b:2\n",
      "l:1\n",
      "u:1\n",
      "e:2\n",
      "b:2\n",
      "e:2\n",
      "r:2\n",
      "r:2\n",
      "y:1\n",
      "\n",
      "k:3\n",
      "i:4\n",
      "n:4\n",
      "n:4\n",
      "i:4\n",
      "k:3\n",
      "i:4\n",
      "n:4\n",
      "n:4\n",
      "i:4\n",
      "c:1\n",
      "k:3\n"
     ]
    }
   ],
   "source": [
    "public static void countCharacters(String line) {\n",
    "    for(int i = 0; i < line.length(); i++) {\n",
    "        char current = line.charAt(i);\n",
    "        int count = 0;\n",
    "        for(int j = 0; j< line.length(); j++) {\n",
    "            if(current == line.charAt(j)) {\n",
    "                count += 1;\n",
    "            }\n",
    "        }\n",
    "        System.out.println(current + \":\" + count);\n",
    "    }\n",
    "}\n",
    "\n",
    "\n",
    "countCharacters(\"blueberry\");\n",
    "System.out.println();\n",
    "countCharacters(\"kinnikinnick\");"
   ]
  },
  {
   "cell_type": "markdown",
   "metadata": {},
   "source": [
    "### Overall\n",
    "\n",
    "There is a lot of power with loops BUT humans find them hard. We aren't used to thinking in this manner.\n",
    "\n",
    "* Keep working and practicing. \n",
    "* Develop in small steps.\n",
    "* Constantly print or use a debugger to see/visualize what is going on!\n",
    "* Never write all your code without compiling / testing it, always do it in steps. "
   ]
  }
 ],
 "metadata": {
  "interpreter": {
   "hash": "507d0580e2b527a70f64f40fb9b6583b2a77378ccde06f27533dbdd39bb8d03d"
  },
  "kernelspec": {
   "display_name": "Java",
   "language": "java",
   "name": "java"
  },
  "language_info": {
   "codemirror_mode": "java",
   "file_extension": ".jshell",
   "mimetype": "text/x-java-source",
   "name": "Java",
   "pygments_lexer": "java",
   "version": "17.0.1+12"
  },
  "orig_nbformat": 4
 },
 "nbformat": 4,
 "nbformat_minor": 2
}
