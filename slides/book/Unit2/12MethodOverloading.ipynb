{
 "cells": [
  {
   "cell_type": "markdown",
   "metadata": {},
   "source": [
    "# Method Overloading\n",
    "\n",
    "In this lecture we will focus on methods, and more importantly method overloading. \n",
    "\n",
    "\n",
    "\n",
    "### Your future in CS \n",
    "I used to include this on my slides, but since these slides have changed - going to just leave it up here for every notebook. I get a lot of questions about more programming courses, the concentrations, and minors in computer science. Here is a brief reminder.\n",
    "\n",
    "CS 165 – Next Course In Sequence, also consider CS 220 (math and stats especially) \n",
    "* CO Jobs Report 2021 – 77% of *all* new jobs in Colorado require programming\n",
    "* 60% of all STEM jobs requires *advanced* (200-300 level) \n",
    "* 31% of all Bachelor of Arts degree titled jobs also required coding skills \n",
    "* 2016 Report found on average jobs that require coding skills paid $22,000 more\n",
    "\n",
    "* Concentrations in CS:\n",
    "  * Computer science has a number of concentrations. [General concentration](https://catalog.colostate.edu/general-catalog/colleges/natural-sciences/computer-science/computer-science-major/computer-science-concentration/#requirementstext) is the most flexible, and even allows students to double major or minor pretty easily. The others are specialized paths in CS. [Software Engineering](https://catalog.colostate.edu/general-catalog/colleges/natural-sciences/computer-science/computer-science-major-software-engineering-concentration/), [Computing Systems](https://catalog.colostate.edu/general-catalog/colleges/natural-sciences/computer-science/computer-science-major-computing-systems-concentration/), [Human Centered Computing](https://catalog.colostate.edu/general-catalog/colleges/natural-sciences/computer-science/computer-science-major/human-centered-computing-concentration/), [Networks and Security](https://catalog.colostate.edu/general-catalog/colleges/natural-sciences/computer-science/computer-science-major-networks-security-concentration/), [Artificial Intelligence](https://catalog.colostate.edu/general-catalog/colleges/natural-sciences/computer-science/computer-science-major-artificial-intelligence-machine-learning-concentration/), and Computer Science Education. \n",
    "  * Minors: We have three minors. [Minor in Computer Science](https://catalog.colostate.edu/general-catalog/colleges/natural-sciences/computer-science/computer-science-minor/) (choose your own adventure minor), [Minor in Machine Learning](https://catalog.colostate.edu/general-catalog/colleges/natural-sciences/computer-science/machine-learning-minor/) (popular with stats/math, and engineering), and [Minor in Bioinformatics](https://catalog.colostate.edu/general-catalog/colleges/natural-sciences/computer-science/bioinformatics-minor/) (Biology+Computer Science)"
   ]
  },
  {
   "cell_type": "markdown",
   "metadata": {},
   "source": [
    "## Reading Check-in Question:\n",
    "\n",
    "Given the following code, what is printed. Code is slightly modified from 13.2.1 method naming overloading activity. "
   ]
  },
  {
   "cell_type": "code",
   "execution_count": 13,
   "metadata": {},
   "outputs": [],
   "source": [
    "public class DatePrinter {\n",
    "   public void datePrint(int day, int month, int year) {\n",
    "      System.out.print(\"1\");\n",
    "   }\n",
    "\n",
    "   public void datePrint(int day, String month, int year) {\n",
    "      System.out.print(\"2\");\n",
    "      datePrint(day, Integer.parseInt(month), year);\n",
    "   }\n",
    "\n",
    "   public void datePrint(int month, int year) {\n",
    "      \n",
    "      System.out.print(\"3\");\n",
    "      datePrint(1, month, year);\n",
    "      datePrint(1, String.valueOf(month), year);\n",
    "   }\n",
    "}\n",
    "\n",
    "DatePrinter printer = new DatePrinter();"
   ]
  },
  {
   "cell_type": "code",
   "execution_count": 5,
   "metadata": {},
   "outputs": [
    {
     "name": "stdout",
     "output_type": "stream",
     "text": [
      "1\n"
     ]
    }
   ],
   "source": [
    "printer.datePrint(3, 7, 2022);"
   ]
  },
  {
   "cell_type": "code",
   "execution_count": 15,
   "metadata": {},
   "outputs": [
    {
     "name": "stdout",
     "output_type": "stream",
     "text": [
      "21"
     ]
    }
   ],
   "source": [
    "printer.datePrint(1, \"7\", 2022);"
   ]
  },
  {
   "cell_type": "code",
   "execution_count": 11,
   "metadata": {},
   "outputs": [
    {
     "name": "stdout",
     "output_type": "stream",
     "text": [
      "3121"
     ]
    }
   ],
   "source": [
    "ArrayList<String> months = new ArrayList();\n",
    "months.add(\"July\"); months.add(\"August\");\n",
    "printer.datePrint(months.indexOf(\"July\"), 2022);"
   ]
  },
  {
   "cell_type": "markdown",
   "metadata": {},
   "source": [
    "## Method Overloading\n",
    "\n",
    "* You can have the same method name, different parameters \n",
    "* Java will match the parameters on which method is called\n",
    "* Best practice:\n",
    "    * Methods with less parameters call the most detailed version\n",
    "    * This let's you have \"default\" values for methods\n",
    "    * Makes it so you only have one place to update!\n",
    "\n",
    "Let's look at code. "
   ]
  },
  {
   "cell_type": "code",
   "execution_count": 17,
   "metadata": {},
   "outputs": [
    {
     "name": "stdout",
     "output_type": "stream",
     "text": [
      "The answer is 42\n"
     ]
    }
   ],
   "source": [
    "public static String overloaded(int x) {\n",
    "    return overloaded(x, \"answer\");\n",
    "}\n",
    "\n",
    "public static String overloaded(int x, String str) {\n",
    "    return \"The \" + str + \" is \" + x; \n",
    "}\n",
    "\n",
    "\n",
    "System.out.println(overloaded(42));"
   ]
  },
  {
   "cell_type": "markdown",
   "metadata": {},
   "source": [
    "### Tracing methods \n",
    "\n",
    "#### Box drawing style\n",
    "* Draw a box for each method\n",
    "* Have a line going from method to method\n",
    "    * in order of the call. \n",
    "    * include parameters \n",
    "* Have a line going back to the calling method\n",
    "    * include the return value\n",
    "\n",
    "![Tracing overloaded methods](img/overloading_tracing.png)\n",
    "\n",
    "#### Indentation Style\n",
    "\n",
    "You can also write it out, often with indents. \n",
    "\n",
    "* In Main -> Calling overloaded(42)\n",
    "  * in overloaded(42)\n",
    "  * calling overloaded(42, \"answer\")\n",
    "    * in overloaded(42)\n",
    "    * returning \"The answer is 42\"\n",
    "  * returning \"The answer is 42\"\n",
    "* Printing \"The answer is 42\"\n",
    "* end program. "
   ]
  },
  {
   "cell_type": "markdown",
   "metadata": {},
   "source": [
    "### In class activity\n",
    "\n",
    "For this In class activity, you will write both overloaded constructors and overloaded methods. \n",
    "\n",
    "In Contact.java, you will find a number of methods implemented for you. Mainly dealing with parts of getting a phone number.\n",
    "We need you to implement:\n",
    "\n",
    "* Constructors:\n",
    "    * Contact(String name, String phone)\n",
    "    * Contact(String name, long phone)\n",
    "* Methods: \n",
    "    * public void setPhone(long phone)\n",
    "    * public void setPhone(String phone)\n",
    "\n",
    "#### public void setPhone(String phone)\n",
    "This is the hardest one building off of last Friday. This method should take in a formatted number, and remove anything that isn't a number. This means using the following tools:\n",
    "* Character.isDigit()\n",
    "* .charAt(int) - from String, so phone.charAt(int)\n",
    "* a for loop, that loops from 0 -> phone.length()\n",
    "* Long.parseLong(String) - to convert the final number only number to a long \n",
    "* Then call setPhone(long)\n",
    "    \n",
    "\n"
   ]
  },
  {
   "cell_type": "code",
   "execution_count": 30,
   "metadata": {},
   "outputs": [
    {
     "name": "stdout",
     "output_type": "stream",
     "text": [
      "Name: Elisa, phone: (970) 491-9147\n",
      "Name: Bess, phone: (970) 491-1352\n"
     ]
    }
   ],
   "source": [
    "public class Contact {\n",
    "    long phone = 0;\n",
    "    String name;\n",
    "\n",
    "    public Contact(String name) {\n",
    "        this.name = name;\n",
    "    }\n",
    "\n",
    "    // task 1 - constructors\n",
    "\n",
    "    public String getFormattedPhone() {\n",
    "        return String.format(\"(%d) %d-%d\", getAreaCode(), getPrefix(), getNumber());\n",
    "    }\n",
    "\n",
    "    public int getPrefix()  {\n",
    "        long tmp = phone / 10000;\n",
    "        return (int)(tmp % 1000);\n",
    "    }\n",
    "\n",
    "    public int getAreaCode() {\n",
    "        long tmp = phone / 10000000;\n",
    "        return (int)(tmp % 1000);\n",
    "    }\n",
    "\n",
    "    public int getNumber() {\n",
    "        return (int) phone % 10000;\n",
    "    }\n",
    "\n",
    "    public long getPhone() {\n",
    "        return phone;\n",
    "    }\n",
    "\n",
    "   // task 2, setPhone\n",
    "\n",
    "    public String toString() {\n",
    "        return String.format(\"Name: %s, phone: %s\", name, getFormattedPhone());\n",
    "    }\n",
    "\n",
    "}\n",
    "\n",
    "ArrayList<Contact> advisors = new ArrayList<>();\n",
    "Contact bess = new Contact(\"Bess\");\n",
    "bess.setPhone(9704915944L); // the \"L\" at the end is how we tell java it is a long, and not an int \n",
    "\n",
    "advisors.add(new Contact(\"Elisa\", \"(970) 491-3739\"));\n",
    "advisors.add(new Contact(\"Tran\"));\n",
    "advisors.add(new Contact(\"Heidi\"));\n",
    "advisors.add(bess);\n",
    "\n",
    "for(Contact advisor : advisors) {\n",
    "    if(advisor.getPhone() > 0) {\n",
    "        System.out.println(advisor);\n",
    "    }\n",
    "}"
   ]
  },
  {
   "cell_type": "markdown",
   "metadata": {},
   "source": [
    "## Iterative Development \n",
    "\n",
    "* Programs should be developed in:\n",
    "    * Small tests\n",
    "    * Constantly compiling\n",
    "    * Constantly testing\n",
    "    * Even only a few lines at a time!\n",
    "* This is called iterative development\n",
    "* Has been shown to be better than writing a bunch at once!\n",
    "\n",
    "### Methods for functional programmers?\n",
    "\n",
    "Let's talk about math functions.\n",
    "\n",
    "* $f(x) = 2^x$  \n",
    "* $f(2) = 2^2 = 4$\n",
    "* $f(3) = 2^3 = 8$\n",
    "* $f(5) = 2^5 = 32$\n",
    "* $f(y,x) = y^x$\n",
    "\n",
    "The power of a function is to repeat and reuse, and return a value.\n",
    "\n",
    "#### Such a setup is easier to:\n",
    "* debug\n",
    "* deal with concurrency \n",
    "* deal with speed boosts\n",
    "* easier to swap implementations \n",
    "\n",
    "As you write methods, really focus on this idea!\n",
    "\n",
    "* What is my quest? (task)\n",
    "    * What are the tasks I need to complete towards my tasks?\n",
    "* What do I know?\n",
    "* What do I need?\n",
    "\n",
    "Above all, continue to go back to \n",
    "\n",
    "* Divide\n",
    "    * Break tasks into smaller parts\n",
    "    * Solve those tasks - hint if you are writing more than 20 lines, should probably beak it up into smaller parts\n",
    "* Conquer\n",
    "* Glue\n",
    "\n",
    "\n"
   ]
  }
 ],
 "metadata": {
  "interpreter": {
   "hash": "507d0580e2b527a70f64f40fb9b6583b2a77378ccde06f27533dbdd39bb8d03d"
  },
  "kernelspec": {
   "display_name": "Java",
   "language": "java",
   "name": "java"
  },
  "language_info": {
   "codemirror_mode": "java",
   "file_extension": ".jshell",
   "mimetype": "text/x-java-source",
   "name": "Java",
   "pygments_lexer": "java",
   "version": "17.0.1+12"
  },
  "orig_nbformat": 4
 },
 "nbformat": 4,
 "nbformat_minor": 2
}
