{
 "cells": [
  {
   "cell_type": "markdown",
   "metadata": {},
   "source": [
    "# Reading Files using Java\n",
    "\n",
    "Placeholder for now"
   ]
  }
 ],
 "metadata": {
  "interpreter": {
   "hash": "507d0580e2b527a70f64f40fb9b6583b2a77378ccde06f27533dbdd39bb8d03d"
  },
  "kernelspec": {
   "display_name": "Python 3.10.2 64-bit (windows store)",
   "language": "python",
   "name": "python3"
  },
  "language_info": {
   "name": "python",
   "version": "3.10.2"
  },
  "orig_nbformat": 4
 },
 "nbformat": 4,
 "nbformat_minor": 2
}
