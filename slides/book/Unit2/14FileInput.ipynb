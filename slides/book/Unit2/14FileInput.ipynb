{
 "cells": [
  {
   "cell_type": "markdown",
   "metadata": {},
   "source": [
    "# Reading Files using Java\n",
    "\n",
    "In this lecture we will discuss:\n",
    "* Scanner review\n",
    "* Input/Output Streams in Java\n",
    "* FileInputStream and the File class\n",
    "* Reading in from text based files.\n",
    "\n",
    "\n",
    "\n",
    "### Your future in CS \n",
    "I used to include this on my slides, but since these slides have changed - going to just leave it up here for every notebook. I get a lot of questions about more programming courses, the concentrations, and minors in computer science. Here is a brief reminder.\n",
    "\n",
    "CS 165 – Next Course In Sequence, also consider CS 220 (math and stats especially) \n",
    "* CO Jobs Report 2021 – 77% of *all* new jobs in Colorado require programming\n",
    "* 60% of all STEM jobs requires *advanced* (200-300 level) \n",
    "* 31% of all Bachelor of Arts degree titled jobs also required coding skills \n",
    "* 2016 Report found on average jobs that require coding skills paid $22,000 more\n",
    "\n",
    "* Concentrations in CS:\n",
    "  * Computer science has a number of concentrations. \n",
    "    * [General concentration](https://catalog.colostate.edu/general-catalog/colleges/natural-sciences/computer-science/computer-science-major/computer-science-concentration/#requirementstext) is the most flexible, and even allows students to double major or minor pretty easily. \n",
    "    * [Software Engineering](https://catalog.colostate.edu/general-catalog/colleges/natural-sciences/computer-science/computer-science-major-software-engineering-concentration/)\n",
    "    * [Computing Systems](https://catalog.colostate.edu/general-catalog/colleges/natural-sciences/computer-science/computer-science-major-computing-systems-concentration/)\n",
    "    * [Human Centered Computing](https://catalog.colostate.edu/general-catalog/colleges/natural-sciences/computer-science/computer-science-major/human-centered-computing-concentration/)\n",
    "    * [Networks and Security](https://catalog.colostate.edu/general-catalog/colleges/natural-sciences/computer-science/computer-science-major-networks-security-concentration/)\n",
    "    * [Artificial Intelligence](https://catalog.colostate.edu/general-catalog/colleges/natural-sciences/computer-science/computer-science-major-artificial-intelligence-machine-learning-concentration/)\n",
    "    * Computer Science Education. \n",
    "  * Minors: \n",
    "    * [Minor in Computer Science](https://catalog.colostate.edu/general-catalog/colleges/natural-sciences/computer-science/computer-science-minor/) - choose your own adventure minor\n",
    "    * [Minor in Machine Learning](https://catalog.colostate.edu/general-catalog/colleges/natural-sciences/computer-science/machine-learning-minor/) - popular with stats/math, and engineering\n",
    "    * [Minor in Bioinformatics](https://catalog.colostate.edu/general-catalog/colleges/natural-sciences/computer-science/bioinformatics-minor/) - Biology + Computer Science\n"
   ]
  },
  {
   "cell_type": "markdown",
   "metadata": {},
   "source": [
    "## Reading Review:\n",
    "\n",
    "Given the following code, answer the questions. "
   ]
  },
  {
   "cell_type": "code",
   "execution_count": null,
   "metadata": {},
   "outputs": [],
   "source": [
    "String line = \"Let me be that I am and seek not to alter me.\\n-Much Ado About Nothing\";\n",
    "Scanner scanner = new Scanner(line);\n",
    "int tokenCounter = 0;\n",
    "while(scanner.hasNext()) {\n",
    "    tokenCounter++;\n",
    "    System.out.println(scanner.next());\n",
    "}\n",
    "\n",
    "System.out.println(tokenCounter); // question 1"
   ]
  },
  {
   "cell_type": "markdown",
   "metadata": {},
   "source": [
    "### Question 1:\n",
    "What is printed on the question 1 location?\n",
    "\n",
    "### Question 2:\n",
    "What is the default token for scanner?\n",
    "\n",
    "A. Single Space  \n",
    "B. Any amount of whitespace (Space, tab, line return, etc)  \n",
    "C. Comma  \n",
    "D. Trick question, there is no \"default\"  "
   ]
  },
  {
   "cell_type": "code",
   "execution_count": null,
   "metadata": {},
   "outputs": [],
   "source": [
    "line = \"Let me be that I am and seek not to alter me.\\n-Much Ado About Nothing\";\n",
    "scanner = new Scanner(line);\n",
    "int lineCounter = 0;\n",
    "while(scanner.hasNext()) {\n",
    "    lineCounter++;\n",
    "    scanner.nextLine();\n",
    "}\n",
    "System.out.println(lineCounter); // question 3\n"
   ]
  },
  {
   "cell_type": "markdown",
   "metadata": {},
   "source": [
    "### Question 3\n",
    "How many lines are there?"
   ]
  },
  {
   "cell_type": "code",
   "execution_count": null,
   "metadata": {},
   "outputs": [],
   "source": [
    "\n",
    "scanner = new Scanner(line);\n",
    "scanner.useDelimiter(\"-\");\n",
    "int otherCounter = 0;\n",
    "while(scanner.hasNext()) {\n",
    "    otherCounter++;\n",
    "    System.out.println(scanner.next());\n",
    "}"
   ]
  },
  {
   "cell_type": "markdown",
   "metadata": {},
   "source": [
    "### Question 4\n",
    "How many tokens are there?\n",
    "\n",
    "### Question 5\n",
    "Including the \\n added with .println(), how many new line characters are printed?"
   ]
  },
  {
   "cell_type": "markdown",
   "metadata": {},
   "source": [
    "## Scanner\n",
    "\n",
    "* A scanner is a tool designed to for reading Streams or Strings.\n",
    "* Default way to split the stream into \"tokens\" is any amount of whitespace\n",
    "  * A token is a single element in the sequence\n",
    "  * `.next()` gives the next token in the sequence \n",
    "* You can change the split by using `.useDelimiter(\"-\")`;\n",
    "\n",
    "So let's go back to our Coordinates from Friday."
   ]
  },
  {
   "cell_type": "code",
   "execution_count": null,
   "metadata": {},
   "outputs": [],
   "source": [
    "String location = \"Fort Collins,40°35'6.9288\\\"N,105°5'3.9084\\\"W\";\n",
    "Scanner locScan = new Scanner(location);\n",
    "locScan.useDelimiter(\",\");\n",
    "String city = locScan.next();\n",
    "String lat = locScan.next();\n",
    "String lon = locScan.next();\n",
    "\n",
    "System.out.println(city);\n",
    "System.out.println(lat);\n",
    "System.out.println(lon);"
   ]
  },
  {
   "cell_type": "markdown",
   "metadata": {},
   "source": [
    "### Scanner Methods\n",
    "\n",
    "There are a number of useful methods in Scanner\n",
    "* next()\n",
    "* hasNext()\n",
    "* nextLine() \n",
    "* hasNextLine()\n",
    "* hasNextInt() - also hasNextDouble/Long/etc\n",
    "  * This says the token can be parsed into the primitive of the matching type\n",
    "* nextInt() - also nextDouble(), etc\n",
    "  * Takes the next token, and attempts to convert it to the specified type\n",
    "  * Potential flaw: what if the next type is not an int/double/etc?\n",
    "  * Throws a `NumberFormatException`\n",
    "\n",
    "In practice that means we do the following:"
   ]
  },
  {
   "cell_type": "code",
   "execution_count": null,
   "metadata": {},
   "outputs": [],
   "source": [
    "Scanner scanner = new Scanner(System.in);\n",
    "System.out.println(\"Enter a number: \");\n",
    "while(!scanner.hasNextInt()) {\n",
    "    String input = scanner.next();\n",
    "    System.out.println(input + \" is not a number, please try again: \");\n",
    "}\n",
    "int val = scanner.nextInt();\n",
    "System.out.printf(\"You entered %d, with doubled is: %d\", val, val*2);\n",
    "System.out.println();\n"
   ]
  },
  {
   "cell_type": "markdown",
   "metadata": {},
   "source": [
    "## Input Streams\n",
    "\n",
    "* `System.in` is an **Input Stream**\n",
    "  * A stream of data coming *in* from the client\n",
    "* `FileInputStream` or `File`\n",
    "  * Are also input streams\n",
    "  * But they read from a file\n",
    "* Other Streams?\n",
    "  * Not covered in this class, but networked data is another common one. \n",
    "\n",
    "Reading files is extremely common, and the format / common syntax is as follows:\n",
    "\n",
    "```java\n",
    "try {\n",
    "    Scanner fileIn = new Scanner(new File(\"Name of file as a String\"));\n",
    "    // now the file is in a scanner, and looping matters!\n",
    "    while(fileIn.hasNextLine()) { // could also use hasNext()\n",
    "        System.out.println(fileIn.nextLine());\n",
    "    }\n",
    "}catch(IOException ex) {\n",
    "    // there was an error finding the file or reading the file!\n",
    "    // so how do you hand that? For now, we just say that and end the program\n",
    "    System.err.print(\"Error reading file!\");\n",
    "    ex.printStackTrace();\n",
    "    System.exit(1);\n",
    "}\n",
    "```\n",
    "\n",
    "\n",
    "Let's try it!"
   ]
  },
  {
   "cell_type": "code",
   "execution_count": null,
   "metadata": {},
   "outputs": [],
   "source": [
    "try {\n",
    "    Scanner fileLocations = new Scanner(new File(\"data/poem2.txt\"));\n",
    "    while(fileLocations.hasNextLine()) {\n",
    "        String line = fileLocations.nextLine(); // now I can just treat it as a string\n",
    "        System.out.println(line);\n",
    "    }\n",
    "}catch(IOException ex) {\n",
    "    System.out.println(\"Error reading file!\");\n",
    "    ex.printStackTrace();\n",
    "    System.exit(1);\n",
    "}"
   ]
  },
  {
   "cell_type": "markdown",
   "metadata": {},
   "source": [
    "### In class Activity \n",
    "\n",
    "Write a program that simply loads a file **into a String** - and then prints out\n",
    "1. the length of that string\n",
    "2. the contents of the file"
   ]
  },
  {
   "cell_type": "code",
   "execution_count": null,
   "metadata": {},
   "outputs": [],
   "source": [
    "String contents = \"\";\n",
    "try {\n",
    "   // student todo: you can pick any file, I will use messages.txt\n",
    "}catch(IOException ex) {\n",
    "    System.err.print(\"Error reading file\");\n",
    "}\n",
    "System.out.println(\"Total Characters in file: \" + contents.length());\n",
    "System.out.println(contents);"
   ]
  },
  {
   "cell_type": "markdown",
   "metadata": {},
   "source": [
    "## Combing Objects and Reading Files\n",
    "\n",
    "Let's actually do something with the poem, and make it more useful. "
   ]
  },
  {
   "cell_type": "code",
   "execution_count": null,
   "metadata": {},
   "outputs": [],
   "source": [
    "public class Poem {\n",
    "    private String author;\n",
    "    private String title;\n",
    "    private String body;\n",
    "\n",
    "    public Poem(String title, String author, String body) {\n",
    "        this.author = author;\n",
    "        this.title = title;\n",
    "        this.body = body;\n",
    "    }\n",
    "    public String getAuthor() {return author;}\n",
    "    public String getTitle() { return title;}\n",
    "    public String getBody() { return body;}\n",
    "\n",
    "    public String toString() { return String.format(\"%s\\nby %s\", getTitle(), getAuthor()); }\n",
    "\n",
    "    public static Poem loadPoemFromFile(String filename) {\n",
    "        String title = null;\n",
    "        String author = null;\n",
    "        String body = \"\";\n",
    "        try {\n",
    "            Scanner scanner = new Scanner(new File(filename));\n",
    "            if(scanner.hasNextLine()) title = scanner.nextLine();\n",
    "            if(scanner.hasNextLine()) author = scanner.nextLine();\n",
    "            while(scanner.hasNextLine()) {\n",
    "                String line = scanner.nextLine().trim(); \n",
    "                if(!(body == \"\" && line.equals(\"\"))) { // skip any empty lines before body starts \n",
    "                   body += line + \"\\n\"; // because the new lines are removed, and we actually want them!\n",
    "                }\n",
    "            }\n",
    "        }catch(IOException ex) {\n",
    "            System.out.println(\"Error reading poem\");\n",
    "            return null; // leave the method early\n",
    "        }\n",
    "        return new Poem(title, author, body);\n",
    "    }\n",
    "}\n",
    "\n",
    "Poem emily = Poem.loadPoemFromFile(\"data/poem2.txt\");\n",
    "Poem maya = Poem.loadPoemFromFile(\"data/poem.txt\");\n",
    "\n",
    "System.out.println(emily);\n",
    "System.out.println(maya);\n",
    "\n",
    "\n"
   ]
  },
  {
   "cell_type": "markdown",
   "metadata": {},
   "source": [
    "### In Class Activity\n",
    "\n",
    "You will see `Student.java` and `Roster.java` in the in class activity - or on the github for this week.\n",
    "\n",
    "1. In Student.java\n",
    "    * complete the getEName() method\n",
    "      * It will take the first part of an email (before the @ sign)\n",
    "      * Returns the lowercase version\n",
    "2. In Roster.java\n",
    "   * You will want to complete the 'readRoster(String filename)' method, which reads in the data from a file\n",
    "   * Parse the incoming lines to build Student.java ArrayList\n",
    "   * Use your helper methods!\n"
   ]
  },
  {
   "cell_type": "code",
   "execution_count": null,
   "metadata": {},
   "outputs": [],
   "source": [
    "public class Student {\n",
    "    private String name;\n",
    "    private String email;\n",
    "\n",
    "    public Student(String name, String email) {\n",
    "        this.name = name;\n",
    "        this.email = email;\n",
    "    }\n",
    "    public String getName() { return name;}\n",
    "    public String getEmail() { return email;}\n",
    "    public String getEName() { \n",
    "        return null; // student todo / change - Friday class reminder\n",
    "    }\n",
    "\n",
    "    public String toString() { \n",
    "        return String.format(\"%s, EName:%s, Email:%s\", \n",
    "                            getName(), getEName(), getEmail());\n",
    "    }\n",
    "\n",
    "}"
   ]
  },
  {
   "cell_type": "code",
   "execution_count": null,
   "metadata": {},
   "outputs": [],
   "source": [
    "public class Roster {\n",
    "    private final ArrayList<Student> students = new ArrayList<>();\n",
    "    public final String name;\n",
    "\n",
    "    public Roster(String classname, String filename) {\n",
    "        this.name = classname;\n",
    "        readRoster(filename);\n",
    "    }\n",
    "\n",
    "    public void printRoster() {\n",
    "        for(int i = 0; i < students.size(); i++) { // why did I use for, instead of for:each?\n",
    "            System.out.printf(\"%d: %s\\n\", i+1, students.get(i));\n",
    "        }\n",
    "    }\n",
    "\n",
    "    private void readRoster(String filename) {\n",
    "        try {\n",
    "           // student todo\n",
    "        }catch(IOException ex) {\n",
    "            System.err.println(\"Error reading file: \" + filename);\n",
    "        }\n",
    "    }\n",
    "\n",
    "    private Student parseLine(String line) { // notice i built a helper method!\n",
    "        String name = line.substring(0, line.indexOf(\",\"));\n",
    "        String email = line.substring(line.indexOf(\",\")+1);\n",
    "        return new Student(name, email);\n",
    "    }\n",
    "\n",
    "}\n",
    "\n",
    "Roster roster = new Roster(\"Mystery 101\", \"data/students.csv\");\n",
    "roster.printRoster();"
   ]
  },
  {
   "cell_type": "markdown",
   "metadata": {},
   "source": [
    "### Overall\n",
    "\n",
    "You really want to focus on **divide**-**conquer**-**glue**, and treat the lines **as Strings**\n",
    "* Which means - read the line, and then parse the String\n",
    "\n",
    "\n",
    "We will come back to file writing (OutputStream) and try/catch in a couple weeks. \n",
    "\n",
    "Adding files greatly expands what we can do with programs!"
   ]
  }
 ],
 "metadata": {
  "interpreter": {
   "hash": "507d0580e2b527a70f64f40fb9b6583b2a77378ccde06f27533dbdd39bb8d03d"
  },
  "kernelspec": {
   "display_name": "Java",
   "language": "java",
   "name": "java"
  },
  "language_info": {
   "codemirror_mode": "java",
   "file_extension": ".jshell",
   "mimetype": "text/x-java-source",
   "name": "Java",
   "pygments_lexer": "java",
   "version": "17.0.1+12"
  },
  "orig_nbformat": 4
 },
 "nbformat": 4,
 "nbformat_minor": 2
}
