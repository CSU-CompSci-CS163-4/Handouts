{
 "cells": [
  {
   "cell_type": "markdown",
   "metadata": {},
   "source": [
    "# String Manipulation \n",
    "\n",
    "<img src=\"img/satorotas.png\" alt=\"SATORATAS square\" style=\"float:right;padding-right:30px;\" />\n",
    "\n",
    "\n",
    "In this lecture we will talk about:\n",
    "  * String Manipulation\n",
    "    * charAt(int)\n",
    "    * indexOf(String or char)\n",
    "    * substring(int, int)\n",
    "  * Exploiting Patterns\n",
    "\n",
    "### Your future in CS \n",
    "I used to include this on my slides, but since these slides have changed - going to just leave it up here for every notebook. I get a lot of questions about more programming courses, the concentrations, and minors in computer science. Here is a brief reminder.\n",
    "\n",
    "CS 165 – Next Course In Sequence, also consider CS 220 (math and stats especially) \n",
    "* CO Jobs Report 2021 – 77% of *all* new jobs in Colorado require programming\n",
    "* 60% of all STEM jobs requires *advanced* (200-300 level) \n",
    "* 31% of all Bachelor of Arts degree titled jobs also required coding skills \n",
    "* 2016 Report found on average jobs that require coding skills paid $22,000 more\n",
    "\n",
    "* Concentrations in CS:\n",
    "  * Computer science has a number of concentrations. \n",
    "    * [General concentration](https://catalog.colostate.edu/general-catalog/colleges/natural-sciences/computer-science/computer-science-major/computer-science-concentration/#requirementstext) is the most flexible, and even allows students to double major or minor pretty easily. \n",
    "    * [Software Engineering](https://catalog.colostate.edu/general-catalog/colleges/natural-sciences/computer-science/computer-science-major-software-engineering-concentration/)\n",
    "    * [Computing Systems](https://catalog.colostate.edu/general-catalog/colleges/natural-sciences/computer-science/computer-science-major-computing-systems-concentration/)\n",
    "    * [Human Centered Computing](https://catalog.colostate.edu/general-catalog/colleges/natural-sciences/computer-science/computer-science-major/human-centered-computing-concentration/)\n",
    "    * [Networks and Security](https://catalog.colostate.edu/general-catalog/colleges/natural-sciences/computer-science/computer-science-major-networks-security-concentration/)\n",
    "    * [Artificial Intelligence](https://catalog.colostate.edu/general-catalog/colleges/natural-sciences/computer-science/computer-science-major-artificial-intelligence-machine-learning-concentration/)\n",
    "    * Computer Science Education. \n",
    "  * Minors: \n",
    "    * [Minor in Computer Science](https://catalog.colostate.edu/general-catalog/colleges/natural-sciences/computer-science/computer-science-minor/) - choose your own adventure minor\n",
    "    * [Minor in Machine Learning](https://catalog.colostate.edu/general-catalog/colleges/natural-sciences/computer-science/machine-learning-minor/) - popular with stats/math, and engineering\n",
    "    * [Minor in Bioinformatics](https://catalog.colostate.edu/general-catalog/colleges/natural-sciences/computer-science/bioinformatics-minor/) - Biology + Computer Science\n"
   ]
  },
  {
   "cell_type": "markdown",
   "metadata": {},
   "source": [
    "## Reading Check in\n",
    "\n",
    "Given the following code, what would be the output?"
   ]
  },
  {
   "cell_type": "code",
   "execution_count": null,
   "metadata": {
    "vscode": {
     "languageId": "java"
    }
   },
   "outputs": [],
   "source": [
    "String plant = \"kinnikinnik\";\n",
    "int loc = plant.indexOf(\"k\", plant.indexOf(\"k\")+1);\n",
    "String out = plant.substring(loc, loc+3);\n",
    "\n",
    "System.out.println(out);"
   ]
  },
  {
   "cell_type": "markdown",
   "metadata": {},
   "source": [
    "## String\n",
    "* It has data\n",
    "* It has functionality (methods)\n",
    "* It is also immutable ( can’t be directly modified)\n",
    "    * Every method that builds a String, returns a copy\n",
    "    * Java does this for memory efficiency \n",
    "* String are a sequence of characters, with indices \n",
    "\n",
    "| Index | Character |\n",
    "| - | - |\n",
    "| 0 | k |\n",
    "| 1 | i |\n",
    "| 2 | n |\n",
    "| 3 | n |\n",
    "| 4 | i |\n",
    "| 5 | k |\n",
    "| 6 | i |\n",
    "| 7 | n |\n",
    "| 8 | n |\n",
    "| 9 | i |\n",
    "| 10 | k |\n",
    "\n"
   ]
  },
  {
   "cell_type": "code",
   "execution_count": null,
   "metadata": {
    "vscode": {
     "languageId": "java"
    }
   },
   "outputs": [],
   "source": [
    "String plant = \"kinnikinnik\";\n",
    "\n",
    "System.out.println(plant.charAt(5));\n",
    "System.out.println(plant.charAt(plant.length()-1));\n",
    "\n",
    "for(int i = 0; i < plant.length(); i++) {\n",
    "    System.out.print(plant.charAt(i) + \"_\");\n",
    "}\n"
   ]
  },
  {
   "cell_type": "markdown",
   "metadata": {},
   "source": [
    "## In Class Activity\n",
    "\n",
    "Complete the following method. \n",
    "\n",
    "The goal is for it to return the index of the character it finds in the String str. \n",
    "\n",
    "* Start your loop at the `start` parameter.\n",
    "  * hint: `int i = start`"
   ]
  },
  {
   "cell_type": "code",
   "execution_count": null,
   "metadata": {
    "vscode": {
     "languageId": "java"
    }
   },
   "outputs": [],
   "source": [
    "public static int find(String str, char c) {\n",
    "    return find(str, c, 0); // overloaded method!\n",
    "}\n",
    "\n",
    "public static int find(String str, char c, int start) {\n",
    "    // TODO in class\n",
    "\n",
    "    return -1; // discussion item: why do we opt for minus 1 if we don't find it?\n",
    "}\n",
    "String plant = \"kinnikinnik\";\n",
    "System.out.println(find(plant, 'k'));\n",
    "System.out.println(find(plant, 'i', 5));\n",
    "System.out.println(find(plant, 'J'));\n",
    "\n"
   ]
  },
  {
   "cell_type": "markdown",
   "metadata": {},
   "source": [
    "## Common String Methods\n",
    "\n",
    "* `.charAt(int)` - gives us the character at location\n",
    "* `.indexOf(char)` - gives us the location of character (what you just wrote!)\n",
    "* `.indexOf(String)` - overloaded option, gives the location of the *start* of the string that matches\n",
    "* `.indexOf(char, int)` or `.indexOf(String, int)` - same as above, but changes starting location\n",
    "* `.lastIndexOf(char)`  - gives us the index starting at the end working down (also has String version)\n",
    "* `.substring(int start, int end)` - returns the substring from start - including start, to end, excluding end. (inclusive/exclusive)\n",
    "* `.toLowerCase()` - returns the lowercase version of the String\n",
    "* `.toUpperCase()` - returns the uppercase version of the String"
   ]
  },
  {
   "cell_type": "code",
   "execution_count": null,
   "metadata": {
    "vscode": {
     "languageId": "java"
    }
   },
   "outputs": [],
   "source": [
    "String latin = \"SATOROTAS\";\n",
    "\n",
    "System.out.println(latin.indexOf(\"T\"));\n",
    "System.out.println(latin.indexOf(\"TOROT\") + \" notice it is the 'start' location of the other String\");\n",
    "System.out.println(latin.indexOf(\"T\", latin.indexOf(\"T\")+1)); // why did I need the + 1 here? - Discuss and draw it out. "
   ]
  },
  {
   "cell_type": "code",
   "execution_count": null,
   "metadata": {
    "vscode": {
     "languageId": "java"
    }
   },
   "outputs": [],
   "source": [
    "String sub = latin.substring(0, latin.indexOf(\"R\")); \n",
    "System.out.println(sub); // what will this print?"
   ]
  },
  {
   "cell_type": "code",
   "execution_count": null,
   "metadata": {
    "vscode": {
     "languageId": "java"
    }
   },
   "outputs": [],
   "source": [
    "String sub = latin.substring(latin.indexOf(\"R\")); \n",
    "System.out.println(sub); // what will this print?"
   ]
  },
  {
   "cell_type": "markdown",
   "metadata": {},
   "source": [
    "## Exploiting Patterns\n",
    "\n",
    "Strings often have patterns we follow, and these methods help us exploit them.\n",
    "\n",
    "For example:\n",
    "\n",
    "```html\n",
    "<html><body><h1>Heading</h1><p>This is my cool interesting paragraph</p></body></html>\n",
    "```\n",
    "\n",
    "The pattern above uses < / > style notation! By seeing that pattern, I can build webpages! (really, that is html code for webpages).\n",
    "\n",
    "Another pattern to think about:\n",
    "\n",
    "```text\n",
    "Fort Collins,40°35'6.9288\"N,105°5'3.9084\"W\n",
    "Denver,39°44'31.3548\"N,104°59'29.5116\"W\n",
    "Boulder,40°0'53.9424\"N,105°16'13.9656\"W\n",
    "```\n",
    "\n",
    "The values are different, but there is a pattern in each string\n",
    "```text\n",
    "CITY,LATITUDE,LONGITUDE\n",
    "```\n",
    "\n",
    "Often writing down the pattern is valuable in figuring out the problem!"
   ]
  },
  {
   "cell_type": "code",
   "execution_count": null,
   "metadata": {
    "vscode": {
     "languageId": "java"
    }
   },
   "outputs": [],
   "source": [
    "String coord = \"Fort Collins,40°35'6.9288\\\"N,105°5'3.9084\\\"W\"; // the \\ lets me keep the quote in there.\n",
    "\n",
    "String city = coord.substring(0, coord.indexOf(\",\"));\n",
    "System.out.println(city);\n"
   ]
  },
  {
   "cell_type": "markdown",
   "metadata": {},
   "source": [
    "## In class activity\n",
    "\n",
    "Complete the `Location(String)` constructor in your in class activity - `Location.java`.\n",
    "\n",
    "* You will use substring + indexOf - to break up the String above into its **three** parts.\n",
    "* Make sure to check for OB1 errors!"
   ]
  },
  {
   "cell_type": "code",
   "execution_count": null,
   "metadata": {
    "vscode": {
     "languageId": "java"
    }
   },
   "outputs": [],
   "source": [
    "class Location {\n",
    "    private String name;\n",
    "    private String latitude;\n",
    "    private String longitude;\n",
    "\n",
    "    public Location(String name, String latitude, String longitude) {\n",
    "        setName(name); // let the methods handle the set incase they want to modify a value\n",
    "        setLatitude(latitude);\n",
    "        setLongitude(longitude);\n",
    "    }\n",
    "\n",
    "    public Location(String location) {\n",
    "       // TODO in class\n",
    "    }\n",
    "\n",
    "    public void setName(String name) { this.name = name;}\n",
    "    public void setLongitude(String longitude) { this.longitude = longitude.toUpperCase();}\n",
    "    public void setLatitude(String latitude) { this.latitude = latitude.toUpperCase();}\n",
    "    \n",
    "    public String toString() {\n",
    "        return String.format(\"{name:%s, lat:%s, lon:%s}\", name, latitude, longitude);\n",
    "    }\n",
    "\n",
    "  \n",
    "}\n",
    "\n",
    "\n",
    "ArrayList<Location> locations = new ArrayList<>();\n",
    "locations.add(new Location(\"Fort Collins,40°35'6.9288\\\"N,105°5'3.9084\\\"W\"));\n",
    "locations.add(new Location(\"Denver,39°44'31.3548\\\"N,104°59'29.5116\\\"W\"));\n",
    "locations.add(new Location(\"Boulder,40°0'53.9424\\\"n,105°16'13.9656\\\"w\"));\n",
    "\n",
    "System.out.println(locations);"
   ]
  },
  {
   "cell_type": "markdown",
   "metadata": {},
   "source": [
    "## Thinking further\n",
    "\n",
    "* Wouldn't it be great if we could read in all the locations from a file?\n",
    "    * We learn how to do that on Monday\n",
    "* The format \\[{},{}\\] is actually a common format, and one used in JSON string format, another 'pattern' that is often used in programming to transfer data. "
   ]
  }
 ],
 "metadata": {
  "interpreter": {
   "hash": "507d0580e2b527a70f64f40fb9b6583b2a77378ccde06f27533dbdd39bb8d03d"
  },
  "kernelspec": {
   "display_name": "Java",
   "language": "java",
   "name": "java"
  },
  "language_info": {
   "codemirror_mode": "java",
   "file_extension": ".jshell",
   "mimetype": "text/x-java-source",
   "name": "Java",
   "pygments_lexer": "java",
   "version": "17.0.2+8"
  },
  "orig_nbformat": 4
 },
 "nbformat": 4,
 "nbformat_minor": 2
}
