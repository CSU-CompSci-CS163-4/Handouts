{
 "cells": [
  {
   "cell_type": "markdown",
   "metadata": {},
   "source": [
    "# More Recursion\n",
    "\n",
    "In this lecture, we will go over more cases for recursion"
   ]
  },
  {
   "cell_type": "markdown",
   "metadata": {},
   "source": [
    "### Your future in CS \n",
    "I used to include this on my slides, but since these slides have changed - going to just leave it up here for every notebook. I get a lot of questions about more programming courses, the concentrations, and minors in computer science. Here is a brief reminder.\n",
    "\n",
    "CS 165 – Next Course In Sequence, also consider CS 220 (math and stats especially) \n",
    "* CO Jobs Report 2021 – 77% of *all* new jobs in Colorado require programming\n",
    "* 60% of all STEM jobs requires *advanced* (200-300 level) \n",
    "* 31% of all Bachelor of Arts degree titled jobs also required coding skills \n",
    "* 2016 Report found on average jobs that require coding skills paid $22,000 more\n",
    "\n",
    "* Concentrations in CS:\n",
    "  * Computer science has a number of concentrations. \n",
    "    * [General concentration](https://catalog.colostate.edu/general-catalog/colleges/natural-sciences/computer-science/computer-science-major/computer-science-concentration/#requirementstext) is the most flexible, and even allows students to double major or minor pretty easily. \n",
    "    * [Software Engineering](https://catalog.colostate.edu/general-catalog/colleges/natural-sciences/computer-science/computer-science-major-software-engineering-concentration/)\n",
    "    * [Computing Systems](https://catalog.colostate.edu/general-catalog/colleges/natural-sciences/computer-science/computer-science-major-computing-systems-concentration/)\n",
    "    * [Human Centered Computing](https://catalog.colostate.edu/general-catalog/colleges/natural-sciences/computer-science/computer-science-major/human-centered-computing-concentration/)\n",
    "    * [Networks and Security](https://catalog.colostate.edu/general-catalog/colleges/natural-sciences/computer-science/computer-science-major-networks-security-concentration/)\n",
    "    * [Artificial Intelligence](https://catalog.colostate.edu/general-catalog/colleges/natural-sciences/computer-science/computer-science-major-artificial-intelligence-machine-learning-concentration/)\n",
    "    * Computer Science Education. \n",
    "  * Minors: \n",
    "    * [Minor in Computer Science](https://catalog.colostate.edu/general-catalog/colleges/natural-sciences/computer-science/computer-science-minor/) - choose your own adventure minor\n",
    "    * [Minor in Machine Learning](https://catalog.colostate.edu/general-catalog/colleges/natural-sciences/computer-science/machine-learning-minor/) - popular with stats/math, and engineering\n",
    "    * [Minor in Bioinformatics](https://catalog.colostate.edu/general-catalog/colleges/natural-sciences/computer-science/bioinformatics-minor/) - Biology + Computer Science\n"
   ]
  },
  {
   "cell_type": "markdown",
   "metadata": {},
   "source": [
    "## Quick Review\n",
    "\n",
    "* Recursion is using method calls as a way to loop.\n",
    "* Can help represent harder problems in a more elegant manner\n",
    "* Can help handle problems that the loop depth is unknown\n",
    "  * Array of Arrays\n",
    "* It helps to draw out a tree to track method calls\n",
    "\n",
    "```java\n",
    "public static String reverseString(String str) {\n",
    "    return reverseString(str, str.length()-1);\n",
    "}\n",
    "\n",
    "public static String reverseString(String str, int index) {\n",
    "    if(index < 0) return \"\";\n",
    "    return str.charAt(index) + reverseString(str, index-1);\n",
    "} \n",
    "System.out.println(reverseString(\"gem\"));\n",
    "```\n",
    "\n",
    "![String Reverse](img/reverse_string_recursive.png)\n",
    "\n",
    "\n",
    "\n",
    "## Warmup Activity\n",
    "\n",
    "* Write a recursive factorial method\n",
    "  * $f(n) = f(n) * f(n-1)$\n",
    "* Additionally, draw out the **tree** of the recursion"
   ]
  },
  {
   "cell_type": "code",
   "execution_count": 1,
   "metadata": {
    "vscode": {
     "languageId": "java"
    }
   },
   "outputs": [],
   "source": [
    "public static int factorial(int n) {\n",
    "    // TODO in class\n",
    "    if (n <= 1) return 1; // base case\n",
    "    return n * factorial(n-1);\n",
    "}"
   ]
  },
  {
   "cell_type": "code",
   "execution_count": 3,
   "metadata": {
    "vscode": {
     "languageId": "java"
    }
   },
   "outputs": [
    {
     "name": "stdout",
     "output_type": "stream",
     "text": [
      "Testing 5: 120\n",
      "Testing 6: 720\n",
      "Testing 7: 5040\n"
     ]
    }
   ],
   "source": [
    "System.out.println(\"Testing 5: \" + factorial(5));\n",
    "System.out.println(\"Testing 6: \" + factorial(6));\n",
    "System.out.println(\"Testing 7: \" + factorial(7));"
   ]
  },
  {
   "cell_type": "markdown",
   "metadata": {},
   "source": [
    "#### Tree for factorial \n",
    "\n",
    "![Factorial Tree](img/factorial_recursion_tree.png)\n",
    "\n",
    "### Multiple Branching Trees\n",
    "\n",
    "* Most of our cases, the tree only had one branch that continued to branch\n",
    "* The other branch was always the solution\n",
    "* What if the tree branched out at both sides?\n",
    "\n",
    "#### Fibonacci Sequence\n",
    "\n",
    "![Fibonacci Squares](img/fib_image.png)\n",
    "\n",
    "* Seen throughout science, especially nature. \n",
    "* the sum is equal to the previous two\n",
    "* $fib(1) = 1$\n",
    "* $fib(2) = 1$\n",
    "* $fib(3) = fib(2) + fib(1) = 2 $\n",
    "* $fib(4) = fib(3) + fib(2) = 2 + 1$\n",
    "* $fib(5) = fib(4) + fib(3) = 3 + 2$\n",
    "* 1 1 2 3 5 8 13 21 ... \n",
    "* What if we wanted $fib(n)$?\n",
    "  * $fib(n) = fib(n-1) + fib(n-2)$\n",
    "  * This looks naturally recursive...\n",
    "  * The tree would be as follows:\n",
    "\n",
    "\n",
    "![Fib Tree](img/fib_tree.png)\n",
    "\n",
    "### Student Practice\n",
    "\n",
    "* Write a method that calculates the fibonacci value based on n\n",
    "* for example:\n",
    "  * fib(5) would return 5\n",
    "  * fib(6) would return 8\n",
    "  * fib(7) would return 13\n",
    "    * and so on\n",
    "    * Both fib(2) and fib(1) return 1, fib(0) or lower returns 0.\n"
   ]
  },
  {
   "cell_type": "code",
   "execution_count": 4,
   "metadata": {
    "vscode": {
     "languageId": "java"
    }
   },
   "outputs": [],
   "source": [
    "public static long fib(int n) {\n",
    "    // todo in class\n",
    "    if(n < 1) return 0;\n",
    "    if(n == 1 || n == 2) return 1;\n",
    "    return fib(n-1) + fib(n-2);\n",
    "}\n",
    "\n",
    "// just an extra method to help view the full sequence\n",
    "public static void fibShowRecursive(int n) {\n",
    "    for(int i = 1; i <= n; i++) {\n",
    "        System.out.print(fib(i) + \" \");\n",
    "    }\n",
    "    System.out.println();\n",
    "}"
   ]
  },
  {
   "cell_type": "code",
   "execution_count": 7,
   "metadata": {
    "vscode": {
     "languageId": "java"
    }
   },
   "outputs": [
    {
     "name": "stdout",
     "output_type": "stream",
     "text": [
      "1 1 2 3 5 8 13 21 34 55 89 144 233 377 610 987 1597 2584 4181 6765 10946 17711 28657 46368 75025 \n"
     ]
    }
   ],
   "source": [
    "fibShowRecursive(25);"
   ]
  },
  {
   "cell_type": "markdown",
   "metadata": {},
   "source": [
    "#### Just because you can, doesn't mean you should\n",
    "\n",
    "* Fibonacci is often used as a recursion example\n",
    "* However, it is a *bad* example of recursion\n",
    "  * Yes, it is elegant and lines up with the math\n",
    "  * But, the implementation causes the 'stack' to explode exponentially \n",
    "    * why? because for every one recursive call, there are two additional calls\n",
    "    * As such to compute fib(5) we ended up with 9 method calls\n",
    "    * To compute fib(6) we end up with 14 recursive calls! \n",
    "* Let's see a way we can do it with a loop\n",
    "  * Assuming we don't want to keep previous results"
   ]
  },
  {
   "cell_type": "code",
   "execution_count": 8,
   "metadata": {
    "vscode": {
     "languageId": "java"
    }
   },
   "outputs": [],
   "source": [
    "public static long fibLoop(int n) {\n",
    "    long prev = 0;\n",
    "    long next = 1;\n",
    "    for(int i = 1; i < n; i++) {\n",
    "        long sum = prev+next;\n",
    "        prev = next;\n",
    "        next = sum;\n",
    "    }\n",
    "    return next;\n",
    "}\n",
    "\n",
    "public static void fibShowLoop(int n) {\n",
    "    for(int i = 1; i <= n; i++) {\n",
    "        System.out.print(fibLoop(i) + \" \");\n",
    "    }\n",
    "    System.out.println();\n",
    "}"
   ]
  },
  {
   "cell_type": "markdown",
   "metadata": {},
   "source": [
    "Now, let's run them side by side"
   ]
  },
  {
   "cell_type": "code",
   "execution_count": 10,
   "metadata": {
    "vscode": {
     "languageId": "java"
    }
   },
   "outputs": [
    {
     "name": "stdout",
     "output_type": "stream",
     "text": [
      "1 1 2 3 5 8 13 21 34 55 89 144 233 377 610 987 1597 2584 4181 6765 \n",
      "1 1 2 3 5 8 13 21 34 55 89 144 233 377 610 987 1597 2584 4181 6765 \n"
     ]
    }
   ],
   "source": [
    "fibShowLoop(20);\n",
    "fibShowRecursive(20);"
   ]
  },
  {
   "cell_type": "markdown",
   "metadata": {},
   "source": [
    "Not bad, let's increase the number"
   ]
  },
  {
   "cell_type": "code",
   "execution_count": 11,
   "metadata": {
    "vscode": {
     "languageId": "java"
    }
   },
   "outputs": [
    {
     "name": "stdout",
     "output_type": "stream",
     "text": [
      "1 1 2 3 5 8 13 21 34 55 89 144 233 377 610 987 1597 2584 4181 6765 10946 17711 28657 46368 75025 121393 196418 317811 514229 832040 1346269 2178309 3524578 5702887 9227465 14930352 24157817 39088169 63245986 102334155 165580141 267914296 433494437 701408733 1134903170 1836311903 2971215073 4807526976 7778742049 12586269025 \n",
      "Loop Done: 149\n",
      "1 1 2 3 5 8 13 21 34 55 89 144 233 377 610 987 1597 2584 4181 6765 10946 17711 28657 46368 75025 121393 196418 317811 514229 832040 1346269 2178309 3524578 5702887 9227465 14930352 24157817 39088169 63245986 102334155 165580141 267914296 433494437 701408733 1134903170 1836311903 2971215073 4807526976 7778742049 12586269025 \n",
      "Recursion Done: 123994\n"
     ]
    }
   ],
   "source": [
    "import java.time.Instant;\n",
    "\n",
    "Instant start = java.time.Instant.now();\n",
    "fibShowLoop(50);\n",
    "Instant end = java.time.Instant.now();\n",
    "System.out.println(\"Loop Done: \" + java.time.Duration.between(start, end).toMillis());\n",
    "\n",
    "\n",
    "start = java.time.Instant.now();\n",
    "fibShowRecursive(50);\n",
    "end = java.time.Instant.now();\n",
    "System.out.println(\"Recursion Done: \" + java.time.Duration.between(start, end).toMillis());\n"
   ]
  },
  {
   "cell_type": "markdown",
   "metadata": {},
   "source": [
    "Holy rusted metal batman!\n",
    "\n",
    "103 milliseconds compared to 120,183 milliseconds!"
   ]
  },
  {
   "cell_type": "markdown",
   "metadata": {},
   "source": [
    "### When is it good to use recursion\n",
    "\n",
    "* When you only have limited paths to follow\n",
    "* When you don't know your loop depth \n",
    "* When your data is *already* setup like a tree! \n",
    "* For example:\n",
    "  * Let's take a number sequence \n",
    "  * \\[0, 1, 2 , 3, 4, 5, 6, 7, 8, 9, 10\\]\n",
    "  * This sequence is in order\n",
    "  * That means I could also structure the 'number' line as follows:\n",
    "\n",
    "![Numbers by way of tree](img/tree_numbering.png)\n",
    "\n",
    "* To get from 5 to 1, it only takes 2 movements, instead of the typical 4 movements! We explore tree structures more more in CS 165. \n",
    "* However, knowing this, we also know a quick way to **search** for a number\n",
    "* Let's say we are looking for 7\n",
    "  * We can say is the number less than, equal to, or greater than 5? Greater\n",
    "  * Is the larger less than, equal to, or greater than 7? Equal -- FOUND\n",
    "* This is a binary search, and inherently recursive\n",
    "\n"
   ]
  },
  {
   "cell_type": "code",
   "execution_count": 12,
   "metadata": {
    "vscode": {
     "languageId": "java"
    }
   },
   "outputs": [
    {
     "name": "stdout",
     "output_type": "stream",
     "text": [
      "Value found at 1, and the value is 20\n"
     ]
    }
   ],
   "source": [
    "public static int binarySearch(int[] arr, int key) {\n",
    "   return binarySearch(arr, key, 0, arr.length-1);\n",
    "}\n",
    "public static int binarySearch(int arr[], int key, int first, int last){  \n",
    "   int mid = (first + last) / 2;  \n",
    "   if(first > last) return -1; // not found\n",
    "   if (arr[mid] == key ) return mid; // index found!  \n",
    "   if (arr[mid] < key ){  \n",
    "      first = mid + 1;     \n",
    "      return binarySearch(arr, key, first, last);\n",
    "   }\n",
    "   last = mid -1;\n",
    "   return binarySearch(arr, key, first, last);  \n",
    " }  \n",
    "\n",
    "\n",
    "int arr[] = {10,20,30,40,50};  \n",
    "int key = 20;  \n",
    "int loc = binarySearch(arr,key);\n",
    "if(loc > 0) System.out.printf(\"Value found at %d, and the value is %d%n\", loc, arr[loc]);       \n"
   ]
  },
  {
   "cell_type": "markdown",
   "metadata": {},
   "source": [
    "## Overview\n",
    "* We will explore this binary search concept more next lecture\n",
    "* Recursion is a *very* powerful tool, especially in cases:\n",
    "  * we don't know the depth of the loops\n",
    "  * we are already setup in a tree structure \n",
    "  * we only know the 'next' step in the process (but no more)\n",
    "  * You will come back to it in both CS 220 and CS 165 - so don't worry if you don't have it mastered just yet!"
   ]
  }
 ],
 "metadata": {
  "kernelspec": {
   "display_name": "Java",
   "language": "java",
   "name": "java"
  },
  "language_info": {
   "codemirror_mode": "java",
   "file_extension": ".jshell",
   "mimetype": "text/x-java-source",
   "name": "Java",
   "pygments_lexer": "java",
   "version": "17.0.2+8"
  },
  "orig_nbformat": 4
 },
 "nbformat": 4,
 "nbformat_minor": 2
}
