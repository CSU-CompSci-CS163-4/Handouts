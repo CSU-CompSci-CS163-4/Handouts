{
 "cells": [
  {
   "cell_type": "markdown",
   "metadata": {},
   "source": [
    "# Arrays\n",
    "\n",
    "In this lecture, we will cover a fundamental structure in programming **Arrays**."
   ]
  },
  {
   "cell_type": "markdown",
   "metadata": {},
   "source": [
    "### Your future in CS \n",
    "I used to include this on my slides, but since these slides have changed - going to just leave it up here for every notebook. I get a lot of questions about more programming courses, the concentrations, and minors in computer science. Here is a brief reminder.\n",
    "\n",
    "CS 165 – Next Course In Sequence, also consider CS 220 (math and stats especially) \n",
    "* CO Jobs Report 2021 – 77% of *all* new jobs in Colorado require programming\n",
    "* 60% of all STEM jobs requires *advanced* (200-300 level) \n",
    "* 31% of all Bachelor of Arts degree titled jobs also required coding skills \n",
    "* 2016 Report found on average jobs that require coding skills paid $22,000 more\n",
    "\n",
    "* Concentrations in CS:\n",
    "  * Computer science has a number of concentrations. \n",
    "    * [General concentration](https://catalog.colostate.edu/general-catalog/colleges/natural-sciences/computer-science/computer-science-major/computer-science-concentration/#requirementstext) is the most flexible, and even allows students to double major or minor pretty easily. \n",
    "    * [Software Engineering](https://catalog.colostate.edu/general-catalog/colleges/natural-sciences/computer-science/computer-science-major-software-engineering-concentration/)\n",
    "    * [Computing Systems](https://catalog.colostate.edu/general-catalog/colleges/natural-sciences/computer-science/computer-science-major-computing-systems-concentration/)\n",
    "    * [Human Centered Computing](https://catalog.colostate.edu/general-catalog/colleges/natural-sciences/computer-science/computer-science-major/human-centered-computing-concentration/)\n",
    "    * [Networks and Security](https://catalog.colostate.edu/general-catalog/colleges/natural-sciences/computer-science/computer-science-major-networks-security-concentration/)\n",
    "    * [Artificial Intelligence](https://catalog.colostate.edu/general-catalog/colleges/natural-sciences/computer-science/computer-science-major-artificial-intelligence-machine-learning-concentration/)\n",
    "    * Computer Science Education. \n",
    "  * Minors: \n",
    "    * [Minor in Computer Science](https://catalog.colostate.edu/general-catalog/colleges/natural-sciences/computer-science/computer-science-minor/) - choose your own adventure minor\n",
    "    * [Minor in Machine Learning](https://catalog.colostate.edu/general-catalog/colleges/natural-sciences/computer-science/machine-learning-minor/) - popular with stats/math, and engineering\n",
    "    * [Minor in Bioinformatics](https://catalog.colostate.edu/general-catalog/colleges/natural-sciences/computer-science/bioinformatics-minor/) - Biology + Computer Science\n"
   ]
  },
  {
   "cell_type": "markdown",
   "metadata": {},
   "source": [
    "## Recalling the Past\n",
    "\n",
    "* For every value you want to store\n",
    "* You need a variable\n",
    "  * What if you want to store 100 values? 10,000 values?\n",
    "* Introducing Arrays \n",
    "  * Reserving memory for storing values, in order from the 0 index\n",
    "* Sound Familiar -  Recall String\n",
    "  * The  String object contains \n",
    "  * chars in order!\n",
    "  * It is a character array!\n",
    "\n",
    "| Index | Character |\n",
    "| - | - |\n",
    "| 0 | k |\n",
    "| 1 | i |\n",
    "| 2 | n |\n",
    "| 3 | n |\n",
    "| 4 | i |\n",
    "| 5 | k |\n",
    "| 6 | i |\n",
    "| 7 | n |\n",
    "| 8 | n |\n",
    "| 9 | i |\n",
    "| 10 | k |"
   ]
  },
  {
   "cell_type": "code",
   "execution_count": 2,
   "metadata": {},
   "outputs": [],
   "source": [
    "char[] palindrome = {'k', 'i', 'n', 'n', 'i', 'k'}; "
   ]
  },
  {
   "cell_type": "markdown",
   "metadata": {},
   "source": [
    "## What is happening?\n",
    "\n",
    "### Stack\n",
    "| variable | value |\n",
    "| - | - |\n",
    "| palindrome | @arrayC |\n",
    "\n",
    "\n",
    "### @arrayC\n",
    "| k | i | n | n | i | k |\n",
    "| - | - | - | - | - | - |\n",
    "| 0 | 1 | 2 | 3 | 4 | 5 |\n",
    "\n",
    "* Arrays are stored on the \"heap\" (same location new objects are stored)\n",
    "* Current memory stores a reference to that array\n",
    "* To access individual elements of the array, we use brackets + index"
   ]
  },
  {
   "cell_type": "code",
   "execution_count": 5,
   "metadata": {},
   "outputs": [
    {
     "name": "stdout",
     "output_type": "stream",
     "text": [
      "k\n",
      "n\n",
      "[k, i, n, n, i, k]\n",
      "C\n",
      "[C, i, n, n, i, k]\n"
     ]
    }
   ],
   "source": [
    "char[] palindrome =  new char[6];  // declare the size of the array (more common)\n",
    "palindrome[0] = 'k';\n",
    "palindrome[1] = 'i'; \n",
    "palindrome[2] = 'n';\n",
    "palindrome[3] = 'n';\n",
    "palindrome[4] = 'i'; \n",
    "palindrome[5] = 'k'; \n",
    "\n",
    "System.out.println(palindrome[0]);\n",
    "System.out.println(palindrome[3]);\n",
    "\n",
    "System.out.println(Arrays.toString(palindrome)); // allows me to print the contents of an array\n",
    "// Arrays are MUTABLE!\n",
    "palindrome[0] = 'C';\n",
    "\n",
    "System.out.println(palindrome[0]);\n",
    "System.out.println(Arrays.toString(palindrome)); // allows me to print the contents of an array"
   ]
  },
  {
   "cell_type": "markdown",
   "metadata": {},
   "source": [
    "### Arrays are not Objects (sort of)\n",
    "\n",
    "* They do not have methods! \n",
    "* They are simply ways to \n",
    "  * reserve N number of locations of a certain TYPE\n",
    "    * Yes, any type!\n",
    "  * you can then access the location by the index\n",
    "* Everything is stored **in order**\n",
    "* Locations are always reserved, even if nothing is stored!\n",
    "  * numeric values default to 0\n",
    "  * Objects default to ```null```\n",
    "* .length gives the total amount of space allocated!\n",
    "  * notice no parens. This is not a method, but a command"
   ]
  },
  {
   "cell_type": "code",
   "execution_count": 7,
   "metadata": {},
   "outputs": [
    {
     "name": "stdout",
     "output_type": "stream",
     "text": [
      "[Ljava.lang.String;@35542fa6\n",
      "10\n",
      "[brad, janet, magenta, columbia, riff-raff, rocky, scott, frankie, null, null]\n"
     ]
    }
   ],
   "source": [
    "String[] cast = new String[10];\n",
    "\n",
    "System.out.println(cast); // just a memory address\n",
    "System.out.println(cast.length);\n",
    "\n",
    "cast[0] = \"brad\";\n",
    "cast[1] = \"janet\";\n",
    "cast[2] = \"magenta\";\n",
    "cast[3] = \"columbia\";\n",
    "cast[4] = \"riff-raff\";\n",
    "cast[5] = \"eddie\";\n",
    "cast[6] = \"scott\";\n",
    "cast[7] = \"frankie\";\n",
    "cast[5] = \"rocky\";\n",
    "\n",
    "System.out.println(Arrays.toString(cast));\n"
   ]
  },
  {
   "cell_type": "markdown",
   "metadata": {},
   "source": [
    "Notice the two ```null``` items at the end, as we only filled spots 0-7!\n",
    "\n",
    "### Student Practice\n",
    "\n",
    "* Create a new file for practice\n",
    "* In that file, create a String array of length 4\n",
    "* Agree that at the table, your seats are labeled 0-3\n",
    "  * Add a person based on the seat you are sitting in\n",
    "* Print out the final array using the Arrays.toString()\n",
    "* Print out each person followed by their seat number\n",
    "\n",
    "> Discussion  \n",
    "> What are seats with no one in there? It is possible to tell how many seats are at the table?\n",
    "> Could you accomplish the same thing with an ArrayList? Yes, no, maybe a bit more difficult. "
   ]
  },
  {
   "cell_type": "code",
   "execution_count": 12,
   "metadata": {},
   "outputs": [
    {
     "name": "stdout",
     "output_type": "stream",
     "text": [
      "[Amy, null, Rory, null]\n",
      "Amy is in seat 1\n",
      "No one is in seat 2\n",
      "Rory is in seat 3\n",
      "No one is in seat 4\n"
     ]
    }
   ],
   "source": []
  },
  {
   "cell_type": "markdown",
   "metadata": {},
   "source": [
    "## Arrays vs. ArrayList\n",
    "\n",
    "* ArrayLists are lists that use Array as the underlining structure\n",
    "* Arrays are just how you declare a group of objects in order\n",
    "* ArrayList is an individual object someone wrote\n",
    "\n",
    "| feature |  array | ArrayList |\n",
    "| - |  - | - |\n",
    "| can contain primitives | X | only with wrapper classes and boxing/unboxing|\n",
    "| fixed size | X | |\n",
    "| variable size | | X |\n",
    "| how to access elements | direct access | through methods (.get, .set, .add) |\n",
    "| speed | faster | slower due to method overhead |\n",
    "\n",
    "* When to use arrays over ArrayList? \n",
    "  * When your size is **fixed**, arrays are much faster to use!\n",
    "  * When you need to keep order on sparsely populated datasets (that are often fixed sizes)\n",
    "    * \\[value, null, null, null, value, null, value\\]\n",
    "  * They are used about equally, just depends on what you are doing. \n"
   ]
  },
  {
   "cell_type": "code",
   "execution_count": 53,
   "metadata": {},
   "outputs": [
    {
     "name": "stdout",
     "output_type": "stream",
     "text": [
      "Array Loop Done: 50\n",
      "List Loop Done: 124\n"
     ]
    }
   ],
   "source": [
    "import java.time.Instant;\n",
    "\n",
    "long[] values = new long[1000000];\n",
    "\n",
    "Instant start = java.time.Instant.now();\n",
    "for(int i = 0; i < values.length; i++) {\n",
    "    values[i] = i * 10l;\n",
    "}\n",
    "Instant end = java.time.Instant.now();\n",
    "System.out.println(\"Array Loop Done: \" + java.time.Duration.between(start, end).toMillis());\n",
    "\n",
    "List<Long> valList = new ArrayList<>(); // remember polymorphism use List\n",
    "start = java.time.Instant.now();\n",
    "for(int i = 0; i < 1000000; i++) {\n",
    "    valList.add(i*10l);\n",
    "}\n",
    "end = java.time.Instant.now();\n",
    "System.out.println(\"List Loop Done: \" + java.time.Duration.between(start, end).toMillis());\n",
    "\n",
    "// note this is not really the best way to determine the time between algorithms but it gives\n",
    "// us an idea"
   ]
  },
  {
   "cell_type": "markdown",
   "metadata": {},
   "source": [
    "## Student Challenge\n",
    "\n",
    "* Create an array that can store 10 numbers\n",
    "  * You can use the short hand of {} when you initialize the array\n",
    "  * Print out the result\n",
    "* Copy those elements into a new array of length 20\n",
    "  * Use a loop\n",
    "  * Print out the result\n",
    "  \n",
    "\n",
    "> Discussion  \n",
    "> How would this activity relate to how you imagine an ArrayList is implemented behind the scenes?"
   ]
  },
  {
   "cell_type": "code",
   "execution_count": 54,
   "metadata": {},
   "outputs": [
    {
     "name": "stdout",
     "output_type": "stream",
     "text": [
      "[12, 15, 16, 2982, 22, 42, 181, 13, 9, 10]\n",
      "[12, 15, 16, 2982, 22, 42, 181, 13, 9, 10, 0, 0, 0, 0, 0, 0, 0, 0, 0, 0]\n"
     ]
    }
   ],
   "source": [
    "int[] vals = {12, 15, 16, 2982, 22, 42, 181, 13, 9, 10};\n",
    "int[] vals2 = new int[20];\n",
    "\n"
   ]
  },
  {
   "cell_type": "markdown",
   "metadata": {},
   "source": [
    "## Overview\n",
    "\n",
    "* Arrays are mutable \n",
    "* Arrays declare N number of primitives or objects in order\n",
    "  * They are stored on the heap\n",
    "* .length is a command to get how many variables are declared\n",
    "* brackets [] give direct access to each value - store or get\n",
    "* Use Arrays.toString(array) to print the array contents\n",
    "  * Else you will end up just printing the memory address of the location reserved\n",
    "* Use Arrays when your size is fixed!\n",
    "* Use ArrayLists when your size is unknown\n",
    "  * at a cost to speed!"
   ]
  }
 ],
 "metadata": {
  "kernelspec": {
   "display_name": "Java",
   "language": "java",
   "name": "java"
  },
  "language_info": {
   "codemirror_mode": "java",
   "file_extension": ".jshell",
   "mimetype": "text/x-java-source",
   "name": "Java",
   "pygments_lexer": "java",
   "version": "17.0.2+8"
  },
  "orig_nbformat": 4
 },
 "nbformat": 4,
 "nbformat_minor": 2
}
