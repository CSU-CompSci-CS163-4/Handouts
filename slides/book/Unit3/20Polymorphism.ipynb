{
 "cells": [
  {
   "cell_type": "markdown",
   "metadata": {},
   "source": [
    "# Polymorphism \n",
    "\n",
    "* Topics for this lecture\n",
    "  * Review of inheritance\n",
    "  * Polymorphism"
   ]
  },
  {
   "cell_type": "markdown",
   "metadata": {},
   "source": [
    "### Your future in CS \n",
    "I used to include this on my slides, but since these slides have changed - going to just leave it up here for every notebook. I get a lot of questions about more programming courses, the concentrations, and minors in computer science. Here is a brief reminder.\n",
    "\n",
    "CS 165 – Next Course In Sequence, also consider CS 220 (math and stats especially) \n",
    "* CO Jobs Report 2021 – 77% of *all* new jobs in Colorado require programming\n",
    "* 60% of all STEM jobs requires *advanced* (200-300 level) \n",
    "* 31% of all Bachelor of Arts degree titled jobs also required coding skills \n",
    "* 2016 Report found on average jobs that require coding skills paid $22,000 more\n",
    "\n",
    "* Concentrations in CS:\n",
    "  * Computer science has a number of concentrations. \n",
    "    * [General concentration](https://catalog.colostate.edu/general-catalog/colleges/natural-sciences/computer-science/computer-science-major/computer-science-concentration/#requirementstext) is the most flexible, and even allows students to double major or minor pretty easily. \n",
    "    * [Software Engineering](https://catalog.colostate.edu/general-catalog/colleges/natural-sciences/computer-science/computer-science-major-software-engineering-concentration/)\n",
    "    * [Computing Systems](https://catalog.colostate.edu/general-catalog/colleges/natural-sciences/computer-science/computer-science-major-computing-systems-concentration/)\n",
    "    * [Human Centered Computing](https://catalog.colostate.edu/general-catalog/colleges/natural-sciences/computer-science/computer-science-major/human-centered-computing-concentration/)\n",
    "    * [Networks and Security](https://catalog.colostate.edu/general-catalog/colleges/natural-sciences/computer-science/computer-science-major-networks-security-concentration/)\n",
    "    * [Artificial Intelligence](https://catalog.colostate.edu/general-catalog/colleges/natural-sciences/computer-science/computer-science-major-artificial-intelligence-machine-learning-concentration/)\n",
    "    * Computer Science Education. \n",
    "  * Minors: \n",
    "    * [Minor in Computer Science](https://catalog.colostate.edu/general-catalog/colleges/natural-sciences/computer-science/computer-science-minor/) - choose your own adventure minor\n",
    "    * [Minor in Machine Learning](https://catalog.colostate.edu/general-catalog/colleges/natural-sciences/computer-science/machine-learning-minor/) - popular with stats/math, and engineering\n",
    "    * [Minor in Bioinformatics](https://catalog.colostate.edu/general-catalog/colleges/natural-sciences/computer-science/bioinformatics-minor/) - Biology + Computer Science\n"
   ]
  },
  {
   "cell_type": "markdown",
   "metadata": {},
   "source": [
    "## Four Pillars of Object Oriented Programming\n",
    "\n",
    "* Abstraction\n",
    "  * You have practiced this already by building 'general' classes/types\n",
    "  * You can reuse these types in a variety of different ways\n",
    "* Encapsulation\n",
    "  * You have practiced this by\n",
    "    * Making classes wrap/focus on a single idea\n",
    "    * Controlled entry points into that class (public / private control)\n",
    "* Inheritance\n",
    "  * The ability to create an **is a** relationship between classes\n",
    "  * Classes inherit from other classes, gaining their properties \n",
    "* Polymorphism \n",
    "  * Intrinsically connected to Inheritance\n",
    "  * Allows subclasses to fill the role of super class\n",
    "    * Barbara Liskov - type hierarchies\n",
    "    * Liskov Substitution Principle (named after her and her ideas, she didn't name it)\n",
    "\n",
    "\n",
    "These are nice technical interview questions, but not something we talk about daily. Understanding them helps you understand the \"why\" on how java is designed (every class can be an object, and one class per file embodies encapsulation!)\n"
   ]
  },
  {
   "cell_type": "markdown",
   "metadata": {},
   "source": [
    "## Inheritance Review\n",
    "\n",
    "* Keep your programs DRY\n",
    "* Super/Parent classes\n",
    "* Subclass/Child Class extends parent\n",
    "* Can only extend one immediate parent\n",
    "* Subclass Classes\n",
    "    * gain public, protected, package-protected methods and variables of parent\n",
    "* is-a relationship \n",
    "\n",
    "### In Class Practice\n",
    "Based on the following UML scheme, write the classes that match them! \n",
    "\n",
    "![UML diagram](img/UML_Polymorphism.png)\n",
    "\n",
    "* A couple points to consider:\n",
    "  * toString() - do whatever makes sense. Maybe the number of sides and area?\n",
    "  * Recall that interfaces are single lines of code that define the 'contract' of what to write\n",
    "    * start there!\n",
    "  * Build up\n",
    "* UML Reminder\n",
    "  * \\# means protected\n",
    "  * + means public\n",
    "  * - means private\n",
    "  * the return type is after the colon :\n",
    "  * So this line in the interface\n",
    "    ```text\n",
    "    + getColor(): String\n",
    "    ```\n",
    "  * becomes\n",
    "    ```java\n",
    "    public String getColor();\n",
    "    ```\n",
    "* Color is stored as a string of red,green,blue.\n",
    "  * You can assume it is correct / matches that format\n",
    "  * getRed(): int, would grab the substring of red (before the first comma)\n",
    "    * and then use Integer.parseInt(val) to return the int value of red\n",
    "* Only need one programmer for the table, but this can take time to write. \n",
    "  * I provided two of the four classes in zybooks under the in class lab for the week"
   ]
  },
  {
   "cell_type": "code",
   "execution_count": 2,
   "metadata": {},
   "outputs": [],
   "source": [
    "public interface Colorable {\n",
    "    public String getColor();\n",
    "    public int getRed();\n",
    "    public int getGreen();\n",
    "    public int getBlue();\n",
    "    public void setColor(String color);   \n",
    "}"
   ]
  },
  {
   "cell_type": "code",
   "execution_count": 10,
   "metadata": {},
   "outputs": [],
   "source": [
    "public class Shape implements Colorable {\n",
    "    protected int sides;\n",
    "    private String color;\n",
    "    public Shape(int sides, String color) {\n",
    "        this.sides = sides;\n",
    "        setColor(color);\n",
    "    }\n",
    "    public double getArea() { return 0;}\n",
    "    public String getColor() { return color;}\n",
    "    public void setColor(String color) {this.color = color;}\n",
    "    public int getRed() {return Integer.parseInt(color.substring(0, color.indexOf(\",\")));}\n",
    "    public int getGreen() {return Integer.parseInt(color.substring(color.indexOf(\",\")+1,\n",
    "                                                            color.lastIndexOf(\",\")));}\n",
    "    public int getBlue() { return Integer.parseInt(color.substring(color.lastIndexOf(\",\")+1)); }\n",
    "    public String toString() {\n",
    "        return String.format(\"Sides: %d, Area: %.2f\", sides, getArea());\n",
    "    }\n",
    "}"
   ]
  },
  {
   "cell_type": "code",
   "execution_count": 11,
   "metadata": {},
   "outputs": [],
   "source": [
    "public class Rectangle extends Shape {\n",
    "    private int width;\n",
    "    private int height;\n",
    "    public Rectangle(int width, int height, String color) {\n",
    "        super(4, color);\n",
    "        this.width = width;\n",
    "        this.height = height;\n",
    "    }\n",
    "    public double getArea() {\n",
    "        return width*height;\n",
    "    }\n",
    "}"
   ]
  },
  {
   "cell_type": "code",
   "execution_count": 13,
   "metadata": {},
   "outputs": [],
   "source": [
    "public class Circle extends Shape {\n",
    "    private int radius;\n",
    "    public Circle(int radius, String color) {\n",
    "        super(1, color);\n",
    "        this.radius = radius;\n",
    "    }\n",
    "    public double getArea() {\n",
    "        return Math.PI * (radius * radius);\n",
    "    }\n",
    "}"
   ]
  },
  {
   "cell_type": "markdown",
   "metadata": {},
   "source": [
    "### Practice continued\n",
    "\n",
    "* Now create three objects. \n",
    "* Two rectangles, and one Circle.\n",
    "  * Store all three into a single ArrayList...\n",
    "  * Wait! is that possible?\n",
    "\n",
    "\n",
    "## Polymorphism\n",
    "* Strengthening the **is-a** relationship\n",
    "* We can 'cast' subclasses to be the superclass\n",
    "* Examples:"
   ]
  },
  {
   "cell_type": "code",
   "execution_count": 19,
   "metadata": {},
   "outputs": [
    {
     "name": "stdout",
     "output_type": "stream",
     "text": [
      "Sides: 1, Area: 78.54\n",
      "Sides: 4, Area: 150.00\n",
      "Sides: 4, Area: 120.00\n"
     ]
    }
   ],
   "source": [
    "Shape circle = new Circle(5, \"255,255,255\");\n",
    "Shape rec1 = new Rectangle(10, 15, \"128,255,124\");\n",
    "Shape rec2 = new Rectangle(30, 4, \"64,23,34\");\n",
    "\n",
    "System.out.println(circle);\n",
    "System.out.println(rec1);\n",
    "System.out.println(rec2);"
   ]
  },
  {
   "cell_type": "code",
   "execution_count": 20,
   "metadata": {},
   "outputs": [
    {
     "name": "stdout",
     "output_type": "stream",
     "text": [
      "[Sides: 1, Area: 78.54, Sides: 4, Area: 150.00, Sides: 4, Area: 120.00]\n"
     ]
    }
   ],
   "source": [
    "List<Shape> shapes = new ArrayList<>(); // notice List!, not ArrayList\n",
    "shapes.add(circle);\n",
    "shapes.add(rec1);\n",
    "shapes.add(rec2);\n",
    "\n",
    "System.out.println(shapes);"
   ]
  },
  {
   "cell_type": "markdown",
   "metadata": {},
   "source": [
    "> List?  \n",
    "> List is an interface used for multiple types of lists in java. Best practice is to cast ArrayList as List unless you need *specific* features of ArrayList, that other lists don't share.\n",
    "\n",
    "What if the child has methods not in the parent?"
   ]
  },
  {
   "cell_type": "code",
   "execution_count": 24,
   "metadata": {},
   "outputs": [
    {
     "name": "stdout",
     "output_type": "stream",
     "text": [
      "Sides: 1, Area: 78.54\n",
      "Sides: 4, Area: 150.00\n",
      "Sides: 4, Area: 120.00\n"
     ]
    }
   ],
   "source": [
    "public class Circle extends Shape {\n",
    "    private int radius;\n",
    "    public Circle(int radius, String color) {\n",
    "        super(1, color);\n",
    "        this.radius = radius;\n",
    "    }\n",
    "    public double getArea() {\n",
    "        return Math.PI * (radius * radius);\n",
    "    }\n",
    "    public int getDiameter() { return radius * 2;}\n",
    "}\n",
    "\n",
    "List<Shape> shapes = new ArrayList<>();\n",
    "shapes.add(new Circle(5, \"255,255,255\"));\n",
    "shapes.add(new Rectangle(10, 15, \"128,255,124\"));\n",
    "shapes.add(new Rectangle(30, 4, \"64,23,34\"));\n",
    "\n",
    "for(Shape s : shapes) {\n",
    "    System.out.println(s);\n",
    "}\n",
    "\n"
   ]
  },
  {
   "cell_type": "code",
   "execution_count": 25,
   "metadata": {},
   "outputs": [
    {
     "ename": "CompilationException",
     "evalue": "",
     "output_type": "error",
     "traceback": [
      "\u001b[1m\u001b[30m|   \u001b[1m\u001b[30mint diameter = \u001b[0m\u001b[1m\u001b[30m\u001b[41mshapes.get(0).getDiameter\u001b[0m\u001b[1m\u001b[30m();\u001b[0m",
      "\u001b[1m\u001b[31mcannot find symbol\u001b[0m",
      "\u001b[1m\u001b[31m  symbol:   method getDiameter()\u001b[0m",
      ""
     ]
    }
   ],
   "source": [
    "int diameter = shapes.get(0).getDiameter();"
   ]
  },
  {
   "cell_type": "markdown",
   "metadata": {},
   "source": [
    "Why?\n",
    "\n",
    "The compiler is looking for a Shape, it only becomes a Circle when we need to, so it doesn't see the method .getDiameter(). To fix this - **casting** to the rescue!\n",
    "\n",
    "### Casting\n",
    "\n",
    "* we have been using casting to convert between primitive types\n",
    "  ```java\n",
    "    int val = 67;\n",
    "    char letter = (char)val;\n",
    "  ```\n",
    "* However casting to between objects helps:\n",
    "  * Tell the compiler you know what you are doing\n",
    "  * Forces the compiler to treat an object like another object\n",
    "  * ONLY valid if going between super and subclasses."
   ]
  },
  {
   "cell_type": "code",
   "execution_count": 27,
   "metadata": {},
   "outputs": [
    {
     "name": "stdout",
     "output_type": "stream",
     "text": [
      "10\n",
      "10\n"
     ]
    }
   ],
   "source": [
    "Circle tmp = (Circle)shapes.get(0);\n",
    "System.out.println(tmp.getDiameter());\n",
    "\n",
    "// could also do it in one line, but can be messy\n",
    "System.out.println(((Circle)shapes.get(0)).getDiameter());"
   ]
  },
  {
   "cell_type": "markdown",
   "metadata": {},
   "source": [
    "### instanceOf\n",
    "\n",
    "A reserved word / command to determine if an object is an \"instance of\" a class.\n",
    "\n",
    "For example:"
   ]
  },
  {
   "cell_type": "code",
   "execution_count": 29,
   "metadata": {},
   "outputs": [
    {
     "name": "stdout",
     "output_type": "stream",
     "text": [
      "true\n",
      "false\n"
     ]
    }
   ],
   "source": [
    "boolean isCircle = shapes.get(0) instanceof Circle;\n",
    "boolean isRectangle = shapes.get(0) instanceof Rectangle;\n",
    "\n",
    "System.out.println(isCircle);\n",
    "System.out.println(isRectangle);"
   ]
  },
  {
   "cell_type": "markdown",
   "metadata": {},
   "source": [
    "### Practice\n",
    "\n",
    "* Take the array list of circles and rectangles\n",
    "* Loop through the items and only print Rectangles\n",
    "* Further practice\n",
    "  * Loop through the classes, and only print items whose red values are greater than 64"
   ]
  },
  {
   "cell_type": "code",
   "execution_count": 31,
   "metadata": {},
   "outputs": [
    {
     "name": "stdout",
     "output_type": "stream",
     "text": [
      "Sides: 4, Area: 150.00\n",
      "Sides: 4, Area: 120.00\n",
      "Color blind safe objects...\n",
      "Sides: 1, Area: 78.54\n",
      "Sides: 4, Area: 150.00\n"
     ]
    }
   ],
   "source": [
    "for(Shape s : shapes) {\n",
    "    if(s instanceof Rectangle) System.out.println(s);\n",
    "}\n",
    "\n",
    "System.out.println(\"Color blind safe objects...\");\n",
    "for(Shape s : shapes) {\n",
    "    if(s.getRed() > 64) System.out.println(s);\n",
    "}"
   ]
  },
  {
   "cell_type": "markdown",
   "metadata": {},
   "source": [
    "## Overview\n",
    "\n",
    "* Polymorphism\n",
    "  * Essential to good programming\n",
    "  * Adds a lot of power to how you store objects\n",
    "  * Also adds flexibility in your parameters\n",
    "  * For example:\n",
    "    * What if the only method I require is .getRed()?\n",
    "    * I can set my parameter to be Colorable! \n",
    "    * This allows any object that meets that interface to use the method\n",
    "    * Reduced the number of variations I care to write about\n",
    "* With all that said:\n",
    "  * This takes practice, and you won't be expected to 'design from scratch' at this stage."
   ]
  }
 ],
 "metadata": {
  "interpreter": {
   "hash": "507d0580e2b527a70f64f40fb9b6583b2a77378ccde06f27533dbdd39bb8d03d"
  },
  "kernelspec": {
   "display_name": "Java",
   "language": "java",
   "name": "java"
  },
  "language_info": {
   "codemirror_mode": "java",
   "file_extension": ".jshell",
   "mimetype": "text/x-java-source",
   "name": "Java",
   "pygments_lexer": "java",
   "version": "17.0.2+8"
  },
  "orig_nbformat": 4
 },
 "nbformat": 4,
 "nbformat_minor": 2
}
