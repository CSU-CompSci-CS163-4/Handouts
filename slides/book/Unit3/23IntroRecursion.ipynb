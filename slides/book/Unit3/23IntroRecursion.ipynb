{
 "cells": [
  {
   "cell_type": "markdown",
   "metadata": {},
   "source": [
    "# Introduction to Recursion\n",
    "\n",
    "* In this lecture we will cover\n",
    "  * Basic recursion\n",
    "    * Base Case\n",
    "    * Recursive Case\n",
    "\n",
    "\n",
    "| ![recursion](img/starwars_recursion.jpg) | ![recursion understanding](img/recursion_understanding.jpg) |\n",
    "| - | - |\n",
    "| When you first learn recursion | When you finally understand it |\n"
   ]
  },
  {
   "cell_type": "markdown",
   "metadata": {},
   "source": [
    "### Your future in CS \n",
    "I used to include this on my slides, but since these slides have changed - going to just leave it up here for every notebook. I get a lot of questions about more programming courses, the concentrations, and minors in computer science. Here is a brief reminder.\n",
    "\n",
    "CS 165 – Next Course In Sequence, also consider CS 220 (math and stats especially) \n",
    "* CO Jobs Report 2021 – 77% of *all* new jobs in Colorado require programming\n",
    "* 60% of all STEM jobs requires *advanced* (200-300 level) \n",
    "* 31% of all Bachelor of Arts degree titled jobs also required coding skills \n",
    "* 2016 Report found on average jobs that require coding skills paid $22,000 more\n",
    "\n",
    "* Concentrations in CS:\n",
    "  * Computer science has a number of concentrations. \n",
    "    * [General concentration](https://catalog.colostate.edu/general-catalog/colleges/natural-sciences/computer-science/computer-science-major/computer-science-concentration/#requirementstext) is the most flexible, and even allows students to double major or minor pretty easily. \n",
    "    * [Software Engineering](https://catalog.colostate.edu/general-catalog/colleges/natural-sciences/computer-science/computer-science-major-software-engineering-concentration/)\n",
    "    * [Computing Systems](https://catalog.colostate.edu/general-catalog/colleges/natural-sciences/computer-science/computer-science-major-computing-systems-concentration/)\n",
    "    * [Human Centered Computing](https://catalog.colostate.edu/general-catalog/colleges/natural-sciences/computer-science/computer-science-major/human-centered-computing-concentration/)\n",
    "    * [Networks and Security](https://catalog.colostate.edu/general-catalog/colleges/natural-sciences/computer-science/computer-science-major-networks-security-concentration/)\n",
    "    * [Artificial Intelligence](https://catalog.colostate.edu/general-catalog/colleges/natural-sciences/computer-science/computer-science-major-artificial-intelligence-machine-learning-concentration/)\n",
    "    * Computer Science Education. \n",
    "  * Minors: \n",
    "    * [Minor in Computer Science](https://catalog.colostate.edu/general-catalog/colleges/natural-sciences/computer-science/computer-science-minor/) - choose your own adventure minor\n",
    "    * [Minor in Machine Learning](https://catalog.colostate.edu/general-catalog/colleges/natural-sciences/computer-science/machine-learning-minor/) - popular with stats/math, and engineering\n",
    "    * [Minor in Bioinformatics](https://catalog.colostate.edu/general-catalog/colleges/natural-sciences/computer-science/bioinformatics-minor/) - Biology + Computer Science\n"
   ]
  },
  {
   "cell_type": "markdown",
   "metadata": {},
   "source": [
    "## Warmup Activity: Loops\n",
    "\n",
    "Write a method that calculates the exponent of a value. For example\n",
    "\n",
    "```java\n",
    "exponent(5, 5); // returns 3,125\n",
    "exponent(5, 2); // returns 25\n",
    "```\n",
    "\n",
    "You can start with an empty file, and it can be a static method"
   ]
  },
  {
   "cell_type": "code",
   "execution_count": null,
   "metadata": {},
   "outputs": [],
   "source": [
    "public static int exponent(int value, int exp) {\n",
    "    int answer = 1;\n",
    "\n",
    "    \n",
    "    return answer;\n",
    "}\n",
    "\n",
    "System.out.println(exponent(5,5));\n",
    "System.out.println(exponent(5,2));"
   ]
  },
  {
   "cell_type": "markdown",
   "metadata": {},
   "source": [
    "## Simple Recursion \n",
    "\n",
    "* Recursion\n",
    "  * A method that calls itself\n",
    "  * Another way to repeat!\n",
    "* How to write it?\n",
    "  * Write a base case!\n",
    "  * Write the recursive case    \n",
    "    * the method calling itself, with a slight modification to the parameters!\n",
    "\n",
    "### Factorial Example\n",
    "\n",
    "Take the following iterative code to determine a factorial"
   ]
  },
  {
   "cell_type": "code",
   "execution_count": null,
   "metadata": {},
   "outputs": [],
   "source": [
    "public static long factorialLoop(int n) {\n",
    "    long fact = 1;\n",
    "    for(int i = n; i > 1; i--) {\n",
    "        fact *= i;\n",
    "    }\n",
    "    return fact;\n",
    "}\n",
    "\n",
    "System.out.println(factorialLoop(4)); // 4 * 3 * 2 * 1\n",
    "System.out.println(factorialLoop(5)); // 5 * 4 * 3 * 2 * 1\n",
    "System.out.println(factorialLoop(6));\n"
   ]
  },
  {
   "cell_type": "markdown",
   "metadata": {},
   "source": [
    "#### Build Factorial Recursively\n",
    "\n",
    "First think about the format / pattern to factorial\n",
    "\n",
    "$n! = n * (n - 1)!$\n",
    "\n",
    "Meaning the factorial of any $n$ is $n$ times the factorial of $n-1$! This creates a pattern to exploit.  Furthermore\n",
    "\n",
    "$1! = 1$  \n",
    "$0! = 1$\n",
    "\n",
    "\n",
    "Using this, we build a base case\n",
    "\n",
    "```java\n",
    "if(n <= 1) return 1;\n",
    "```\n",
    "\n",
    "and then we can build the recursive call\n",
    "\n",
    "```java\n",
    "return n * factorial(n-1);\n",
    "```\n",
    "\n",
    "Let's put it together"
   ]
  },
  {
   "cell_type": "code",
   "execution_count": null,
   "metadata": {},
   "outputs": [],
   "source": [
    "public static long factorial(int n) {\n",
    "    if(n<=1) return 1; // base case first!\n",
    "    return n * factorial(n-1);\n",
    "}\n",
    "\n",
    "System.out.println(factorial(4));\n",
    "System.out.println(factorial(5));\n",
    "System.out.println(factorial(6));"
   ]
  },
  {
   "cell_type": "markdown",
   "metadata": {},
   "source": [
    "#### Breaking it down\n",
    "\n",
    "![factorial example](img/factorial_pass.png)\n",
    "\n",
    "* each method is called, and 'stored' waiting until all methods are called\n",
    "* This is called the 'stack'\n",
    "* As such\n",
    "  * n = 3 needs to wait until n=2, and n=1 completes, and gets the return value\n",
    "\n",
    "![factorial tree](img/factorial_tree.png)"
   ]
  },
  {
   "cell_type": "markdown",
   "metadata": {},
   "source": [
    "### Student Practice\n",
    "\n",
    "Going back to exponent, write it recursively.\n",
    "\n",
    "Remember, the exponent can be defined by the following pattern\n",
    "\n",
    "$n^5 = n * n^4$"
   ]
  },
  {
   "cell_type": "code",
   "execution_count": null,
   "metadata": {},
   "outputs": [],
   "source": [
    "public static long exponent_rec(int n, int exp) {\n",
    "   \n",
    "}\n",
    "\n",
    "System.out.println(exponent_rec(5, 2));\n",
    "System.out.println(exponent_rec(5, 3));\n",
    "System.out.println(exponent_rec(5, 5));"
   ]
  },
  {
   "cell_type": "markdown",
   "metadata": {},
   "source": [
    "### More Complex: String Reverse\n",
    "\n",
    "Take the following code.\n",
    "\n",
    "**DRAW** it out on a piece of paper (you can use the tree or method call example). \n",
    "\n",
    "Document every method call!"
   ]
  },
  {
   "cell_type": "code",
   "execution_count": null,
   "metadata": {},
   "outputs": [],
   "source": [
    "public static String reverseString(String str) {\n",
    "    return reverseString(str, str.length()-1);\n",
    "}\n",
    "\n",
    "public static String reverseString(String str, int index) {\n",
    "    if(index < 0) return \"\";\n",
    "    return str.charAt(index) + reverseString(str, index-1);\n",
    "}\n",
    "    \n",
    "System.out.println(reverseString(\"gem\"));\n"
   ]
  },
  {
   "cell_type": "markdown",
   "metadata": {},
   "source": [
    "#### how can it look?\n",
    "\n",
    "![String reverse](img/recursion_string_reverse.png)\n",
    "\n",
    "\n",
    "#### More student practice\n",
    "\n",
    "Take an int array, and total all the values in the integer array, using *Recursion*. You may do similar as above and have overloaded method calls!"
   ]
  },
  {
   "cell_type": "code",
   "execution_count": null,
   "metadata": {},
   "outputs": [],
   "source": [
    "public static int sum(int[] values) {\n",
    "   \n",
    "}\n",
    "\n",
    "public static int sum(int[] values, int index) {\n",
    "   \n",
    "}\n",
    "\n",
    "\n",
    "int[] vals = {10, 12, 13, 10, 12, 15};\n",
    "\n",
    "System.out.println(sum(vals));"
   ]
  },
  {
   "cell_type": "markdown",
   "metadata": {},
   "source": [
    "## Why Recursion\n",
    "\n",
    "* But we can just use loops! \n",
    "  * For these examples yes\n",
    "  * But what about more complex 'tree' like structures. \n",
    "  * For example:  \n",
    "    ![complex arrays](img/comlex_array_structure.png)\n",
    "  * How many for loops do you use, if you didn't know how many other lists there were?\n",
    "    * This actually is a type of 'tree' structure\n",
    "    * Explored more in depth in CS 165\n",
    "* Other reasons?\n",
    "  * What if you only know the *next* element, and you don't have access to all the elements!\n",
    "    * Recursion to the rescue!\n",
    "* However, it isn't a cure all\n",
    "  * can be slower\n",
    "  * Have to pick and choose what is best. \n",
    "\n",
    "Solution to the any depth of arrays summation below!\n"
   ]
  },
  {
   "cell_type": "code",
   "execution_count": null,
   "metadata": {},
   "outputs": [],
   "source": [
    "public static int sum_array(Object[] values) {\n",
    "    return sum_array(values, 0); // overload, for easier initial call\n",
    "}\n",
    "public static int sum_array(Object[] values, int current) {\n",
    "    if(current >= values.length) return 0; // past end of array, return 0\n",
    "    if(values[current] instanceof Object[]) // another array!\n",
    "        return sum_array((Object[])values[current], 0) + sum_array(values, current+1);\n",
    "    return (Integer)values[current] + sum_array(values, current+1); // number plus something\n",
    "}\n",
    "\n",
    "\n",
    "Object[] values = {1, 2, 3, new Object[]{4, 5, new Object[]{1,1}}, 10, new Integer[]{2,2}, 1, 10};\n",
    "System.out.println(sum_array(values)); \n"
   ]
  }
 ],
 "metadata": {
  "kernelspec": {
   "display_name": "Java",
   "language": "java",
   "name": "java"
  },
  "language_info": {
   "codemirror_mode": "java",
   "file_extension": ".jshell",
   "mimetype": "text/x-java-source",
   "name": "java",
   "pygments_lexer": "java",
   "version": "17.0.1+12"
  },
  "orig_nbformat": 4
 },
 "nbformat": 4,
 "nbformat_minor": 2
}
