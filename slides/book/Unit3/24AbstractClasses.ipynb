{
 "cells": [
  {
   "cell_type": "markdown",
   "metadata": {},
   "source": [
    "# Abstract Classes\n",
    "\n",
    "In this lecture we will discuss:\n",
    "\n",
    "* Review of Inheritance \n",
    "* Review of Polymorphism\n",
    "* Review of Interfaces\n",
    "* Introduction of Abstract classes"
   ]
  },
  {
   "cell_type": "markdown",
   "metadata": {},
   "source": [
    "### Your future in CS \n",
    "I used to include this on my slides, but since these slides have changed - going to just leave it up here for every notebook. I get a lot of questions about more programming courses, the concentrations, and minors in computer science. Here is a brief reminder.\n",
    "\n",
    "CS 165 – Next Course In Sequence, also consider CS 220 (math and stats especially) \n",
    "* CO Jobs Report 2021 – 77% of *all* new jobs in Colorado require programming\n",
    "* 60% of all STEM jobs requires *advanced* (200-300 level) \n",
    "* 31% of all Bachelor of Arts degree titled jobs also required coding skills \n",
    "* 2016 Report found on average jobs that require coding skills paid $22,000 more\n",
    "\n",
    "* Concentrations in CS:\n",
    "  * Computer science has a number of concentrations. \n",
    "    * [General concentration](https://catalog.colostate.edu/general-catalog/colleges/natural-sciences/computer-science/computer-science-major/computer-science-concentration/#requirementstext) is the most flexible, and even allows students to double major or minor pretty easily. \n",
    "    * [Software Engineering](https://catalog.colostate.edu/general-catalog/colleges/natural-sciences/computer-science/computer-science-major-software-engineering-concentration/)\n",
    "    * [Computing Systems](https://catalog.colostate.edu/general-catalog/colleges/natural-sciences/computer-science/computer-science-major-computing-systems-concentration/)\n",
    "    * [Human Centered Computing](https://catalog.colostate.edu/general-catalog/colleges/natural-sciences/computer-science/computer-science-major/human-centered-computing-concentration/)\n",
    "    * [Networks and Security](https://catalog.colostate.edu/general-catalog/colleges/natural-sciences/computer-science/computer-science-major-networks-security-concentration/)\n",
    "    * [Artificial Intelligence](https://catalog.colostate.edu/general-catalog/colleges/natural-sciences/computer-science/computer-science-major-artificial-intelligence-machine-learning-concentration/)\n",
    "    * Computer Science Education. \n",
    "  * Minors: \n",
    "    * [Minor in Computer Science](https://catalog.colostate.edu/general-catalog/colleges/natural-sciences/computer-science/computer-science-minor/) - choose your own adventure minor\n",
    "    * [Minor in Machine Learning](https://catalog.colostate.edu/general-catalog/colleges/natural-sciences/computer-science/machine-learning-minor/) - popular with stats/math, and engineering\n",
    "    * [Minor in Bioinformatics](https://catalog.colostate.edu/general-catalog/colleges/natural-sciences/computer-science/bioinformatics-minor/) - Biology + Computer Science\n"
   ]
  },
  {
   "cell_type": "markdown",
   "metadata": {},
   "source": [
    "## Inheritance and Polymorphism \n",
    "\n",
    "Recall, in the polymorphism lecture last week:\n",
    "\n",
    "![Shape example](img/UML_Polymorphism.png)\n",
    "\n",
    "We implemented this structure. \n",
    "\n",
    "> Discussion  \n",
    "> Take a moment to discuss the example. Define the following elements:\n",
    "> * Interface\n",
    "> * Methods that are overwritten \n",
    "> * Superclasses\n",
    "> * Subclasses\n",
    "> * (looking at your implementation) Key word to call the superclass constructor that was used?\n",
    "> * What methods are being used in toString()?\n",
    "> * Does getArea() really make sense for Shape?\n",
    ">   * what does that really mean?\n",
    ">\n",
    ">  Also use this time to get caught up on the code from last week if you never finished it at your table!"
   ]
  },
  {
   "cell_type": "code",
   "execution_count": 1,
   "metadata": {
    "vscode": {
     "languageId": "java"
    }
   },
   "outputs": [],
   "source": [
    "public interface Colorable {\n",
    "    public String getColor();\n",
    "    public int getRed();\n",
    "    public int getGreen();\n",
    "    public int getBlue();\n",
    "    public void setColor(String color);   \n",
    "}"
   ]
  },
  {
   "cell_type": "code",
   "execution_count": 8,
   "metadata": {
    "vscode": {
     "languageId": "java"
    }
   },
   "outputs": [],
   "source": [
    "public class Shape implements Colorable {\n",
    "    protected int sides;\n",
    "    private String color;\n",
    "    public Shape(int sides, String color) {\n",
    "        this.sides = sides;\n",
    "        setColor(color);\n",
    "    }\n",
    "    public double getArea() { return 0;}\n",
    "    public String getColor() { return color;}\n",
    "    public int getSides() {return sides;} // added from the UML\n",
    "    public void setColor(String color) {this.color = color;}\n",
    "    public int getRed() {return Integer.parseInt(color.substring(0, color.indexOf(\",\")));}\n",
    "    public int getGreen() {return Integer.parseInt(color.substring(color.indexOf(\",\")+1,\n",
    "                                                            color.lastIndexOf(\",\")));}\n",
    "    public int getBlue() { return Integer.parseInt(color.substring(color.lastIndexOf(\",\")+1)); }\n",
    "    public String toString() {\n",
    "        return String.format(\"Sides: %d, Area: %.2f\", sides, getArea());\n",
    "    }\n",
    "}"
   ]
  },
  {
   "cell_type": "code",
   "execution_count": 3,
   "metadata": {
    "vscode": {
     "languageId": "java"
    }
   },
   "outputs": [],
   "source": [
    "public class Rectangle extends Shape {\n",
    "    private int width;\n",
    "    private int height;\n",
    "    public Rectangle(int width, int height, String color) {\n",
    "        super(4, color);\n",
    "        this.width = width;\n",
    "        this.height = height;\n",
    "    }\n",
    "    public double getArea() {\n",
    "        return width*height;\n",
    "    }\n",
    "}"
   ]
  },
  {
   "cell_type": "code",
   "execution_count": 4,
   "metadata": {
    "vscode": {
     "languageId": "java"
    }
   },
   "outputs": [],
   "source": [
    "public class Circle extends Shape {\n",
    "    private int radius;\n",
    "    public Circle(int radius, String color) {\n",
    "        super(1, color);\n",
    "        this.radius = radius;\n",
    "    }\n",
    "    public double getArea() {\n",
    "        return Math.PI * (radius * radius);\n",
    "    }\n",
    "    public int getDiameter() { return radius * 2;} // this was added at the end of the lecture, so not part of diagram\n",
    "}"
   ]
  },
  {
   "cell_type": "markdown",
   "metadata": {},
   "source": [
    "## Definition Review:\n",
    "\n",
    "* Inheritance:\n",
    "  * Creates an *is-a* relationship between classes\n",
    "    * Used to keep your code DRY\n",
    "    * Allows fully implemented 'more generalized' classes as the super classes\n",
    "      * specialized subclasses as the subclasses\n",
    "    * uses the key word **extends**\n",
    "      * can only extend / inherited from one immediate parent (but can have  'chain' of parents)\n",
    "  * Example:\n",
    "    * A circle gains the properties of shape including and implemented methods"
   ]
  },
  {
   "cell_type": "code",
   "execution_count": 10,
   "metadata": {
    "vscode": {
     "languageId": "java"
    }
   },
   "outputs": [
    {
     "name": "stdout",
     "output_type": "stream",
     "text": [
      "The color is 234,255,123\n"
     ]
    }
   ],
   "source": [
    "Circle crcl = new Circle(10, \"234,255,123\");\n",
    "\n",
    "System.out.println(\"The color is \" + crcl.getColor());"
   ]
  },
  {
   "cell_type": "markdown",
   "metadata": {},
   "source": [
    "## Interfaces\n",
    "\n",
    "* Interfaces\n",
    "  * Define what needs to be implemented\n",
    "  * But they provide no actual implementation\n",
    "    * Can't hold state\n",
    "    * Can't have private methods or variables\n",
    "    * There is something called a default method or static in an interface - we don't explore those in this class. ([reference](https://www.baeldung.com/java-interface-default-method-vs-abstract-class#:~:text=Whenever%20possible%2C%20we%20should%20always,and%20also%20implement%20an%20interface.))\n",
    "  * Think of them as a recipe that must be followed\n",
    "  * uses the key word **implements** \n",
    "    * can implement more than one Interface"
   ]
  },
  {
   "cell_type": "markdown",
   "metadata": {},
   "source": [
    "## Polymorphism\n",
    "\n",
    "* Allows the subclass to be declared as the super\n",
    "  * actually a subclass can 'substitute' in for the super\n",
    "* Extremely useful for things like Arrays and ArrayLists\n",
    "* Useful on overall class design\n"
   ]
  },
  {
   "cell_type": "code",
   "execution_count": 11,
   "metadata": {
    "vscode": {
     "languageId": "java"
    }
   },
   "outputs": [
    {
     "name": "stdout",
     "output_type": "stream",
     "text": [
      "[Sides: 1, Area: 314.16, Sides: 4, Area: 115.00, null]\n"
     ]
    }
   ],
   "source": [
    "Shape[] shapes = new Shape[3]; // fixed size\n",
    "shapes[0] = crcl;\n",
    "shapes[1] = new Rectangle(23, 5, \"123,125,255\");\n",
    "\n",
    "System.out.println(Arrays.toString(shapes));"
   ]
  },
  {
   "cell_type": "markdown",
   "metadata": {},
   "source": [
    "## Abstract Classes\n",
    "\n",
    "* Going back to a discussion question\n",
    "    * Does it make sense for Shape to have ```.getArea()```?\n",
    "    * Not really?\n",
    "    * *but* getArea() is used in shape!\n",
    "* Do we ever really initialize a shape by itself?\n",
    "  * Not really, as the idea isn't very concrete for what we are doing.\n",
    "* Abstract classes to the rescue!\n",
    "  * Allows for most methods to be implemented \n",
    "  * Allows for some methods to be only a definition but not implemented\n",
    "    * forces inheriting classes to implement them before they will compile!"
   ]
  },
  {
   "cell_type": "code",
   "execution_count": 18,
   "metadata": {
    "vscode": {
     "languageId": "java"
    }
   },
   "outputs": [],
   "source": [
    "public abstract class ProcessData {\n",
    "    protected final List<Integer> data = new ArrayList<>();\n",
    "\n",
    "    public ProcessData(String filename) {\n",
    "        loadDataFromFile(filename); // notice I am calling a method that isn't implemented!\n",
    "    }\n",
    "\n",
    "    public int getSum() {\n",
    "        int sum = 0;\n",
    "        for(Integer val : data) {\n",
    "            sum += val;\n",
    "        }\n",
    "        return sum;\n",
    "    }\n",
    "\n",
    "    abstract protected void loadDataFromFile(String filename);  // no implementation, notice abstract keyword\n",
    "\n",
    "}"
   ]
  },
  {
   "cell_type": "code",
   "execution_count": 32,
   "metadata": {
    "vscode": {
     "languageId": "java"
    }
   },
   "outputs": [],
   "source": [
    "public class ProcessCsvData extends ProcessData {\n",
    "    \n",
    "    public ProcessCsvData(String filename) {\n",
    "        super(filename);\n",
    "    }\n",
    "\n",
    "    protected void loadDataFromFile(String filename) {\n",
    "        FileInputStream in;\n",
    "        try {\n",
    "           in = new FileInputStream(filename);\n",
    "        }catch(FileNotFoundException ex) {\n",
    "            System.err.println(\"File not found! \" + ex.getMessage());\n",
    "            return; // leave the method early\n",
    "        }\n",
    "        Scanner scn = new Scanner(in);\n",
    "        scn.useDelimiter(\",\");\n",
    "        while(scn.hasNext()) {\n",
    "           if(scn.hasNextInt()) data.add(scn.nextInt());\n",
    "           else scn.next(); \n",
    "        }\n",
    "    }\n",
    "}"
   ]
  },
  {
   "cell_type": "code",
   "execution_count": 33,
   "metadata": {
    "vscode": {
     "languageId": "java"
    }
   },
   "outputs": [],
   "source": [
    "public class ProcessTxtData extends ProcessData {\n",
    "    \n",
    "    public ProcessTxtData(String filename) {\n",
    "        super(filename);\n",
    "    }\n",
    "\n",
    "    protected void loadDataFromFile(String filename) {\n",
    "        FileInputStream in;\n",
    "        try {\n",
    "           in = new FileInputStream(filename);\n",
    "        }catch(FileNotFoundException ex) {\n",
    "            System.err.println(\"File not found! \" + ex.getMessage());\n",
    "            return; // leave the method early\n",
    "        }\n",
    "        Scanner scn = new Scanner(in);\n",
    "        while(scn.hasNextLine()) {\n",
    "            String line = scn.nextLine().trim();\n",
    "            data.add(Integer.parseInt(line));\n",
    "        }\n",
    "    }\n",
    "}"
   ]
  },
  {
   "cell_type": "code",
   "execution_count": 35,
   "metadata": {
    "vscode": {
     "languageId": "java"
    }
   },
   "outputs": [
    {
     "name": "stdout",
     "output_type": "stream",
     "text": [
      "45\n",
      "45\n"
     ]
    }
   ],
   "source": [
    "ProcessData data_one = new ProcessCsvData(\"data/output.csv\");\n",
    "ProcessData data_two = new ProcessTxtData(\"data/output.txt\");\n",
    "\n",
    "System.out.println(data_one.getSum());\n",
    "System.out.println(data_two.getSum());"
   ]
  },
  {
   "cell_type": "markdown",
   "metadata": {},
   "source": [
    "### Abstract class discussion\n",
    "\n",
    "* The superclass can call a method implemented in the subclass. (this is major!)\n",
    "* You will not need to design thinking about this for a bit, but very powerful\n",
    "\n",
    "\n",
    "### In class activity\n",
    "\n",
    "* Take the `Shape` class and make it abstract\n",
    "* Make `getArea()` abstract\n",
    "* Run the current code (shouldn't change much)\n",
    "* Add an additional class called Triangle.java \n",
    "  * Implement the needed constructor and method\n",
    "  * as a reminder, triangle area is:  \n",
    "    $ \\frac{(base * height)}{2}$\n",
    "* Compile between different stages to see what happens if you try compiling without implemented .getArea()"
   ]
  },
  {
   "cell_type": "code",
   "execution_count": 37,
   "metadata": {
    "vscode": {
     "languageId": "java"
    }
   },
   "outputs": [],
   "source": [
    "public abstract class Shape implements Colorable {\n",
    "    protected int sides;\n",
    "    private String color;\n",
    "    protected Shape(int sides, String color) {\n",
    "        this.sides = sides;\n",
    "        setColor(color);\n",
    "    }\n",
    "    abstract public double getArea();\n",
    "    public String getColor() { return color;}\n",
    "    public int getSides() {return sides;} // added from the UML\n",
    "    public void setColor(String color) {this.color = color;}\n",
    "    public int getRed() {return Integer.parseInt(color.substring(0, color.indexOf(\",\")));}\n",
    "    public int getGreen() {return Integer.parseInt(color.substring(color.indexOf(\",\")+1,\n",
    "                                                            color.lastIndexOf(\",\")));}\n",
    "    public int getBlue() { return Integer.parseInt(color.substring(color.lastIndexOf(\",\")+1)); }\n",
    "    public String toString() {\n",
    "        return String.format(\"Sides: %d, Area: %.2f\", sides, getArea());\n",
    "    }\n",
    "}"
   ]
  },
  {
   "cell_type": "code",
   "execution_count": 42,
   "metadata": {
    "vscode": {
     "languageId": "java"
    }
   },
   "outputs": [
    {
     "ename": "CompilationException",
     "evalue": "",
     "output_type": "error",
     "traceback": [
      "\u001b[1m\u001b[30m|   \u001b[1m\u001b[30m\u001b[0m\u001b[1m\u001b[30m\u001b[41mpublic class Triangle extends Shape {\u001b[0m",
      "\u001b[1m\u001b[30m|   \u001b[1m\u001b[30m\u001b[41m    int base;\u001b[0m",
      "\u001b[1m\u001b[30m|   \u001b[1m\u001b[30m\u001b[41m    int height;\u001b[0m",
      "\u001b[1m\u001b[30m|   \u001b[1m\u001b[30m\u001b[41m\u001b[0m",
      "\u001b[1m\u001b[30m|   \u001b[1m\u001b[30m\u001b[41m    public Triangle(int base, int height, String color) {\u001b[0m",
      "\u001b[1m\u001b[30m|   \u001b[1m\u001b[30m\u001b[41m        super(3, color);\u001b[0m",
      "\u001b[1m\u001b[30m|   \u001b[1m\u001b[30m\u001b[41m        this.base = base;\u001b[0m",
      "\u001b[1m\u001b[30m|   \u001b[1m\u001b[30m\u001b[41m        this.height = height;\u001b[0m",
      "\u001b[1m\u001b[30m|   \u001b[1m\u001b[30m\u001b[41m    }\u001b[0m",
      "\u001b[1m\u001b[30m|   \u001b[1m\u001b[30m\u001b[41m\u001b[0m",
      "\u001b[1m\u001b[30m|   \u001b[1m\u001b[30m\u001b[41m}\u001b[0m",
      "\u001b[1m\u001b[31mTriangle is not abstract and does not override abstract method getArea() in Shape\u001b[0m",
      ""
     ]
    }
   ],
   "source": [
    "public class Triangle extends Shape {\n",
    "    int base;\n",
    "    int height;\n",
    "\n",
    "    public Triangle(int base, int height, String color) {\n",
    "        super(3, color);\n",
    "        this.base = base;\n",
    "        this.height = height;\n",
    "    }\n",
    "\n",
    "}"
   ]
  },
  {
   "cell_type": "code",
   "execution_count": 45,
   "metadata": {
    "vscode": {
     "languageId": "java"
    }
   },
   "outputs": [],
   "source": [
    "public class Triangle extends Shape {\n",
    "    int base;\n",
    "    int height;\n",
    "\n",
    "    public Triangle(int base, int height, String color) {\n",
    "        super(3, color);\n",
    "        this.base = base;\n",
    "        this.height = height;\n",
    "    }\n",
    "\n",
    "    public double getArea() { return (base * height) / 2.0;}\n",
    "\n",
    "}"
   ]
  },
  {
   "cell_type": "code",
   "execution_count": 46,
   "metadata": {
    "vscode": {
     "languageId": "java"
    }
   },
   "outputs": [
    {
     "name": "stdout",
     "output_type": "stream",
     "text": [
      "Sides: 1, Area: 314.16\n",
      "Sides: 1, Area: 452.39\n",
      "Sides: 4, Area: 200.00\n",
      "Sides: 4, Area: 75.00\n",
      "Sides: 3, Area: 100.00\n",
      "Sides: 3, Area: 37.50\n"
     ]
    }
   ],
   "source": [
    "List<Shape> shapes = new ArrayList<>();\n",
    "\n",
    "shapes.add(new Circle(10, \"233,234,223\"));\n",
    "shapes.add(new Circle(12, \"203,134,133\"));\n",
    "shapes.add(new Rectangle(10, 20, \"123,253,292\"));\n",
    "shapes.add(new Rectangle(15, 5, \"123,253,292\"));\n",
    "shapes.add(new Triangle(10, 20, \"193,153,202\"));\n",
    "shapes.add(new Triangle(15, 5, \"123,53,12\"));\n",
    "\n",
    "for(Shape s : shapes) {\n",
    "    System.out.println(s);\n",
    "}"
   ]
  },
  {
   "cell_type": "markdown",
   "metadata": {},
   "source": [
    "### Overview\n",
    "\n",
    "* You now have three different ways to look at objects:\n",
    "  * class - everything is fully implemented\n",
    "  * interface - nothing is implemented, but provides definitions of what to implement\n",
    "  * abstract class - some things are implemented (most actually), but provides definitions of things it needs implemented to work. "
   ]
  }
 ],
 "metadata": {
  "kernelspec": {
   "display_name": "Java",
   "language": "java",
   "name": "java"
  },
  "language_info": {
   "codemirror_mode": "java",
   "file_extension": ".jshell",
   "mimetype": "text/x-java-source",
   "name": "Java",
   "pygments_lexer": "java",
   "version": "17.0.1+12"
  },
  "orig_nbformat": 4
 },
 "nbformat": 4,
 "nbformat_minor": 2
}
