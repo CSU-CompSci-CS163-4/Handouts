{
 "cells": [
  {
   "cell_type": "markdown",
   "metadata": {},
   "source": [
    "# More Branching\n",
    "\n",
    "* In this lecture, we will cover:\n",
    "  * conditional expression / ternary statement\n",
    "  * switch statement\n",
    "  * enum"
   ]
  },
  {
   "cell_type": "markdown",
   "metadata": {},
   "source": [
    "### Your future in CS \n",
    "I used to include this on my slides, but since these slides have changed - going to just leave it up here for every notebook. I get a lot of questions about more programming courses, the concentrations, and minors in computer science. Here is a brief reminder.\n",
    "\n",
    "CS 165 – Next Course In Sequence, also consider CS 220 (math and stats especially) \n",
    "* CO Jobs Report 2021 – 77% of *all* new jobs in Colorado require programming\n",
    "* 60% of all STEM jobs requires *advanced* (200-300 level) \n",
    "* 31% of all Bachelor of Arts degree titled jobs also required coding skills \n",
    "* 2016 Report found on average jobs that require coding skills paid $22,000 more\n",
    "\n",
    "* Concentrations in CS:\n",
    "  * Computer science has a number of concentrations. \n",
    "    * [General concentration](https://catalog.colostate.edu/general-catalog/colleges/natural-sciences/computer-science/computer-science-major/computer-science-concentration/#requirementstext) is the most flexible, and even allows students to double major or minor pretty easily. \n",
    "    * [Software Engineering](https://catalog.colostate.edu/general-catalog/colleges/natural-sciences/computer-science/computer-science-major-software-engineering-concentration/)\n",
    "    * [Computing Systems](https://catalog.colostate.edu/general-catalog/colleges/natural-sciences/computer-science/computer-science-major-computing-systems-concentration/)\n",
    "    * [Human Centered Computing](https://catalog.colostate.edu/general-catalog/colleges/natural-sciences/computer-science/computer-science-major/human-centered-computing-concentration/)\n",
    "    * [Networks and Security](https://catalog.colostate.edu/general-catalog/colleges/natural-sciences/computer-science/computer-science-major-networks-security-concentration/)\n",
    "    * [Artificial Intelligence](https://catalog.colostate.edu/general-catalog/colleges/natural-sciences/computer-science/computer-science-major-artificial-intelligence-machine-learning-concentration/)\n",
    "    * Computer Science Education. \n",
    "  * Minors: \n",
    "    * [Minor in Computer Science](https://catalog.colostate.edu/general-catalog/colleges/natural-sciences/computer-science/computer-science-minor/) - choose your own adventure minor\n",
    "    * [Minor in Machine Learning](https://catalog.colostate.edu/general-catalog/colleges/natural-sciences/computer-science/machine-learning-minor/) - popular with stats/math, and engineering\n",
    "    * [Minor in Bioinformatics](https://catalog.colostate.edu/general-catalog/colleges/natural-sciences/computer-science/bioinformatics-minor/) - Biology + Computer Science\n"
   ]
  },
  {
   "cell_type": "markdown",
   "metadata": {},
   "source": [
    "## If/Else Statement a Review\n",
    "\n",
    "```java\n",
    "if(/*condition is true*/) {\n",
    "    // do something\n",
    "}else {\n",
    "    // do something if condition is false\n",
    "}\n",
    "```\n",
    "\n",
    "A common case is to set a variable or value based on a condition:"
   ]
  },
  {
   "cell_type": "code",
   "execution_count": 1,
   "metadata": {},
   "outputs": [
    {
     "name": "stdout",
     "output_type": "stream",
     "text": [
      "100\n"
     ]
    }
   ],
   "source": [
    "boolean isOn = true;\n",
    "int lightStrength  = -1;\n",
    "if(isOn) {lightStrength = 100;}\n",
    "else {lightStrength = 0;}\n",
    "\n",
    "System.out.println(lightStrength);"
   ]
  },
  {
   "cell_type": "markdown",
   "metadata": {},
   "source": [
    "### Student Practice \n",
    "\n",
    "* Create a new Java file\n",
    "* Instead the main or additional static methods\n",
    "  * Create if/else statements that set a value to a variable\n",
    "  * It can be whatever you want (see above)"
   ]
  },
  {
   "cell_type": "markdown",
   "metadata": {},
   "source": [
    "## Conditional Expressions / Ternary Statements\n",
    "\n",
    "* terms used inter-changeably  \n",
    "* A way to write a *simple* if/else on one line."
   ]
  },
  {
   "cell_type": "code",
   "execution_count": 3,
   "metadata": {},
   "outputs": [
    {
     "name": "stdout",
     "output_type": "stream",
     "text": [
      "hello\n"
     ]
    }
   ],
   "source": [
    "String time = 10 > 5 ? \"hello\" : \"goodbye\";\n",
    "\n",
    "System.out.println(time);// what is printed?"
   ]
  },
  {
   "cell_type": "markdown",
   "metadata": {},
   "source": [
    "### Conditional Expression format\n",
    "\n",
    "* condition ? value if true : value if false\n",
    "\n",
    "This is most commonly used with variable assignment, but doesn't have to be."
   ]
  },
  {
   "cell_type": "code",
   "execution_count": 5,
   "metadata": {},
   "outputs": [
    {
     "name": "stdout",
     "output_type": "stream",
     "text": [
      "Smaller!\n"
     ]
    }
   ],
   "source": [
    "System.out.println(-10 > 5 ? \"Greater!\" : \"Smaller!\");"
   ]
  },
  {
   "cell_type": "markdown",
   "metadata": {},
   "source": [
    "### Student Practice\n",
    "\n",
    "Rewrite the statements you wrote earlier as Ternary statements! Discuss them at the table. \n",
    "\n",
    "#### Overall\n",
    "Do you have to use conditional statements? nope, not at all. Can just make things easier. "
   ]
  },
  {
   "cell_type": "markdown",
   "metadata": {},
   "source": [
    "## Switch Statements\n",
    "\n",
    "First, let's practice if/else if/else statements. \n",
    "\n",
    "* Write an if/else statement that\n",
    "* Checks to see if a student_class (String variable) is:\n",
    "  * “Fencing”\n",
    "    * Then set meeting_info (String variable) to “Wednesday, 4:30PM”\n",
    "  * “Boxing”\n",
    "    * Then set meeting_info (String variable) to “Thursday, “5:00 PM”\n",
    "  * “Aikido”\n",
    "    * Then set meeting_info (String variable) to “Monday, 6:00 AM”\n",
    "  * “Nothing” or null \n",
    "    * Then set meeting_info to the empty String (“”)"
   ]
  },
  {
   "cell_type": "code",
   "execution_count": 6,
   "metadata": {},
   "outputs": [
    {
     "name": "stdout",
     "output_type": "stream",
     "text": [
      "Wednesday, 4:30 PM\n"
     ]
    }
   ],
   "source": [
    "public String getClassTime(String class_taught) {\n",
    "    String meeting_time = \"\";\n",
    "    if(class_taught.equalsIgnoreCase(\"fencing\")) {\n",
    "        meeting_time = \"Wednesday, 4:30 PM\";\n",
    "    }else if(class_taught.equalsIgnoreCase(\"boxing\")) {\n",
    "        meeting_time = \"Thursday, 5:00 PM\";\n",
    "    }else if(class_taught.equalsIgnoreCase(\"aikido\")) {\n",
    "        meeting_time = \"Monday, 6:00 AM\";\n",
    "    }else {\n",
    "        meeting_time = \"\";\n",
    "    }\n",
    "    return meeting_time;\n",
    "}\n",
    "\n",
    "System.out.println(getClassTime(\"Fencing\"));"
   ]
  },
  {
   "cell_type": "markdown",
   "metadata": {},
   "source": [
    "### Switch Statements\n",
    "\n",
    "* A statement that is a bunch of equal equivalencies is common\n",
    "* switch statements were developed for that reason\n",
    "\n",
    "* Format\n",
    "  * Note: this format is for Java < 1.15 (and the more common way to do it)\n",
    "    * java 1.15 they updated the format, but it is backwards compatible to the old format\n",
    "    * Moral of the story, don't like IntellJ write them for you!"
   ]
  },
  {
   "cell_type": "code",
   "execution_count": 8,
   "metadata": {},
   "outputs": [],
   "source": [
    "public static String switchTest(String name){\n",
    "    String faeType;\n",
    "    switch(name) {  // inside the switch is the 'variable to check'\n",
    "        case \"dyson\":  // checks for 'equivalency' using == if primitive, or .equals if string\n",
    "            faeType = \"Werewolf\";\n",
    "            break;   // says stop processing the code / leave the switch\n",
    "        case \"trick\":\n",
    "            faeType = \"Sage\";\n",
    "            break;\n",
    "        case \"bo\" :  // if break does not exist, continues processing code!\n",
    "        case \"aife\":\n",
    "            faeType = \"Succubus\";\n",
    "            break;\n",
    "\t    case \"vex\":\n",
    "            faeType = \"Mesmer\";\n",
    "            break;\n",
    "        default:\n",
    "            faeType = \"human\";\n",
    "    }\n",
    "    return faeType;\n",
    "}"
   ]
  },
  {
   "cell_type": "code",
   "execution_count": 9,
   "metadata": {},
   "outputs": [
    {
     "name": "stdout",
     "output_type": "stream",
     "text": [
      "Sage\n",
      "Mesmer\n",
      "human\n"
     ]
    }
   ],
   "source": [
    "System.out.println(switchTest(\"trick\"));\n",
    "System.out.println(switchTest(\"vex\"));\n",
    "System.out.println(switchTest(\"kenzie\"));"
   ]
  },
  {
   "cell_type": "code",
   "execution_count": 10,
   "metadata": {},
   "outputs": [
    {
     "name": "stdout",
     "output_type": "stream",
     "text": [
      "human\n"
     ]
    }
   ],
   "source": [
    "System.out.println(switchTest(\"Vex!\")); // given the code above, what is printed?"
   ]
  },
  {
   "cell_type": "markdown",
   "metadata": {},
   "source": [
    "### Student Practice\n",
    "\n",
    "Write the if/else if/else you wrote above as a switch statement!"
   ]
  },
  {
   "cell_type": "code",
   "execution_count": 23,
   "metadata": {},
   "outputs": [
    {
     "name": "stdout",
     "output_type": "stream",
     "text": [
      "Wednesday, 4:30 PM\n"
     ]
    }
   ],
   "source": [
    "public String getClassTime2(String class_taught) {\n",
    "    String meeting_time = \"\";\n",
    "    switch(class_taught.toLowerCase()) {\n",
    "        case \"fencing\":\n",
    "            meeting_time = \"Wednesday, 4:30 PM\";\n",
    "            break;\n",
    "        case \"boxing\":\n",
    "            meeting_time = \"Thursday, 5:00 PM\";\n",
    "            break;\n",
    "        case \"aikido\":\n",
    "            meeting_time = \"Monday, 6:00 AM\";\n",
    "            break;\n",
    "        default:\n",
    "            meeting_time = \"\";\n",
    "    }\n",
    "    return meeting_time;\n",
    "}\n",
    "\n",
    "System.out.println(getClassTime2(\"Fencing\"));"
   ]
  },
  {
   "cell_type": "markdown",
   "metadata": {},
   "source": [
    "## Enum\n",
    "\n",
    "* Strings have a lot of variability \n",
    "* Wouldn't it be great if we could define a small 'subset' of items\n",
    "* Introducing Enum"
   ]
  },
  {
   "cell_type": "code",
   "execution_count": 16,
   "metadata": {},
   "outputs": [],
   "source": [
    "public enum Names { \n",
    "   DYSON, \n",
    "   TRICK,\n",
    "   BO,\n",
    "   AIFE,\n",
    "   VEX,\n",
    "   KENZIE\n",
    "}"
   ]
  },
  {
   "cell_type": "markdown",
   "metadata": {},
   "source": [
    "* The enum you create is type (like objects are types)\n",
    "* Actually a special object\n",
    "  * Don't let the javadoc confuse you!\n",
    "* Writing them is meant to be simple, the above would be in a file called Names.java"
   ]
  },
  {
   "cell_type": "code",
   "execution_count": 19,
   "metadata": {},
   "outputs": [
    {
     "name": "stdout",
     "output_type": "stream",
     "text": [
      "Succubus\n",
      "Mesmer\n",
      "human\n"
     ]
    }
   ],
   "source": [
    " public static String switchTest2(Names name){ // notice the parameter\n",
    "    String faeType;\n",
    "    switch(name) {\n",
    "        case DYSON:\n",
    "            faeType = \"Werewolf\";\n",
    "            break;\n",
    "        case TRICK:\n",
    "            faeType = \"Sage\";\n",
    "            break;\n",
    "        case BO:\n",
    "        case AIFE:\n",
    "            faeType = \"Succubus\";\n",
    "            break;\n",
    "\t\tcase VEX:\n",
    "            faeType = \"Mesmer\";\n",
    "            break;\n",
    "        default:\n",
    "            faeType = \"human\";\n",
    "    }\n",
    "    return faeType;\n",
    "}\n",
    "\n",
    "System.out.println(switchTest2(Names.BO));\n",
    "System.out.println(switchTest2(Names.VEX));\n",
    "System.out.println(switchTest2(Names.KENZIE));\n"
   ]
  },
  {
   "cell_type": "code",
   "execution_count": 20,
   "metadata": {},
   "outputs": [
    {
     "ename": "CompilationException",
     "evalue": "",
     "output_type": "error",
     "traceback": [
      "\u001b[1m\u001b[30m|   \u001b[1m\u001b[30mSystem.out.println(switchTest2(\u001b[0m\u001b[1m\u001b[30m\u001b[41mNames.ALICE\u001b[0m\u001b[1m\u001b[30m)); // won't even compile\u001b[0m",
      "\u001b[1m\u001b[31mcannot find symbol\u001b[0m",
      "\u001b[1m\u001b[31m  symbol:   variable ALICE\u001b[0m",
      ""
     ]
    }
   ],
   "source": [
    "System.out.println(switchTest2(Names.ALICE)); // won't even compile"
   ]
  },
  {
   "cell_type": "markdown",
   "metadata": {},
   "source": [
    "### Student Practice\n",
    "\n",
    "* Create an Enum called MAClasses\n",
    "  * Populate it with FENCING, BOXING, AIKIDO\n",
    "* Add another switch statement that uses the enum instead of strings!"
   ]
  },
  {
   "cell_type": "code",
   "execution_count": 21,
   "metadata": {},
   "outputs": [],
   "source": [
    "public enum MAClasses {\n",
    "    FENCING, BOXING, AIKIDO\n",
    "}"
   ]
  },
  {
   "cell_type": "code",
   "execution_count": 24,
   "metadata": {},
   "outputs": [
    {
     "name": "stdout",
     "output_type": "stream",
     "text": [
      "Wednesday, 4:30 PM\n"
     ]
    }
   ],
   "source": [
    "public String getClassTime3(MAClasses class_taught) {\n",
    "    String meeting_time = \"\";\n",
    "    switch(class_taught) {\n",
    "        case FENCING:\n",
    "            meeting_time = \"Wednesday, 4:30 PM\";\n",
    "            break;\n",
    "        case BOXING:\n",
    "            meeting_time = \"Thursday, 5:00 PM\";\n",
    "            break;\n",
    "        case AIKIDO:\n",
    "            meeting_time = \"Monday, 6:00 AM\";\n",
    "            break;\n",
    "        default:\n",
    "            meeting_time = \"\";\n",
    "    }\n",
    "    return meeting_time;\n",
    "}\n",
    "\n",
    "System.out.println(getClassTime3(MAClasses.FENCING));"
   ]
  },
  {
   "cell_type": "code",
   "execution_count": 26,
   "metadata": {},
   "outputs": [
    {
     "name": "stdout",
     "output_type": "stream",
     "text": [
      "BOXING\n",
      "Wednesday, 4:30 PM\n"
     ]
    }
   ],
   "source": [
    "// Also you can convert between Strings and Enums (helpful for the final project)\n",
    "\n",
    "System.out.println(MAClasses.BOXING.toString());\n",
    "\n",
    "MAClasses classType = MAClasses.valueOf(\"FENCING\");\n",
    "\n",
    "System.out.println(getClassTime3(classType));"
   ]
  },
  {
   "cell_type": "markdown",
   "metadata": {},
   "source": [
    "## Overall\n",
    "\n",
    "Both ternary and switch statements are optional, but extremely useful!\n",
    "\n",
    "Enums are used commonly to help create safer code"
   ]
  }
 ],
 "metadata": {
  "kernelspec": {
   "display_name": "Java",
   "language": "java",
   "name": "java"
  },
  "language_info": {
   "codemirror_mode": "java",
   "file_extension": ".jshell",
   "mimetype": "text/x-java-source",
   "name": "Java",
   "pygments_lexer": "java",
   "version": "17.0.2+8"
  },
  "orig_nbformat": 4
 },
 "nbformat": 4,
 "nbformat_minor": 2
}
