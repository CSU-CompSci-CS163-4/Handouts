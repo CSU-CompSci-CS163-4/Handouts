{
 "cells": [
  {
   "cell_type": "markdown",
   "metadata": {},
   "source": [
    "# Sorting and Searching\n",
    "\n",
    "* In this lecture we will cover:\n",
    "  * Linear Search\n",
    "  * Binary Search\n",
    "  * Bubble Sort\n",
    "  * Selection Sort\n",
    "\n",
    "Note: other sorts are covered in your reading. We don't test on them, but very worth reviewing for CS 165. "
   ]
  },
  {
   "cell_type": "markdown",
   "metadata": {},
   "source": [
    "### Your future in CS \n",
    "I used to include this on my slides, but since these slides have changed - going to just leave it up here for every notebook. I get a lot of questions about more programming courses, the concentrations, and minors in computer science. Here is a brief reminder.\n",
    "\n",
    "CS 165 – Next Course In Sequence, also consider CS 220 (math and stats especially) \n",
    "* CO Jobs Report 2021 – 77% of *all* new jobs in Colorado require programming\n",
    "* 60% of all STEM jobs requires *advanced* (200-300 level) \n",
    "* 31% of all Bachelor of Arts degree titled jobs also required coding skills \n",
    "* 2016 Report found on average jobs that require coding skills paid $22,000 more\n",
    "\n",
    "* Concentrations in CS:\n",
    "  * Computer science has a number of concentrations. \n",
    "    * [General concentration](https://catalog.colostate.edu/general-catalog/colleges/natural-sciences/computer-science/computer-science-major/computer-science-concentration/#requirementstext) is the most flexible, and even allows students to double major or minor pretty easily. \n",
    "    * [Software Engineering](https://catalog.colostate.edu/general-catalog/colleges/natural-sciences/computer-science/computer-science-major-software-engineering-concentration/)\n",
    "    * [Computing Systems](https://catalog.colostate.edu/general-catalog/colleges/natural-sciences/computer-science/computer-science-major-computing-systems-concentration/)\n",
    "    * [Human Centered Computing](https://catalog.colostate.edu/general-catalog/colleges/natural-sciences/computer-science/computer-science-major/human-centered-computing-concentration/)\n",
    "    * [Networks and Security](https://catalog.colostate.edu/general-catalog/colleges/natural-sciences/computer-science/computer-science-major-networks-security-concentration/)\n",
    "    * [Artificial Intelligence](https://catalog.colostate.edu/general-catalog/colleges/natural-sciences/computer-science/computer-science-major-artificial-intelligence-machine-learning-concentration/)\n",
    "    * Computer Science Education. \n",
    "  * Minors: \n",
    "    * [Minor in Computer Science](https://catalog.colostate.edu/general-catalog/colleges/natural-sciences/computer-science/computer-science-minor/) - choose your own adventure minor\n",
    "    * [Minor in Machine Learning](https://catalog.colostate.edu/general-catalog/colleges/natural-sciences/computer-science/machine-learning-minor/) - popular with stats/math, and engineering\n",
    "    * [Minor in Bioinformatics](https://catalog.colostate.edu/general-catalog/colleges/natural-sciences/computer-science/bioinformatics-minor/) - Biology + Computer Science\n"
   ]
  },
  {
   "cell_type": "markdown",
   "metadata": {},
   "source": [
    "## Linear Search\n",
    "\n",
    "You have already been doing this! \n",
    "\n",
    "Recall back to finding a character in a String, and the 'find' method you wrote. \n",
    "\n",
    "Let's modify that to numbers in an array. "
   ]
  },
  {
   "cell_type": "code",
   "execution_count": 2,
   "metadata": {
    "vscode": {
     "languageId": "java"
    }
   },
   "outputs": [
    {
     "name": "stdout",
     "output_type": "stream",
     "text": [
      "2\n",
      "5\n",
      "-1\n"
     ]
    }
   ],
   "source": [
    "int[] vals = {10, 11, 30, 25, 12, 13};\n",
    "\n",
    "public static int linearSearch(int[] arr, int key) {\n",
    "    for(int i = 0; i < arr.length; i++) {\n",
    "        if(arr[i] == key) return i;\n",
    "    }\n",
    "    return -1; // not found\n",
    "}\n",
    "\n",
    "System.out.println(linearSearch(vals, 30));\n",
    "System.out.println(linearSearch(vals, 13));\n",
    "System.out.println(linearSearch(vals, 100));"
   ]
  },
  {
   "cell_type": "markdown",
   "metadata": {},
   "source": [
    "Let's also do this with objects!\n",
    "\n",
    "The following code **is wrong** even if our tests are coming out correct. Table discussion, how do I correct it?"
   ]
  },
  {
   "cell_type": "code",
   "execution_count": 2,
   "metadata": {
    "vscode": {
     "languageId": "java"
    }
   },
   "outputs": [
    {
     "name": "stdout",
     "output_type": "stream",
     "text": [
      "0\n",
      "5\n"
     ]
    }
   ],
   "source": [
    "String[] values = {\"aang\", \"zuko\", \"toph\", \"katara\", \"iroh\", \"sokka\"};\n",
    "Integer[] values2 = {10, 11, 30, 25, 12, 13};\n",
    "\n",
    "public static int linearSearch(Object[] values, Object key) {\n",
    "    for(int i = 0; i < values.length; i++) {\n",
    "        if(key == values[i]) return i;\n",
    "    }\n",
    "    return -1;\n",
    "}\n",
    "\n",
    "System.out.println(linearSearch(values, \"aang\"));\n",
    "System.out.println(linearSearch(values2, 13));\n"
   ]
  },
  {
   "cell_type": "code",
   "execution_count": 6,
   "metadata": {
    "vscode": {
     "languageId": "java"
    }
   },
   "outputs": [
    {
     "name": "stdout",
     "output_type": "stream",
     "text": [
      "Enter a name to search for: -1\n"
     ]
    }
   ],
   "source": [
    "Scanner in = new Scanner(System.in);\n",
    "System.out.print(\"Enter a name to search for: \");\n",
    "String name = in.nextLine(); // typing in aang\n",
    "System.out.println(linearSearch(values, name));"
   ]
  },
  {
   "cell_type": "markdown",
   "metadata": {},
   "source": [
    "### Thinking Further / Advanced Concept\n",
    "\n",
    "* Not directly related to linear search, but wanted to mention / remind you.\n",
    "* `==` compares memory addresses, but it gets complicated with Strings and Boxing and Unboxing\n",
    "  * With Strings - java will sometimes use the same String\n",
    "    * immutable, saves memory if the contents are the same\n",
    "  * With numbers, boxing and unboxing will get you\n",
    "* However, that doesn't work when reading in from files or System.in\n",
    "* This is why it is **critical** to use `.equals`! The above code should be corrected as follows:"
   ]
  },
  {
   "cell_type": "code",
   "execution_count": 7,
   "metadata": {
    "vscode": {
     "languageId": "java"
    }
   },
   "outputs": [
    {
     "name": "stdout",
     "output_type": "stream",
     "text": [
      "0\n",
      "5\n",
      "Enter a name to search for: 0\n"
     ]
    }
   ],
   "source": [
    "\n",
    "public static int linearSearch(Object[] values, Object key) {\n",
    "    for(int i = 0; i < values.length; i++) {\n",
    "        if(key.equals(values[i])) return i;\n",
    "    }\n",
    "    return -1;\n",
    "}\n",
    "\n",
    "System.out.println(linearSearch(values, \"aang\"));\n",
    "System.out.println(linearSearch(values2, 13));\n",
    "\n",
    "\n",
    "Scanner in = new Scanner(System.in);\n",
    "System.out.print(\"Enter a name to search for: \");\n",
    "String name = in.nextLine(); // typing in anng\n",
    "System.out.println(linearSearch(values, name));"
   ]
  },
  {
   "cell_type": "markdown",
   "metadata": {},
   "source": [
    "### Linear Search Cost - Big-O\n",
    "\n",
    "* Big O notation is something you cover in CS165 and CS 220\n",
    "* Helps determine the 'worst/average/best' case scenario for an algorithm. \n",
    "* Thinking about a linear search\n",
    "  * What is the 'best' case on finding an item (least number of operations)?\n",
    "  * What is the 'worst' case for finding an item?\n",
    "\n",
    "#### Worst Case\n",
    "* The worst case is what makes the Big-O\n",
    "* Given any size of your array, you have N elements\n",
    "* As such the Big O is **$O(n)$** for a linear search. \n",
    "* Can we do better?"
   ]
  },
  {
   "cell_type": "markdown",
   "metadata": {},
   "source": [
    "## Binary Search\n",
    "\n",
    "* If the elements are sorted\n",
    "  * \\[0, 1, 2, 3, 4, 5, 6, 7, 8, 9, 10\\]\n",
    "  * We can quickly search by 'dividing' the array into two parts each time\n",
    "  * We ask ourselves, is the key 'larger' or smaller each time, until we find it!"
   ]
  },
  {
   "cell_type": "code",
   "execution_count": 8,
   "metadata": {
    "vscode": {
     "languageId": "java"
    }
   },
   "outputs": [],
   "source": [
    "// quick helper method so we can see what is going on\n",
    "public static void rangePrint(int[] arr, int start, int end) {\n",
    "    StringBuilder result = new StringBuilder();\n",
    "    result.append(\"[\");\n",
    "    for(int i = start; i <= end; i++) {\n",
    "        result.append(arr[i]).append(\", \");\n",
    "    }\n",
    "    result.replace(result.length() - 2, result.length(), \"]\"); // replaces the last , with ]\n",
    "    System.out.println(result);\n",
    "}\n"
   ]
  },
  {
   "cell_type": "code",
   "execution_count": 12,
   "metadata": {
    "vscode": {
     "languageId": "java"
    }
   },
   "outputs": [
    {
     "name": "stdout",
     "output_type": "stream",
     "text": [
      "[10, 20, 30, 40, 50]\n",
      "[40, 50]\n",
      "Value found at 3, and the value is 40\n"
     ]
    }
   ],
   "source": [
    "public static int binarySearch(int[] arr, int key) {\n",
    "   return binarySearch(arr, key, 0, arr.length-1);\n",
    "}\n",
    "public static int binarySearch(int[] arr, int key, int first, int last){  \n",
    "   int mid = (first + last) / 2;  \n",
    "   if(first > last) return -1; // not found\n",
    "   rangePrint(arr, first, last);\n",
    "  \n",
    "   if (arr[mid] == key ) return mid; // index found!  \n",
    "   if (arr[mid] < key ){  \n",
    "      first = mid + 1;     \n",
    "      return binarySearch(arr, key, first, last);\n",
    "   }\n",
    "   last = mid -1;\n",
    "   return binarySearch(arr, key, first, last);  \n",
    " }  \n",
    "\n",
    "\n",
    "int arr[] = {10,20,30,40,50};  \n",
    "int key = 40;  \n",
    "int loc = binarySearch(arr,key);\n",
    "if(loc > 0) System.out.printf(\"Value found at %d, and the value is %d%n\", loc, arr[loc]);       \n"
   ]
  },
  {
   "cell_type": "markdown",
   "metadata": {},
   "source": [
    "* Much quicker!\n",
    "* The Big O? is **$O(\\log n)$**\n",
    "* But what if your data isn't sorted?\n",
    "  * There is an additional cost to that!\n",
    "  * Let's explore two sorts"
   ]
  },
  {
   "cell_type": "markdown",
   "metadata": {},
   "source": [
    "## Bubble Sort\n",
    "\n",
    "* Also called sorting by exchange\n",
    "  * Kenneth Inverson\n",
    "* \"Bubbles\" up the largest numbers\n",
    "  * Takes the first number\n",
    "    * if the next is less, swap it so the larger moves up\n",
    "    * if the next is more, shift to that number, and continue\n",
    "* Pass 1\n",
    "  * the largest number ends up at the end\n",
    "* Pass 2\n",
    "  * the second largest number ends up at the end\n",
    "* and so on\n",
    "\n",
    "![Bubble Sort by Codesdope](img/bubblesort.gif)  \n",
    "[reference](https://www.codesdope.com/course/algorithms-bubble-sort/)"
   ]
  },
  {
   "cell_type": "code",
   "execution_count": 19,
   "metadata": {
    "vscode": {
     "languageId": "java"
    }
   },
   "outputs": [
    {
     "name": "stdout",
     "output_type": "stream",
     "text": [
      "Step 0: [12, 15, 6, 8, 19, 5]\n",
      "Step 1: [12, 6, 8, 15, 5, 19]\n",
      "Step 2: [6, 8, 12, 5, 15, 19]\n",
      "Step 3: [6, 8, 5, 12, 15, 19]\n",
      "Step 4: [6, 5, 8, 12, 15, 19]\n",
      "Step 5: [5, 6, 8, 12, 15, 19]\n",
      "The final array is [5, 6, 8, 12, 15, 19]\n"
     ]
    }
   ],
   "source": [
    "  public static void bubbleSort(int a[]) {\n",
    "    for(int i=0; i<a.length; i++) {\n",
    "        System.out.printf(\"Step %d: %s%n\", i, Arrays.toString(a));  \n",
    "        for(int j=0; j<a.length-i-1; j++) {\n",
    "        if(a[j] > a[j+1]) {\n",
    "          int temp = a[j];\n",
    "          a[j] = a[j+1];\n",
    "          a[j+1] = temp;\n",
    "        }\n",
    "      }\n",
    "    }\n",
    "    System.out.println(\"The final array is \" + Arrays.toString(a));\n",
    "  }\n",
    "\n",
    "int[] arr = {12, 15, 6, 8, 19, 5};\n",
    "bubbleSort(arr);\n"
   ]
  },
  {
   "cell_type": "code",
   "execution_count": 20,
   "metadata": {
    "vscode": {
     "languageId": "java"
    }
   },
   "outputs": [
    {
     "name": "stdout",
     "output_type": "stream",
     "text": [
      "Step 0: [10, 9, 8, 7, 6, 5, 4, 3, 2, 1]\n",
      "Step 1: [9, 8, 7, 6, 5, 4, 3, 2, 1, 10]\n",
      "Step 2: [8, 7, 6, 5, 4, 3, 2, 1, 9, 10]\n",
      "Step 3: [7, 6, 5, 4, 3, 2, 1, 8, 9, 10]\n",
      "Step 4: [6, 5, 4, 3, 2, 1, 7, 8, 9, 10]\n",
      "Step 5: [5, 4, 3, 2, 1, 6, 7, 8, 9, 10]\n",
      "Step 6: [4, 3, 2, 1, 5, 6, 7, 8, 9, 10]\n",
      "Step 7: [3, 2, 1, 4, 5, 6, 7, 8, 9, 10]\n",
      "Step 8: [2, 1, 3, 4, 5, 6, 7, 8, 9, 10]\n",
      "Step 9: [1, 2, 3, 4, 5, 6, 7, 8, 9, 10]\n",
      "The final array is [1, 2, 3, 4, 5, 6, 7, 8, 9, 10]\n"
     ]
    }
   ],
   "source": [
    "// worst case scenario? \n",
    "int[] worst = {10, 9, 8, 7, 6, 5, 4, 3, 2, 1};\n",
    "bubbleSort(worst);"
   ]
  },
  {
   "cell_type": "markdown",
   "metadata": {},
   "source": [
    "* Worst Case - a reversed list\n",
    "* Every element has to move\n",
    "  * every element looks at every element\n",
    "* Which creates $n*n$ repetitions \n",
    "* $O(n^2)$\n",
    "* Furthermore, there just as many *swap* operations! (notice the if + swap is inside the inner loop)\n",
    "* Bubble Sort is one of the easiest sorts to write\n",
    "  * It is also one of ones we should never use"
   ]
  },
  {
   "cell_type": "markdown",
   "metadata": {},
   "source": [
    "### Student Practice:\n",
    "\n",
    "Given the following array:\n",
    "\n",
    "\\[3, 2, 5, 1, 8\\]\n",
    "\n",
    "Write what the array looks like for each step!"
   ]
  },
  {
   "cell_type": "code",
   "execution_count": 21,
   "metadata": {
    "vscode": {
     "languageId": "java"
    }
   },
   "outputs": [
    {
     "name": "stdout",
     "output_type": "stream",
     "text": [
      "Step 0: [3, 2, 5, 1, 8]\n",
      "Step 1: [2, 3, 1, 5, 8]\n",
      "Step 2: [2, 1, 3, 5, 8]\n",
      "Step 3: [1, 2, 3, 5, 8]\n",
      "Step 4: [1, 2, 3, 5, 8]\n",
      "The final array is [1, 2, 3, 5, 8]\n"
     ]
    }
   ],
   "source": [
    "bubbleSort(new int[]{3, 2, 5, 1, 8});"
   ]
  },
  {
   "cell_type": "markdown",
   "metadata": {},
   "source": [
    "## Selection Sort\n",
    "\n",
    "* Searches the array for the **lowest** value\n",
    "* Moves that to the start index\n",
    "  * repeats, incrementing index\n",
    "* Also was called Jump Down sort\n",
    "  * Elliott Organick"
   ]
  },
  {
   "cell_type": "code",
   "execution_count": 25,
   "metadata": {
    "vscode": {
     "languageId": "java"
    }
   },
   "outputs": [],
   "source": [
    "public static void selectionSort(int a[]) {\n",
    "    for (int i = 0; i < a.length-1; i++){\n",
    "        System.out.printf(\"Step %d: %s%n\", i, Arrays.toString(a));  \n",
    "        int min = i; // assume current is the lowest\n",
    "        for (int j = i+1; j < a.length; j++) {\n",
    "            if (a[j] < a[min]) min = j;\n",
    "        }\n",
    "        // swap\n",
    "        int temp = a[min];\n",
    "        a[min] = a[i];\n",
    "        a[i] = temp;\n",
    "    }\n",
    "    System.out.println(\"The final array is \" + Arrays.toString(a));\n",
    "}"
   ]
  },
  {
   "cell_type": "code",
   "execution_count": 29,
   "metadata": {
    "vscode": {
     "languageId": "java"
    }
   },
   "outputs": [
    {
     "name": "stdout",
     "output_type": "stream",
     "text": [
      "Step 0: [12, 15, 6, 8, 19, 5]\n",
      "Step 1: [5, 15, 6, 8, 19, 12]\n",
      "Step 2: [5, 6, 15, 8, 19, 12]\n",
      "Step 3: [5, 6, 8, 15, 19, 12]\n",
      "Step 4: [5, 6, 8, 12, 19, 15]\n",
      "The final array is [5, 6, 8, 12, 15, 19]\n",
      "\n",
      "\n",
      "Step 0: [10, 9, 8, 7, 6, 5, 4, 3, 2, 1]\n",
      "Step 1: [1, 9, 8, 7, 6, 5, 4, 3, 2, 10]\n",
      "Step 2: [1, 2, 8, 7, 6, 5, 4, 3, 9, 10]\n",
      "Step 3: [1, 2, 3, 7, 6, 5, 4, 8, 9, 10]\n",
      "Step 4: [1, 2, 3, 4, 6, 5, 7, 8, 9, 10]\n",
      "Step 5: [1, 2, 3, 4, 5, 6, 7, 8, 9, 10]\n",
      "Step 6: [1, 2, 3, 4, 5, 6, 7, 8, 9, 10]\n",
      "Step 7: [1, 2, 3, 4, 5, 6, 7, 8, 9, 10]\n",
      "Step 8: [1, 2, 3, 4, 5, 6, 7, 8, 9, 10]\n",
      "The final array is [1, 2, 3, 4, 5, 6, 7, 8, 9, 10]\n"
     ]
    }
   ],
   "source": [
    "int[] arr2 = {12, 15, 6, 8, 19, 5};\n",
    "selectionSort(arr2);\n",
    "System.out.println();\n",
    "System.out.println();\n",
    "\n",
    "int[] worst2 = {10, 9, 8, 7, 6, 5, 4, 3, 2, 1};\n",
    "selectionSort(worst2);"
   ]
  },
  {
   "cell_type": "markdown",
   "metadata": {},
   "source": [
    "* Worse case still has n*n combinations\n",
    "  * note: the fact it is one less step factors out\n",
    "* $O(n^2)$\n",
    "* However, it has far less *swap* operations\n",
    "  * Notice the swap is outside the inner loop\n",
    "* As such, selection is a better alternative than bubble sort\n",
    "  * Still not the best!"
   ]
  },
  {
   "cell_type": "markdown",
   "metadata": {},
   "source": [
    "### Sorting Objects\n",
    "\n",
    "* This is all great, but what about sorting objects?\n",
    "* We can't use < or > for objects\n",
    "  * Maybe primitives inside the object, but that gets complicated. \n",
    "* In java:\n",
    "  * [Comparable\\<T\\>](https://www.javatpoint.com/Comparable-interface-in-collection-framework) interface\n",
    "  * has a single method:\n",
    "    * public int compareTo(\\<T\\> obj)\n",
    "    * where T is the type you specify (similar to ArrayList\\<Type\\>)\n",
    "      * returns:\n",
    "        * 1 if the object is greater than obj\n",
    "        * 0 if they are equal\n",
    "        * -1 if the object is less than obj\n",
    "  * Also recommended to overwrite .equals(Obj) if you implement compareTo\n",
    "    * Has to do with how certain classes interact"
   ]
  },
  {
   "cell_type": "code",
   "execution_count": 30,
   "metadata": {
    "vscode": {
     "languageId": "java"
    }
   },
   "outputs": [
    {
     "name": "stdout",
     "output_type": "stream",
     "text": [
      "-1\n"
     ]
    }
   ],
   "source": [
    "String a = \"ada\";\n",
    "String b = \"beatrice\";\n",
    "\n",
    "System.out.println(a.compareTo(b));"
   ]
  },
  {
   "cell_type": "code",
   "execution_count": 33,
   "metadata": {
    "vscode": {
     "languageId": "java"
    }
   },
   "outputs": [],
   "source": [
    "public class FullName implements Comparable<FullName> {\n",
    "    private String first;\n",
    "    private String last;\n",
    "\n",
    "    public FullName(String first, String last) {\n",
    "        this.first = first;\n",
    "        this.last = last;\n",
    "    }\n",
    "\n",
    "    public String toString() {\n",
    "        return String.format(\"%s, %s\", last, first);\n",
    "    }\n",
    "    \n",
    "    public boolean equals(Object obj) { // discuss why does this have to be Object!\n",
    "        if(obj == this) return true; // same object\n",
    "        if(! (obj instanceof FullName)) return false;\n",
    "        FullName other = (FullName)obj;\n",
    "        return first.equals(other.first) && last.equals(other.last); \n",
    "    }\n",
    "\n",
    "    public int compareTo(FullName other) {\n",
    "        if(last.compareTo(other.last) != 0) return last.compareTo(other.last); // sort by last name\n",
    "        if(first.compareTo(other.first) != 0) return first.compareTo(other.first); // then first\n",
    "        return 0; // they are exactly equal\n",
    "    }\n",
    "\n",
    "\n",
    "}"
   ]
  },
  {
   "cell_type": "code",
   "execution_count": 52,
   "metadata": {
    "vscode": {
     "languageId": "java"
    }
   },
   "outputs": [
    {
     "name": "stdout",
     "output_type": "stream",
     "text": [
      "[McNulty, Kay, Holberton, Betty, Jennings, Jean, Wescoff, Maryln, Lichterman, Ruth, Bilas, Frances]\n"
     ]
    }
   ],
   "source": [
    "// shout out, these are the ENIAC programmers from World War II!\n",
    "FullName[] eniac = { new FullName(\"Kay\", \"McNulty\"),\n",
    "                     new FullName(\"Betty\", \"Holberton\"),\n",
    "                     new FullName(\"Jean\", \"Jennings\"),\n",
    "                     new FullName(\"Maryln\", \"Wescoff\"),\n",
    "                     new FullName(\"Ruth\", \"Lichterman\"),\n",
    "                     new FullName(\"Frances\", \"Bilas\")};\n",
    "\n",
    "System.out.println(Arrays.toString(eniac));"
   ]
  },
  {
   "cell_type": "code",
   "execution_count": 54,
   "metadata": {
    "vscode": {
     "languageId": "java"
    }
   },
   "outputs": [],
   "source": [
    "public static void selectionSort(Comparable a[]) { // notice type!\n",
    "    for (int i = 0; i < a.length-1; i++){\n",
    "        System.out.printf(\"Step %d: %s%n\", i, Arrays.toString(a));  \n",
    "        int min = i; // assume current is the lowest\n",
    "        for (int j = i+1; j < a.length; j++) {\n",
    "            if (a[j].compareTo(a[min]) < 0) min = j;\n",
    "        }\n",
    "        // swap\n",
    "        Comparable temp = a[min];\n",
    "        a[min] = a[i];\n",
    "        a[i] = temp;\n",
    "    }\n",
    "    System.out.println(\"The final array is \" + Arrays.toString(a));\n",
    "}"
   ]
  },
  {
   "cell_type": "markdown",
   "metadata": {},
   "source": [
    "Notice, we changed the < to compareTo < 0\n",
    "\n",
    "Also, notice the type - take a moment to discuss the code changes, and why. Why couldn't I just use Object?"
   ]
  },
  {
   "cell_type": "code",
   "execution_count": 56,
   "metadata": {
    "vscode": {
     "languageId": "java"
    }
   },
   "outputs": [
    {
     "name": "stdout",
     "output_type": "stream",
     "text": [
      "Step 0: [McNulty, Kay, Holberton, Betty, Jennings, Jean, Wescoff, Maryln, Lichterman, Ruth, Bilas, Frances]\n",
      "Step 1: [Bilas, Frances, Holberton, Betty, Jennings, Jean, Wescoff, Maryln, Lichterman, Ruth, McNulty, Kay]\n",
      "Step 2: [Bilas, Frances, Holberton, Betty, Jennings, Jean, Wescoff, Maryln, Lichterman, Ruth, McNulty, Kay]\n",
      "Step 3: [Bilas, Frances, Holberton, Betty, Jennings, Jean, Wescoff, Maryln, Lichterman, Ruth, McNulty, Kay]\n",
      "Step 4: [Bilas, Frances, Holberton, Betty, Jennings, Jean, Lichterman, Ruth, Wescoff, Maryln, McNulty, Kay]\n",
      "The final array is [Bilas, Frances, Holberton, Betty, Jennings, Jean, Lichterman, Ruth, McNulty, Kay, Wescoff, Maryln]\n"
     ]
    }
   ],
   "source": [
    "selectionSort(Arrays.copyOf(eniac, eniac.length));"
   ]
  },
  {
   "cell_type": "markdown",
   "metadata": {},
   "source": [
    "If this was in an ArrayList, I would have a built in library to sort it!\n",
    "\n",
    "```Collections.sort()```"
   ]
  },
  {
   "cell_type": "code",
   "execution_count": 59,
   "metadata": {
    "vscode": {
     "languageId": "java"
    }
   },
   "outputs": [
    {
     "name": "stdout",
     "output_type": "stream",
     "text": [
      "[Bilas, Frances, Holberton, Betty, Jennings, Jean, Lichterman, Ruth, McNulty, Kay, Wescoff, Maryln]\n"
     ]
    }
   ],
   "source": [
    "List<FullName> eniac_list = Arrays.asList(eniac);\n",
    "\n",
    "Collections.sort(eniac_list); // a built in library for any 'collection' in java!\n",
    "System.out.println(Arrays.toString(eniac));"
   ]
  },
  {
   "cell_type": "markdown",
   "metadata": {},
   "source": [
    "### Sorts\n",
    "\n",
    "You are just learning sorting algorithms, there are a bunch of them (merge and quick sort being popular - both having a recursive element)\n",
    "\n",
    "| Sort | Average Case |\n",
    "| :-: | :-: |\n",
    "| Bubble | $O(n^2)$ |\n",
    "| Selection  | $O(n^2)$ |\n",
    "| Insertion | $O(n^2)$ |\n",
    "| Quick | $O(n \\log n)$ |\n",
    "| Merge | $O(n \\log n)$ |\n",
    "| | |\n",
    "| Linear Search | $O(n)$ |\n",
    "| Binary Search | $O(\\log n)$ |\n",
    "\n",
    "CS 165 and CS 220 you will cover these more! "
   ]
  },
  {
   "cell_type": "markdown",
   "metadata": {},
   "source": [
    "### Overview\n",
    "\n",
    "Knowing the right algorithm matters when dealing with larger datasets, but there are also a lot of tools built into our languages that help you. \n",
    "\n",
    "For this class, knowing the basic couple sorts will get your brain thinking about algorithmic efficiency, you will explore this more in the future.\n",
    "\n",
    "Also, knowing `.equals` and `.compareTo` are essential for java programming as the built in Collections make major use of them!"
   ]
  }
 ],
 "metadata": {
  "kernelspec": {
   "display_name": "Java",
   "language": "java",
   "name": "java"
  },
  "language_info": {
   "codemirror_mode": "java",
   "file_extension": ".jshell",
   "mimetype": "text/x-java-source",
   "name": "Java",
   "pygments_lexer": "java",
   "version": "17.0.1+12"
  },
  "orig_nbformat": 4
 },
 "nbformat": 4,
 "nbformat_minor": 2
}
