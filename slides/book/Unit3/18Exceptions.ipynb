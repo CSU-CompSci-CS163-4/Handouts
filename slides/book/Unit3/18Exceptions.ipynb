{
 "cells": [
  {
   "cell_type": "markdown",
   "metadata": {},
   "source": [
    "# Exceptions \n",
    "\n",
    "In this lecture we will talk about:\n",
    "* Exception\n",
    "  * Checked and Unchecked\n",
    "  * Try/Catch blocks\n",
    "  * Throws clause\n",
    "* More practice reading and writing files\n",
    "\n",
    "### Your future in CS \n",
    "I used to include this on my slides, but since these slides have changed - going to just leave it up here for every notebook. I get a lot of questions about more programming courses, the concentrations, and minors in computer science. Here is a brief reminder.\n",
    "\n",
    "CS 165 – Next Course In Sequence, also consider CS 220 (math and stats especially) \n",
    "* CO Jobs Report 2021 – 77% of *all* new jobs in Colorado require programming\n",
    "* 60% of all STEM jobs requires *advanced* (200-300 level) \n",
    "* 31% of all Bachelor of Arts degree titled jobs also required coding skills \n",
    "* 2016 Report found on average jobs that require coding skills paid $22,000 more\n",
    "\n",
    "* Concentrations in CS:\n",
    "  * Computer science has a number of concentrations. \n",
    "    * [General concentration](https://catalog.colostate.edu/general-catalog/colleges/natural-sciences/computer-science/computer-science-major/computer-science-concentration/#requirementstext) is the most flexible, and even allows students to double major or minor pretty easily. \n",
    "    * [Software Engineering](https://catalog.colostate.edu/general-catalog/colleges/natural-sciences/computer-science/computer-science-major-software-engineering-concentration/)\n",
    "    * [Computing Systems](https://catalog.colostate.edu/general-catalog/colleges/natural-sciences/computer-science/computer-science-major-computing-systems-concentration/)\n",
    "    * [Human Centered Computing](https://catalog.colostate.edu/general-catalog/colleges/natural-sciences/computer-science/computer-science-major/human-centered-computing-concentration/)\n",
    "    * [Networks and Security](https://catalog.colostate.edu/general-catalog/colleges/natural-sciences/computer-science/computer-science-major-networks-security-concentration/)\n",
    "    * [Artificial Intelligence](https://catalog.colostate.edu/general-catalog/colleges/natural-sciences/computer-science/computer-science-major-artificial-intelligence-machine-learning-concentration/)\n",
    "    * Computer Science Education. \n",
    "  * Minors: \n",
    "    * [Minor in Computer Science](https://catalog.colostate.edu/general-catalog/colleges/natural-sciences/computer-science/computer-science-minor/) - choose your own adventure minor\n",
    "    * [Minor in Machine Learning](https://catalog.colostate.edu/general-catalog/colleges/natural-sciences/computer-science/machine-learning-minor/) - popular with stats/math, and engineering\n",
    "    * [Minor in Bioinformatics](https://catalog.colostate.edu/general-catalog/colleges/natural-sciences/computer-science/bioinformatics-minor/) - Biology + Computer Science\n"
   ]
  },
  {
   "cell_type": "markdown",
   "metadata": {},
   "source": [
    "## Exceptions\n",
    "\n",
    "* Sometimes things do not go as expected\n",
    "* Good programming, handles *most* (not all) errors - gracefully (via code)\n",
    "* However, where should this error be handled at?\n",
    "  * Which class, which \"layer\" in the program.\n",
    "  * Example: Accessing a file from the operating system\n",
    "    * You request the file from the OS\n",
    "    * The OS either sends you the file, OR\n",
    "    * It tells you the file isn't there\n",
    "  * Who should handle that issue?\n",
    "  * Usually, the application requesting the file!\n",
    "    * As compared to the SDK/API that helps you access the file\n",
    "\n",
    "### What Are Exceptions?\n",
    "\n",
    "* Classes / Objects!\n",
    "  * They contain information about the error that is happening\n",
    "  * They have a special interface that they all share in common\n",
    "* What about `try/catch` and `throws`\n",
    "  * Those are commands that use those objects!\n",
    "  * And mostly what we deal with\n",
    "\n",
    "\n",
    "### try/catch\n",
    "* `try{}` - Says \"try this block of code\"\n",
    "* `catch(Exception x)` {} - run this block of code if there is an error\n",
    "* `finally {}` - always run this block of code error or not (often can be omitted, won't be used much in this class)\n",
    "\n",
    "Let's look at some code!"
   ]
  },
  {
   "cell_type": "code",
   "execution_count": 22,
   "metadata": {},
   "outputs": [
    {
     "name": "stderr",
     "output_type": "stream",
     "text": [
      "File not file! data\\notes2.md (The system cannot find the file specified)\n"
     ]
    }
   ],
   "source": [
    "try {\n",
    "    FileInputStream stream = new FileInputStream(\"data/notes2.md\");\n",
    "    Scanner scn = new Scanner(stream); // this line will not run if an exception is thrown!\n",
    "    while(scn.hasNextLine()) {\n",
    "        System.out.println(scn.nextLine());\n",
    "    }\n",
    "}catch(FileNotFoundException ex) { //It extends IOException and makes the most sense in this case\n",
    "    System.err.println(\"File not file! \" + ex.getMessage());\n",
    "}"
   ]
  },
  {
   "cell_type": "markdown",
   "metadata": {},
   "source": [
    "### Class Discussion: Combining it together \n",
    "\n",
    "Look through the following code.\n",
    "* At your table, outline what the code does\n",
    "* This includes thinking about a flow diagram of what method is called when\n",
    "* Think about the try catch, what happens if a file is not entered correct?\n",
    "* How is the program handling the potential errors?"
   ]
  },
  {
   "cell_type": "code",
   "execution_count": 23,
   "metadata": {},
   "outputs": [],
   "source": [
    "public class CommentStrip {\n",
    "    private String filename;\n",
    "    public static final String OUT_DIR = \"out\";\n",
    "    private ArrayList<String> comments =  new ArrayList<>();\n",
    "\n",
    "    public CommentStrip(String filename) {\n",
    "        this.filename = filename;\n",
    "    }\n",
    "    public ArrayList<String> getComments() { return comments;} \n",
    "    public String getDirectory() {\n",
    "        int last = filename.lastIndexOf(\"/\");\n",
    "        if(last >= 0) return filename.substring(0, last);\n",
    "        return \"\"; // assumed else\n",
    "    }\n",
    "    public String getFile() {\n",
    "        int last = filename.lastIndexOf(\"/\");\n",
    "        if(last >= 0) return filename.substring(last+1); \n",
    "        return filename;\n",
    "    }\n",
    "    public String getSaveFile() {\n",
    "        return String.format(\"%s/%s/%s\", getDirectory(), OUT_DIR, getFile());\n",
    "    }\n",
    "    public void stripAndSave() {\n",
    "        String cleanedFile = openAndRemove();\n",
    "        if(!cleanedFile.isEmpty()) saveOut(cleanedFile);\n",
    "    }\n",
    "    private String openAndRemove() {\n",
    "        FileInputStream fn;\n",
    "        String cleaned = \"\";\n",
    "        try {\n",
    "            fn = new FileInputStream(filename); \n",
    "        }catch(FileNotFoundException ex) {\n",
    "            System.err.println(\"File not found! \" + ex.getMessage());\n",
    "            return \"\"; // exit the method early\n",
    "        }\n",
    "        Scanner sn = new Scanner(fn); // why is this allowed outside the try catch?\n",
    "        while(sn.hasNextLine()) {\n",
    "            cleaned += cleanLine(sn.nextLine()) + \"\\n\";\n",
    "        }\n",
    "        return cleaned;\n",
    "    }\n",
    "    private String cleanLine(String line) {\n",
    "        int comIndex = line.indexOf(\"//\");\n",
    "        if(comIndex >= 0) {\n",
    "            String comment = line.substring(comIndex);\n",
    "            comments.add(comment);\n",
    "            line = line.substring(0, comIndex);\n",
    "        }\n",
    "        return line;\n",
    "    }\n",
    "    private void saveOut(String contents) {\n",
    "        try {\n",
    "            PrintWriter writer = new PrintWriter(new FileOutputStream(getSaveFile()));\n",
    "            writer.print(contents);  // why does this have to be in the try catch?\n",
    "            writer.close();\n",
    "        }catch(IOException ex) {\n",
    "            System.err.println(\"Error writing file! \" + ex.getMessage());\n",
    "        }\n",
    "    }\n",
    "}"
   ]
  },
  {
   "cell_type": "code",
   "execution_count": 24,
   "metadata": {},
   "outputs": [
    {
     "name": "stdout",
     "output_type": "stream",
     "text": [
      "[// this is the first comment, // in the main program, //another comment, // and a comment at the end]\n"
     ]
    }
   ],
   "source": [
    "CommentStrip strip = new CommentStrip(\"data/Myprogram.java\");\n",
    "strip.stripAndSave();\n",
    "System.out.println(strip.getComments());"
   ]
  },
  {
   "cell_type": "markdown",
   "metadata": {},
   "source": [
    "### Throws\n",
    "\n",
    "* Sometimes you don't want to handle the exception in that particular block of code.\n",
    "* You can \"throw\" it for someone else to handle\n",
    "* Adding throws at the end of a method signature allows you to continue to toss it!\n",
    "\n",
    "Hot Potato - Eventually someone needs to catch it!\n"
   ]
  },
  {
   "cell_type": "code",
   "execution_count": 25,
   "metadata": {},
   "outputs": [
    {
     "name": "stderr",
     "output_type": "stream",
     "text": [
      "File not found! data\\MyprogramDoesNotexist.java (The system cannot find the file specified)\n"
     ]
    },
    {
     "name": "stdout",
     "output_type": "stream",
     "text": [
      "[]\n"
     ]
    }
   ],
   "source": [
    "public class CommentStrip {  // rewriting this class to use throws!\n",
    "    private String filename;\n",
    "    public static final String OUT_DIR = \"out\";\n",
    "    private ArrayList<String> comments =  new ArrayList<>();\n",
    "\n",
    "    public CommentStrip(String filename) {\n",
    "        this.filename = filename;\n",
    "    }\n",
    "    public ArrayList<String> getComments() { return comments;} \n",
    "    public String getDirectory() {\n",
    "        int last = filename.lastIndexOf(\"/\");\n",
    "        if(last >= 0) return filename.substring(0, last);\n",
    "        return \"\"; // assumed else\n",
    "    }\n",
    "    public String getFile() {\n",
    "        int last = filename.lastIndexOf(\"/\");\n",
    "        if(last >= 0) return filename.substring(last+1); \n",
    "        return filename;\n",
    "    }\n",
    "    public String getSaveFile() {\n",
    "        return String.format(\"%s/%s/%s\", getDirectory(), OUT_DIR, getFile());\n",
    "    }\n",
    "    public void stripAndSave() {\n",
    "        try {\n",
    "            String cleanedFile = openAndRemove();\n",
    "            saveOut(cleanedFile); // no need to check for an non-existent file now\n",
    "        }catch(FileNotFoundException ex) {\n",
    "            System.err.println(\"File not found! \" + ex.getMessage());\n",
    "        }\n",
    "    }\n",
    "    private String openAndRemove() throws FileNotFoundException{\n",
    "        FileInputStream fn;\n",
    "        String cleaned = \"\";\n",
    "        fn = new FileInputStream(filename); \n",
    "        Scanner sn = new Scanner(fn); // won't run if the file is not found\n",
    "        while(sn.hasNextLine()) {\n",
    "            cleaned += cleanLine(sn.nextLine()) + \"\\n\";\n",
    "        }\n",
    "        return cleaned;\n",
    "    }\n",
    "    private String cleanLine(String line) {\n",
    "        int comIndex = line.indexOf(\"//\");\n",
    "        if(comIndex >= 0) {\n",
    "            String comment = line.substring(comIndex);\n",
    "            comments.add(comment);\n",
    "            line = line.substring(0, comIndex);\n",
    "        }\n",
    "        return line;\n",
    "    }\n",
    "    private void saveOut(String contents) {\n",
    "        System.out.println(\"INFO: only runs if a file is found\");\n",
    "        try {\n",
    "            PrintWriter writer = new PrintWriter(new FileOutputStream(getSaveFile()));\n",
    "            writer.print(contents);  // why does this have to be in the try catch?\n",
    "            writer.close();\n",
    "        }catch(IOException ex) {\n",
    "            System.err.println(\"Error writing file! \" + ex.getMessage());\n",
    "        }\n",
    "    }\n",
    "}\n",
    "\n",
    "CommentStrip strip = new CommentStrip(\"data/MyprogramDoesNotexist.java\");\n",
    "strip.stripAndSave();\n",
    "System.out.println(strip.getComments());"
   ]
  },
  {
   "cell_type": "markdown",
   "metadata": {},
   "source": [
    "### Advanced: Creating Your Own Exceptions\n",
    "\n",
    "* You can create and throw your own exceptions (often called \"raise\" in other languages)\n",
    "* In java, you have to **extend** the *Exception* class to do that\n",
    "  * Ensures certain methods are implements for try/catch/throw/throws\n",
    "* Won't use much in this class, but worth knowing\n",
    "* Especially useful if you are developing an SDK/API"
   ]
  },
  {
   "cell_type": "code",
   "execution_count": 26,
   "metadata": {},
   "outputs": [],
   "source": [
    "public class MyCoolException extends Exception {\n",
    "    public MyCoolException(String msg) {\n",
    "        super(msg);\n",
    "    }\n",
    "    public String getMessage() { \n",
    "        return \"SUPER COOL: \" + super.getMessage();\n",
    "    }\n",
    "}\n",
    "public static void doSomething(boolean type) throws MyCoolException,Exception { // notice comma\n",
    "    if(type) throw new MyCoolException(\"This is a personal message\");\n",
    "    throw new Exception(\"General exceptions can have messages\");\n",
    "}\n",
    "public static void test(boolean type) {\n",
    "    try {\n",
    "        doSomething(type);\n",
    "    }catch(MyCoolException ex) {\n",
    "        System.err.println(ex.getMessage());\n",
    "    }catch(Exception ey) { // chained catch statements\n",
    "        System.err.println(ey.getMessage());\n",
    "    }\n",
    "}\n"
   ]
  },
  {
   "cell_type": "code",
   "execution_count": 27,
   "metadata": {},
   "outputs": [
    {
     "name": "stderr",
     "output_type": "stream",
     "text": [
      "SUPER COOL: This is a personal message\n",
      "General exceptions can have messages\n"
     ]
    }
   ],
   "source": [
    "test(true);\n",
    "test(false);"
   ]
  },
  {
   "cell_type": "markdown",
   "metadata": {},
   "source": [
    "## Exception Types\n",
    "\n",
    "* Exceptions fall into two categories checked and unchecked\n",
    "\n",
    "\n",
    "### Checked Exceptions\n",
    "\n",
    "* FileNotFoundException\n",
    "* IOException\n",
    "* Any exception you create\n",
    "\n",
    "The program won't compile unless you \"handle\" the exception in some way. \n",
    "\n",
    "* try/catch\n",
    "* throws\n",
    "\n",
    "They assume the situation is serious (and common) enough, that you will need to handle it. You also can't avoid them with good programming habits, as they are often things you can't control (interaction with the OS).\n",
    "\n",
    "\n",
    "### Unchecked Exceptions\n",
    "\n",
    "A few common ones:\n",
    "\n",
    "* NullPointerException\n",
    "  * What happens when you declare an object, but don't create the object.\n",
    "* IndexOutOfBoundsException\n",
    "  * Happens when you try to access a location that does not exist on a sequence (String, Lists, Arrays)\n",
    "* NumberFormatException\n",
    "  * Happens when you try to make a number for something that is not a number\n",
    "    * ```int myInt = Integer.parseInt(\"10,\")``` (Common with OB1 errors)\n",
    "* ArithmeticException \n",
    "  * Happens when you divide by 0 or other illegal operations\n",
    "\n",
    "All these exceptions can be **avoided** with good programming. As such, Java doesn't require try/catch, but you **can** use a try catch if you want. \n",
    "\n",
    "> Discussion:  \n",
    "> Given the following code, what is printed. "
   ]
  },
  {
   "cell_type": "code",
   "execution_count": 28,
   "metadata": {},
   "outputs": [],
   "source": [
    "public static void exceptionTester(String input, int loc) {\n",
    "    try {\n",
    "        System.out.print(input.length());\n",
    "        System.out.print(input.charAt(loc));\n",
    "        System.out.print(input.length() / loc);\n",
    "        System.out.print(Integer.parseInt(input) * loc);\n",
    "    }catch(NullPointerException ex) {\n",
    "        System.err.println(\"Null Pointer!\");\n",
    "    }catch(IndexOutOfBoundsException ey) {\n",
    "        System.err.println(\"Index out of bounds! \" + ey.getMessage());\n",
    "    }catch(ArithmeticException ez) {\n",
    "        System.err.println(\"Divide by 0!\");\n",
    "    }catch(Exception e) { // admittedly, this is often considered bad style\n",
    "        System.err.print(\"catches all exceptions that aren't first caught:: \");\n",
    "        System.err.println(e.getClass().toString() + \" \" + e.getMessage());\n",
    "    }\n",
    "\n",
    "}"
   ]
  },
  {
   "cell_type": "code",
   "execution_count": 29,
   "metadata": {},
   "outputs": [
    {
     "name": "stderr",
     "output_type": "stream",
     "text": [
      "Null Pointer!\n"
     ]
    },
    {
     "name": "stdout",
     "output_type": "stream",
     "text": [
      "4"
     ]
    },
    {
     "name": "stderr",
     "output_type": "stream",
     "text": [
      "Index out of bounds! String index out of range: 4\n"
     ]
    },
    {
     "name": "stdout",
     "output_type": "stream",
     "text": [
      "42"
     ]
    },
    {
     "name": "stderr",
     "output_type": "stream",
     "text": [
      "Divide by 0!\n"
     ]
    },
    {
     "name": "stdout",
     "output_type": "stream",
     "text": [
      "525"
     ]
    },
    {
     "name": "stderr",
     "output_type": "stream",
     "text": [
      "catches all exceptions that aren't first caught:: class java.lang.NumberFormatException For input string: \"y2022\"\n"
     ]
    }
   ],
   "source": [
    "exceptionTester(null, 0);\n",
    "exceptionTester(\"2022\", 4);\n",
    "exceptionTester(\"2022\", 0);\n",
    "exceptionTester(\"y2022\", 1);"
   ]
  },
  {
   "cell_type": "markdown",
   "metadata": {},
   "source": [
    "## In Class Practice File Reading and Writing\n",
    "\n",
    "For the rest of this class you will experiment with reading CSV files.\n",
    "\n",
    "* A Comma Separated Value  (CSV) file is a common way for to store data.\n",
    "* It is essentially a spreadsheet/excel file! \n",
    "\n",
    "Your task will be to download a CSV file (any CSV file), and then\n",
    "\n",
    "1. Write a program to read the lines in the file\n",
    "2. Modify the program to read only a couple of the items in each line \n",
    "3. Have the program write out a program that only writes certain cells to the file\n",
    "\n",
    "This is intentionally open ended, as the goal is simply to 'play' with file reading and writing. At the table, take things in steps, figure out and discuss what you know, and continue to build up to *something* until the end of the class session.\n",
    "\n",
    "Here is a list of CSV files [CORGIS: The collection of really great, interesting, situated datasets](https://corgis-edu.github.io/corgis/csv/)\n",
    "\n",
    "* Note: some datasets are harder than others, you should avoid ones with quotation marks in them!"
   ]
  }
 ],
 "metadata": {
  "interpreter": {
   "hash": "507d0580e2b527a70f64f40fb9b6583b2a77378ccde06f27533dbdd39bb8d03d"
  },
  "kernelspec": {
   "display_name": "Java",
   "language": "java",
   "name": "java"
  },
  "language_info": {
   "codemirror_mode": "java",
   "file_extension": ".jshell",
   "mimetype": "text/x-java-source",
   "name": "Java",
   "pygments_lexer": "java",
   "version": "17.0.1+12"
  },
  "orig_nbformat": 4
 },
 "nbformat": 4,
 "nbformat_minor": 2
}
