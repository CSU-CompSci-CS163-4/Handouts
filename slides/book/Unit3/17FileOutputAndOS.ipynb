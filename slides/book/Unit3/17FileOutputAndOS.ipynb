{
 "cells": [
  {
   "cell_type": "markdown",
   "metadata": {},
   "source": [
    "<img style=\"float:right;margin-right:50px;height:300px;\" src=\"img/os_logos.png\" />\n",
    "\n",
    "# Operating Systems and File Output\n",
    "\n",
    "In this lecture we will cover:\n",
    "* Basic operating systems and file management\n",
    "* Writing text files in java\n",
    "\n",
    "### Your future in CS \n",
    "I used to include this on my slides, but since these slides have changed - going to just leave it up here for every notebook. I get a lot of questions about more programming courses, the concentrations, and minors in computer science. Here is a brief reminder.\n",
    "\n",
    "CS 165 – Next Course In Sequence, also consider CS 220 (math and stats especially) \n",
    "* CO Jobs Report 2021 – 77% of *all* new jobs in Colorado require programming\n",
    "* 60% of all STEM jobs requires *advanced* (200-300 level) \n",
    "* 31% of all Bachelor of Arts degree titled jobs also required coding skills \n",
    "* 2016 Report found on average jobs that require coding skills paid $22,000 more\n",
    "\n",
    "* Concentrations in CS:\n",
    "  * Computer science has a number of concentrations. \n",
    "    * [General concentration](https://catalog.colostate.edu/general-catalog/colleges/natural-sciences/computer-science/computer-science-major/computer-science-concentration/#requirementstext) is the most flexible, and even allows students to double major or minor pretty easily. \n",
    "    * [Software Engineering](https://catalog.colostate.edu/general-catalog/colleges/natural-sciences/computer-science/computer-science-major-software-engineering-concentration/)\n",
    "    * [Computing Systems](https://catalog.colostate.edu/general-catalog/colleges/natural-sciences/computer-science/computer-science-major-computing-systems-concentration/)\n",
    "    * [Human Centered Computing](https://catalog.colostate.edu/general-catalog/colleges/natural-sciences/computer-science/computer-science-major/human-centered-computing-concentration/)\n",
    "    * [Networks and Security](https://catalog.colostate.edu/general-catalog/colleges/natural-sciences/computer-science/computer-science-major-networks-security-concentration/)\n",
    "    * [Artificial Intelligence](https://catalog.colostate.edu/general-catalog/colleges/natural-sciences/computer-science/computer-science-major-artificial-intelligence-machine-learning-concentration/)\n",
    "    * Computer Science Education. \n",
    "  * Minors: \n",
    "    * [Minor in Computer Science](https://catalog.colostate.edu/general-catalog/colleges/natural-sciences/computer-science/computer-science-minor/) - choose your own adventure minor\n",
    "    * [Minor in Machine Learning](https://catalog.colostate.edu/general-catalog/colleges/natural-sciences/computer-science/machine-learning-minor/) - popular with stats/math, and engineering\n",
    "    * [Minor in Bioinformatics](https://catalog.colostate.edu/general-catalog/colleges/natural-sciences/computer-science/bioinformatics-minor/) - Biology + Computer Science\n"
   ]
  },
  {
   "cell_type": "markdown",
   "metadata": {},
   "source": [
    "## Operating Systems\n",
    "\n",
    "\n",
    "* You use them daily\n",
    "  * Most common OS in the world?\n",
    "  * Android\n",
    "    * written in java w/ Kotlin\n",
    "* Operating Systems Control\n",
    "  * Resources\n",
    "  * Hardware  Information\n",
    "  * Devices\n",
    "  * Running Applications, memory, etc\n",
    "  * **File Storage!**\n",
    "\n",
    "![Level Interaction](img/OperatingSystems.png)\n",
    "\n",
    "\n",
    "### File Storage\n",
    "Files is how we store information about programs. Without the ability to save files, we wouldn't have 'state' between applications runs. \n",
    "\n",
    "Most operating systems are based on an \"inverted tree\", with the 'root' being at the top.\n",
    "\n",
    "<img style=\"float:right;padding-right:30px\" src=\"img/directory_structures.png\" />\n",
    "\n",
    "* Relative Path\n",
    "  * relative to the current location\n",
    "    * Examples:\n",
    "      * \"file\"\n",
    "      * \"./file\"\n",
    "      * \"../file\"\n",
    "      * \"directory/file\"\n",
    "  * Shortcuts:\n",
    "    * . - shortcut for 'current' directory\n",
    "    * .. - shortcut for directory above this directory\n",
    "    * notice the file names are just strings!\n",
    "* Absolute Path \n",
    "  * relative to the top of the hierarchy \n",
    "  * Windows: drive letter with C:/, D:/ etc\n",
    "  * Linux/MacOS/Unix:  just a \"/\" \n",
    "  * Examples:\n",
    "    * \"/directory/file\"\n",
    "    * \"/directory/directory/file\"\n",
    "    * \"C:\\directory\\file\"\n",
    "    * \"/file\"\n",
    "\n",
    "\n",
    "\n",
    "**NOTE**: In the prerecorded videos there is a mini-tutorial on browsing files via the command line. You should try that on your own!"
   ]
  },
  {
   "cell_type": "markdown",
   "metadata": {},
   "source": [
    "## Files and Streams\n",
    "\n",
    "Reminder: reading a file is coming in from the \"input stream\".\n",
    "\n",
    "Writing a file is the \"output stream\".\n",
    "\n",
    "![File Streams](img/streams.png)\n",
    "\n",
    "To read a file we use:\n",
    "```java\n",
    "Scanner in = new Scanner(new File(\"input.txt\"));\n",
    "```\n",
    "To write a file we use:\n",
    "\n",
    "```java\n",
    "PrintWriter writer = new PrintWriter(new File(\"output.txt\"));\n",
    "```\n",
    "\n",
    "We can also use FileInputStream or FileOutputStream respectively. "
   ]
  },
  {
   "cell_type": "markdown",
   "metadata": {},
   "source": [
    "## PrintWriter\n",
    "\n",
    "* The [PrintWriter](https://docs.oracle.com/en/java/javase/17/docs/api/java.base/java/io/PrintWriter.html) class is designed to 'print/write' to Output Streams.  \n",
    "* What are some Output Streams?\n",
    "  * System.out - stream to the console\n",
    "  * System.err - stream to the error log (often console)\n",
    "  * File - can be an output stream\n",
    "  * FileOutputStream - yes, an output Stream\n",
    "  * Technically others! \n",
    "    * Anything that extends the java [OutputStream](https://docs.oracle.com/en/java/javase/17/docs/api/java.base/java/io/OutputStream.html) class\n",
    "* PrintWriter has many of the same methods as System.out (intentionally)\n",
    "  * `.println()`, `.print()`, .`printf()`\n",
    "  * requires `.close()` to be called before anything is sent to the Stream!\n"
   ]
  },
  {
   "cell_type": "code",
   "execution_count": null,
   "metadata": {},
   "outputs": [],
   "source": [
    "/// So since it takes any *output* stream, lets try it with System.out\n",
    "import java.util.Random;\n",
    "\n",
    "Random rnd = new Random();\n",
    "\n",
    "PrintWriter sysout = new PrintWriter(System.out);\n",
    "for(int i = 0; i < 10; i++) {\n",
    "    sysout.println(rnd.nextInt(10));\n",
    "}"
   ]
  },
  {
   "cell_type": "markdown",
   "metadata": {},
   "source": [
    "Wait nothing printed?!?"
   ]
  },
  {
   "cell_type": "code",
   "execution_count": null,
   "metadata": {},
   "outputs": [],
   "source": [
    "sysout.close();  // must close PrintWriter() to get it print!"
   ]
  },
  {
   "cell_type": "markdown",
   "metadata": {},
   "source": [
    "### Let's add files!\n",
    "\n",
    "* However, with a file, we need to add a try/catch statement. \n",
    "* Why?\n",
    "  * Because what if the operating system rejects your access?\n",
    "  * We will explore this in more detail, but that is what is meant by try/catch"
   ]
  },
  {
   "cell_type": "code",
   "execution_count": null,
   "metadata": {},
   "outputs": [],
   "source": [
    "public static String getClientInput() {\n",
    "    Scanner scanner = new Scanner(System.in);\n",
    "    String line = \"\";\n",
    "    String fullText = \"\";\n",
    "    System.out.println(\"Enter lines, and it will continue to loop until you type \\\"end\\\".\");\n",
    "    do {\n",
    "        fullText += line + \"\\n\";\n",
    "        line = scanner.nextLine();\n",
    "        \n",
    "\n",
    "    }while(!line.equalsIgnoreCase(\"end\"));\n",
    "    return fullText;\n",
    "}\n",
    "\n",
    "try {\n",
    "    PrintWriter writer = new PrintWriter(new FileOutputStream(\"data/notes.md\"));\n",
    "    // file extensions are just for the OS and humans, .md is still a text file full of strings\n",
    "    writer.println(\"# My Notes!\");\n",
    "    writer.println(getClientInput());\n",
    "    writer.close();\n",
    "}catch(IOException ex) {\n",
    "    System.out.println(ex.getMessage());\n",
    "}"
   ]
  },
  {
   "cell_type": "markdown",
   "metadata": {},
   "source": [
    "### Inclass Activity\n",
    "\n",
    "This activity there is intentionally no 'starting files'. You will instead just create a file from scratch using your IDE.\n",
    "\n",
    "You can write in your main method, or you can add additional methods, that is your call. I broke it up into two methods, one to read client input, and one to write out the information - just so I could focus on my tasks. \n",
    "\n",
    "#### Your Task?\n",
    "Write a program that takes in an input from the client which is only a number of random numbers to generate. You will then generate a number of random numbers equal to that input, and write each random number generated *out* to a **file** called `output.txt`.\n",
    "\n",
    "#### Breaking down your tasks\n",
    "\n",
    "* First, make sure you can read input from a client! \n",
    "* Second, make sure you can generate random numbers based on the client's input (see above)\n",
    "* Third, just print the random numbers to the console \n",
    "* Fourth, now work on printing those random numbers to the file!\n",
    "\n",
    "This iterative cycle is necessary for working with programming, and breaking things down into parts."
   ]
  },
  {
   "cell_type": "code",
   "execution_count": null,
   "metadata": {},
   "outputs": [],
   "source": [
    "// todo add in class"
   ]
  },
  {
   "cell_type": "markdown",
   "metadata": {},
   "source": [
    "## Overall\n",
    "\n",
    "People make writing out to files harder than what it is!\n",
    "\n",
    "If you can print to the console, you can write to a file. Just remember\n",
    "* you are dealing with Strings (for this class)\n",
    "* You should separate your concerns on out!"
   ]
  }
 ],
 "metadata": {
  "interpreter": {
   "hash": "507d0580e2b527a70f64f40fb9b6583b2a77378ccde06f27533dbdd39bb8d03d"
  },
  "kernelspec": {
   "display_name": "Java",
   "language": "java",
   "name": "java"
  },
  "language_info": {
   "codemirror_mode": "java",
   "file_extension": ".jshell",
   "mimetype": "text/x-java-source",
   "name": "Java",
   "pygments_lexer": "java",
   "version": "17.0.1+12"
  },
  "orig_nbformat": 4
 },
 "nbformat": 4,
 "nbformat_minor": 2
}
