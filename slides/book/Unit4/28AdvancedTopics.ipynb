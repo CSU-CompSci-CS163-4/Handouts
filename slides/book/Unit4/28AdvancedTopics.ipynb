{
 "cells": [
  {
   "cell_type": "markdown",
   "metadata": {},
   "source": [
    "# Advanced Topics\n",
    "\n",
    "* In this lecture we will discuss\n",
    "  * LinkedLists\n",
    "  * Maps\n",
    "  * Java Collections Framework\n",
    "  * Streams and lambda expressions\n",
    "  * Other topics as we have time"
   ]
  },
  {
   "cell_type": "markdown",
   "metadata": {},
   "source": [
    "### Your future in CS \n",
    "I used to include this on my slides, but since these slides have changed - going to just leave it up here for every notebook. I get a lot of questions about more programming courses, the concentrations, and minors in computer science. Here is a brief reminder.\n",
    "\n",
    "CS 165 – Next Course In Sequence, also consider CS 220 (math and stats especially) \n",
    "* CO Jobs Report 2021 – 77% of *all* new jobs in Colorado require programming\n",
    "* 60% of all STEM jobs requires *advanced* (200-300 level) \n",
    "* 31% of all Bachelor of Arts degree titled jobs also required coding skills \n",
    "* 2016 Report found on average jobs that require coding skills paid $22,000 more\n",
    "\n",
    "* Concentrations in CS:\n",
    "  * Computer science has a number of concentrations. \n",
    "    * [General concentration](https://catalog.colostate.edu/general-catalog/colleges/natural-sciences/computer-science/computer-science-major/computer-science-concentration/#requirementstext) is the most flexible, and even allows students to double major or minor pretty easily. \n",
    "    * [Software Engineering](https://catalog.colostate.edu/general-catalog/colleges/natural-sciences/computer-science/computer-science-major-software-engineering-concentration/)\n",
    "    * [Computing Systems](https://catalog.colostate.edu/general-catalog/colleges/natural-sciences/computer-science/computer-science-major-computing-systems-concentration/)\n",
    "    * [Human Centered Computing](https://catalog.colostate.edu/general-catalog/colleges/natural-sciences/computer-science/computer-science-major/human-centered-computing-concentration/)\n",
    "    * [Networks and Security](https://catalog.colostate.edu/general-catalog/colleges/natural-sciences/computer-science/computer-science-major-networks-security-concentration/)\n",
    "    * [Artificial Intelligence](https://catalog.colostate.edu/general-catalog/colleges/natural-sciences/computer-science/computer-science-major-artificial-intelligence-machine-learning-concentration/)\n",
    "    * Computer Science Education. \n",
    "  * Minors: \n",
    "    * [Minor in Computer Science](https://catalog.colostate.edu/general-catalog/colleges/natural-sciences/computer-science/computer-science-minor/) - choose your own adventure minor\n",
    "    * [Minor in Machine Learning](https://catalog.colostate.edu/general-catalog/colleges/natural-sciences/computer-science/machine-learning-minor/) - popular with stats/math, and engineering\n",
    "    * [Minor in Bioinformatics](https://catalog.colostate.edu/general-catalog/colleges/natural-sciences/computer-science/bioinformatics-minor/) - Biology + Computer Science\n"
   ]
  },
  {
   "cell_type": "markdown",
   "metadata": {},
   "source": [
    "## Lists\n",
    "\n",
    "There are two well known list types in java ArrayLists and LinkedLists\n",
    "\n",
    "### ArrayLists\n",
    "\n",
    "* Underlining structure is an array\n",
    "* which means\n",
    "  * Access time to an element can be $O(1)$ as you have direct indexing. \n",
    "  * Finding an element is $O(n)$ because you have to go through every element\n",
    "  * What happens when the Array is full?\n",
    "    * Let's see.\n"
   ]
  },
  {
   "cell_type": "code",
   "execution_count": 1,
   "metadata": {
    "vscode": {
     "languageId": "java"
    }
   },
   "outputs": [],
   "source": [
    "public class MyArrayList {\n",
    "    Object[] values = new Object[10]; // default start\n",
    "    int size = 0;\n",
    "\n",
    "    public void add(Object obj) {\n",
    "        if(size >= values.length) doubleValues(); // oh no, it is full!\n",
    "        values[size++] = obj; // store at the end\n",
    "    }\n",
    "\n",
    "    public void insert(int index, Object obj) {\n",
    "        if(index >= size) throw new IndexOutOfBoundsException();\n",
    "        if(size >= values.length) doubleValues(); // just in case\n",
    "        // ok, to insert we have to move every value 'down' the list!\n",
    "        System.out.print(\"Shifting - \");\n",
    "        for(int i = size-1; i >=index; i--) {\n",
    "            System.out.print(\".\");\n",
    "            values[i+1] = values[i];\n",
    "        }\n",
    "        System.out.println();\n",
    "        values[index] = obj;\n",
    "        size++;\n",
    "    }\n",
    "\n",
    "    private void doubleValues() {\n",
    "        System.out.println(\"Running double\");\n",
    "        Object[] values2 = new Object[values.length*2];\n",
    "        for(int i = 0; i < values.length; i++) { \n",
    "            values2[i] = values[i]; // copies every object into the new list\n",
    "        }\n",
    "        values = values2; // resets the first variable to the new array created\n",
    "        System.gc(); //forces the garbage collector to look for memory to free\n",
    "    }\n",
    "    public String toString() {\n",
    "        return Arrays.toString(values);\n",
    "    }\n",
    "\n",
    "}"
   ]
  },
  {
   "cell_type": "code",
   "execution_count": 2,
   "metadata": {
    "vscode": {
     "languageId": "java"
    }
   },
   "outputs": [
    {
     "name": "stdout",
     "output_type": "stream",
     "text": [
      "[null, null, null, null, null, null, null, null, null, null]\n",
      "Running double\n",
      "[0, 1, 2, 3, 4, 5, 6, 7, 8, 9, 10, null, null, null, null, null, null, null, null, null]\n",
      "Running double\n",
      "Running double\n",
      "Running double\n",
      "Running double\n",
      "Running double\n",
      "Running double\n"
     ]
    }
   ],
   "source": [
    "MyArrayList list = new MyArrayList();\n",
    "System.out.println(list);\n",
    "for(int i = 0; i < 11; i++) {\n",
    "    list.add(new Integer(i));\n",
    "}\n",
    "System.out.println(list);\n",
    "for(int i = 0; i < 1000; i++) {\n",
    "    list.add(new Integer(i));\n",
    "}"
   ]
  },
  {
   "cell_type": "code",
   "execution_count": 3,
   "metadata": {
    "vscode": {
     "languageId": "java"
    }
   },
   "outputs": [
    {
     "name": "stdout",
     "output_type": "stream",
     "text": [
      "[null, null, null, null, null, null, null, null, null, null]\n",
      "[0, 1, 2, 3, 4, 5, 6, 7, null, null]\n",
      "Shifting - .\n",
      "[0, 1, 2, 3, 4, 5, 6, -7, 7, null]\n",
      "Shifting - .........\n",
      "[-10, 0, 1, 2, 3, 4, 5, 6, -7, 7]\n",
      "Running double\n",
      "Shifting - ..........\n",
      "[-1, -10, 0, 1, 2, 3, 4, 5, 6, -7, 7, null, null, null, null, null, null, null, null, null]\n"
     ]
    }
   ],
   "source": [
    "MyArrayList list = new MyArrayList();\n",
    "System.out.println(list);\n",
    "for(int i = 0; i < 8; i++) {\n",
    "    list.add(new Integer(i));\n",
    "}\n",
    "System.out.println(list);\n",
    "list.insert(7, new Integer(-7));\n",
    "System.out.println(list);\n",
    "list.insert(0, new Integer(-10)); // it has to move all of them down one!\n",
    "System.out.println(list);\n",
    "list.insert(0, new Integer(-1));\n",
    "System.out.println(list);\n"
   ]
  },
  {
   "cell_type": "markdown",
   "metadata": {},
   "source": [
    "* Inserting at the start -- is expensive!\n",
    "  * Especially if you are at a size max\n",
    "* Inserting at the end is cheap, unless you are at a size max\n",
    "  \n",
    "### LIFO and FIFO\n",
    "* Last in first out (LIFO) - also known as a `stack`\n",
    "  * Very common process for algorithms\n",
    "* First in First Out (FIFO) - also known as a `queue`\n",
    "  * ArrayList are in the worst case scenario as they are always shifting values!\n",
    "\n",
    "\n",
    "## LinkedList\n",
    "![linked list chain](img/linkedList.png)\n",
    "\n",
    "* Another common type of list\n",
    "* The idea\n",
    "  * Each \"node\" contains a value\n",
    "  * And then a reference to the next node in the list\n",
    "    * Think of a chain!\n",
    "  * We also keep pointers to the front and end of the chain\n",
    "    * Adding something at the beginning means\n",
    "      * Create a new node\n",
    "      * Set the value to the node\n",
    "      * Set next node to the be start of the list\n",
    "      * set the start of the list to the new node\n",
    "      * cost? $O(1)$\n",
    "    * Adding at the end?\n",
    "      * Same pattern, but with the last node!\n",
    "      * cost? $O(1)$\n",
    "    * However, accessing a node that isn't the beginning or the end?\n",
    "      * cost? $O(n)$\n",
    "      * As you have to traverse the entire list to find it!\n",
    "* You will implement this in CS 165\n",
    "\n",
    "### LinkedList or ArrayList?\n",
    "\n",
    "* If you need quick access to the elements, and you are not constantly removing and adding elements\n",
    "  * ArrayList\n",
    "* If you need to constantly remove and add elements at the start or end\n",
    "  * LinkedList\n",
    "* How do you pick which in your code?\n",
    "  * Use the **power** of inheritance and polymorphism"
   ]
  },
  {
   "cell_type": "code",
   "execution_count": 4,
   "metadata": {
    "vscode": {
     "languageId": "java"
    }
   },
   "outputs": [],
   "source": [
    "public class MyStack<T> {   // the T is called a 'generic', meaning i can define the type as i use it!\n",
    "    private List<T> list = new ArrayList<>();\n",
    "    public void push(T value) {\n",
    "        list.add(0, value);\n",
    "    }\n",
    "    public T pop() {\n",
    "        return list.remove(0);\n",
    "    }\n",
    "}"
   ]
  },
  {
   "cell_type": "code",
   "execution_count": 5,
   "metadata": {
    "vscode": {
     "languageId": "java"
    }
   },
   "outputs": [
    {
     "name": "stdout",
     "output_type": "stream",
     "text": [
      "ArrayList Version Done: 116163\n"
     ]
    }
   ],
   "source": [
    "import java.time.Instant;\n",
    "\n",
    "MyStack<Integer> stack = new MyStack<>();  // it now uses Integer in place of T\n",
    "\n",
    "Instant start = java.time.Instant.now();\n",
    "for(int i = 0; i < 1000000; i++) \n",
    "    stack.push(new Integer(i));\n",
    "Instant end = java.time.Instant.now();\n",
    "System.out.println(\"ArrayList Version Done: \" + java.time.Duration.between(start, end).toMillis());\n"
   ]
  },
  {
   "cell_type": "code",
   "execution_count": 6,
   "metadata": {
    "vscode": {
     "languageId": "java"
    }
   },
   "outputs": [],
   "source": [
    "public class MyStack<T> {   \n",
    "    private List<T> list = new LinkedList<>(); // notice I only have to change this one line of code!\n",
    "    public void push(T value) {\n",
    "        list.add(0, value);\n",
    "    }\n",
    "    public T pop() {\n",
    "        return list.remove(0);\n",
    "    }\n",
    "}"
   ]
  },
  {
   "cell_type": "code",
   "execution_count": 7,
   "metadata": {
    "vscode": {
     "languageId": "java"
    }
   },
   "outputs": [
    {
     "name": "stdout",
     "output_type": "stream",
     "text": [
      "LinkedList Version Done: 217\n"
     ]
    }
   ],
   "source": [
    "// now using the LinkedList Version\n",
    "\n",
    "MyStack<Integer> stack = new MyStack<>();  // it now uses Integer in place of T\n",
    "\n",
    "Instant start = java.time.Instant.now();\n",
    "for(int i = 0; i < 1000000; i++) \n",
    "    stack.push(new Integer(i));\n",
    "Instant end = java.time.Instant.now();\n",
    "System.out.println(\"LinkedList Version Done: \" + java.time.Duration.between(start, end).toMillis());"
   ]
  },
  {
   "cell_type": "markdown",
   "metadata": {},
   "source": [
    "#### Time Difference\n",
    "\n",
    "In the example above - 1 minute and 56 seconds, compared to 0.4s!! \n",
    "\n",
    "Knowing which data structure to use matters!"
   ]
  },
  {
   "cell_type": "markdown",
   "metadata": {},
   "source": [
    "## Collections Framework\n",
    "\n",
    "* Java SDK has a massive framework\n",
    "* A very popular piece is the collection framework\n",
    "  * Both `ArrayList` and `LinkedList` are implemented for you\n",
    "  * They both implement `List`\n",
    "* They also have a lot more features and classes\n",
    "\n",
    "![Collections Framework](img/collections_layout.png)"
   ]
  },
  {
   "cell_type": "markdown",
   "metadata": {},
   "source": [
    "* For the most part we 'declare' as the interfaces\n",
    "* Initialize as the classes we need specifically\n",
    "* `List`\n",
    "  * We are already using, notice Vector and Stack\n",
    "* `Queue`\n",
    "  * Interface that focuses on LIFO and FIFO style commands\n",
    "  * Queues often determine order of actions (like who gets the internet next on a router!)\n",
    "* `Set`\n",
    "  * Like a mathematical set\n",
    "  * Order does not matter\n",
    "  * Unique values only\n",
    "  * You must override `.equals()` and `.getHash()` if you store your objects in a set \n",
    "* `SortedSet`\n",
    "  * Like set, but an order is kept\n",
    "  * You must implement `Comparable` and override `.equals()` for it to work!\n",
    "* `Map`\n",
    "  * Let's talk about this!\n",
    "  * And we will use a class missing from the diagram, a HashMap"
   ]
  },
  {
   "cell_type": "markdown",
   "metadata": {},
   "source": [
    "## Maps\n",
    "\n",
    "* So far to access an element in an list, we need an index from $0..n$\n",
    "  * What if we could name indices?\n",
    "  * Based on the name, we could pull elements directly\n",
    "* Stated another name\n",
    "  * What if we could **map** index names to values\n",
    "  * We have that in most languages, in Java it is `HashMap` or `TreeMap` (if you need the values sorted) "
   ]
  },
  {
   "cell_type": "code",
   "execution_count": 8,
   "metadata": {
    "vscode": {
     "languageId": "java"
    }
   },
   "outputs": [
    {
     "name": "stdout",
     "output_type": "stream",
     "text": [
      "redqueen@wonderland.colostate.edu\n"
     ]
    }
   ],
   "source": [
    "Map<String, String> contacts = new HashMap<>();\n",
    "contacts.put(\"awonder\", \"awonder@wonderland.colostate.edu\");\n",
    "contacts.put(\"queen\", \"redqueen@wonderland.colostate.edu\");\n",
    "contacts.put(\"hatter\", \"madhatter@wonderland.colostate.edu\");\n",
    "System.out.println(contacts.get(\"queen\")); "
   ]
  },
  {
   "cell_type": "markdown",
   "metadata": {},
   "source": [
    "Notice that we can access the value by the \"key\". We can also change the value by the key. "
   ]
  },
  {
   "cell_type": "code",
   "execution_count": 9,
   "metadata": {
    "vscode": {
     "languageId": "java"
    }
   },
   "outputs": [
    {
     "name": "stdout",
     "output_type": "stream",
     "text": [
      "offwiththeirhead@wonderland.colostate.edu\n"
     ]
    }
   ],
   "source": [
    "contacts.put(\"queen\", \"offwiththeirhead@wonderland.colostate.edu\");\n",
    "\n",
    "System.out.println(contacts.get(\"queen\"));"
   ]
  },
  {
   "cell_type": "code",
   "execution_count": 10,
   "metadata": {
    "vscode": {
     "languageId": "java"
    }
   },
   "outputs": [
    {
     "name": "stdout",
     "output_type": "stream",
     "text": [
      "{awonder=awonder@wonderland.colostate.edu, hatter=madhatter@wonderland.colostate.edu, queen=offwiththeirhead@wonderland.colostate.edu}\n"
     ]
    }
   ],
   "source": [
    "System.out.println(contacts); // notice the 'order' isn't kept!"
   ]
  },
  {
   "cell_type": "markdown",
   "metadata": {},
   "source": [
    "We can also get the keys as a **Set** with `.keySet()` and can get the values as a **Collection** with `.values()`\n",
    "\n",
    "> Discussion - why Set for keys and Collection for values?"
   ]
  },
  {
   "cell_type": "code",
   "execution_count": 11,
   "metadata": {
    "vscode": {
     "languageId": "java"
    }
   },
   "outputs": [
    {
     "name": "stdout",
     "output_type": "stream",
     "text": [
      "[awonder, hatter, queen]\n",
      "\n",
      "[awonder@wonderland.colostate.edu, madhatter@wonderland.colostate.edu, offwiththeirhead@wonderland.colostate.edu]\n"
     ]
    }
   ],
   "source": [
    "Set<?> keys = contacts.keySet();\n",
    "Collection<?> values = contacts.values();\n",
    "\n",
    "System.out.println(keys);\n",
    "System.out.println();\n",
    "System.out.println(values);"
   ]
  },
  {
   "cell_type": "markdown",
   "metadata": {},
   "source": [
    "### CS 165 == Technical Interviews\n",
    "\n",
    "* The material you learn in CS 165 is the heart of a lot of technical interviews.\n",
    "* While many of these data structures are written for you - knowing which to use when **matters**. \n",
    "\n",
    "## Going Beyond What We Teach\n",
    "\n",
    "* Java 1.8+ introduced a lot of functional programming techniques\n",
    "* Many books haven't caught up\n",
    "  * This next part, you don't really learn in a class - but I felt like teaching it this year!\n",
    "  * It is used in industry, so worth learning / messing around with. \n",
    "\n",
    "### Java Stream Interface\n",
    "\n",
    "* What if we could treat our data/collection as  'stream' of information\n",
    "  * We can modify that data\n",
    "  * We can filter that data\n",
    "  * We create new collections from that data\n",
    "* While we do all that with for loops and complicated programming\n",
    "  * These techniques are so common, java created the stream interface\n",
    "  * Many modern languages have something similar\n",
    "  * Kotlin defaults to streams as part of their collections"
   ]
  },
  {
   "cell_type": "code",
   "execution_count": 12,
   "metadata": {
    "vscode": {
     "languageId": "java"
    }
   },
   "outputs": [
    {
     "name": "stdout",
     "output_type": "stream",
     "text": [
      "[Hatter, , Alice, Red Queen, Cat, , White Queen]\n",
      "[Hatter, Alice, Red Queen, Cat, White Queen]\n"
     ]
    }
   ],
   "source": [
    "import  java.util.stream.*;\n",
    "\n",
    "List<String> names = Arrays.asList(\"Hatter\", \"\", \"Alice\", \"Red Queen\", \"Cat\", \"\", \"White Queen\");\n",
    "\n",
    "System.out.println(names); // oh no, our data has empty strings in it!\n",
    "// we could create a loop that removes each one, or we could do the following\n",
    "\n",
    "List<String> filtered = names.stream().filter(name -> !name.isEmpty()).collect(Collectors.toList());\n",
    "System.out.println(filtered); // one line removes them. "
   ]
  },
  {
   "cell_type": "markdown",
   "metadata": {},
   "source": [
    "### Lambda Expressions\n",
    "\n",
    "* What is that -> magic?\n",
    "* It is actually a lambda expression\n",
    "  * A method defined on the 'fly'\n",
    "  * It takes the value for each item in the list, passes it into  `name` as the parameter \n",
    "  * It then executes the code 'returning' the answer which is a Boolean\n",
    "  * If the answer is true, the value is kept\n",
    "  * If the answer if false, the value is filtered out\n",
    "* You can define your own, and often they are paired with interfaces. \n",
    "  * This combined with using the interface allows for methods to be treated more like objects"
   ]
  },
  {
   "cell_type": "code",
   "execution_count": 13,
   "metadata": {
    "vscode": {
     "languageId": "java"
    }
   },
   "outputs": [
    {
     "name": "stdout",
     "output_type": "stream",
     "text": [
      "100\n",
      "144\n",
      "1728\n"
     ]
    }
   ],
   "source": [
    "interface Power {\n",
    "    int pow(int x); \n",
    "}\n",
    "\n",
    "Power test = (x) ->  { return x * x;};\n",
    "\n",
    "int value = test.pow(10);\n",
    "System.out.println(value);\n",
    "\n",
    "public static void myFunctional(Power power, int x) {\n",
    "    System.out.println(power.pow(x));\n",
    "}\n",
    "myFunctional(test, 12);\n",
    "\n",
    "myFunctional(x -> x * x * x, 12); // in this case, i wanted power 3, not power 2 "
   ]
  },
  {
   "cell_type": "markdown",
   "metadata": {},
   "source": [
    "### More Streams\n",
    "\n",
    "Now that we understand lambda expressions, lets look at other things we can do with streams!\n",
    "\n",
    "\n",
    "\n",
    "#### Map\n",
    "Takes the values, applies the function, builds a new list based on the values."
   ]
  },
  {
   "cell_type": "code",
   "execution_count": 14,
   "metadata": {
    "vscode": {
     "languageId": "java"
    }
   },
   "outputs": [
    {
     "name": "stdout",
     "output_type": "stream",
     "text": [
      "[4, 4, 9, 49, 9, 25, 100]\n",
      "[Even, Even, Odd, Odd, Odd, Odd, Even]\n"
     ]
    }
   ],
   "source": [
    "List<Integer> numbers = Arrays.asList(2, 2, 3, 7, 3, 5, 10);\n",
    "\n",
    "//get list of unique squares\n",
    "List<Integer> pow2List = numbers.stream().map( x -> x*x).collect(Collectors.toList());\n",
    "\n",
    "System.out.println(pow2List);\n",
    "\n",
    "List<String> evenOdd = numbers.stream().map( x -> x%2==0 ? \"Even\" : \"Odd\").collect(Collectors.toList());\n",
    "System.out.println(evenOdd);\n"
   ]
  },
  {
   "cell_type": "markdown",
   "metadata": {},
   "source": [
    "What if i only wanted unique values? use `.distinct()`"
   ]
  },
  {
   "cell_type": "code",
   "execution_count": 15,
   "metadata": {
    "vscode": {
     "languageId": "java"
    }
   },
   "outputs": [
    {
     "name": "stdout",
     "output_type": "stream",
     "text": [
      "[4, 9, 49, 25, 100]\n"
     ]
    }
   ],
   "source": [
    "List<Integer> numbers = Arrays.asList(2, 2, 3, 7, 3, 5, 10);\n",
    "\n",
    "//get list of unique values\n",
    "List<Integer> pow2List = numbers.stream().map( x -> x*x).distinct().collect(Collectors.toList());\n",
    "\n",
    "System.out.println(pow2List);"
   ]
  },
  {
   "cell_type": "markdown",
   "metadata": {},
   "source": [
    "What if I wanted 10 random numbers in a list?"
   ]
  },
  {
   "cell_type": "code",
   "execution_count": 16,
   "metadata": {
    "vscode": {
     "languageId": "java"
    }
   },
   "outputs": [
    {
     "name": "stdout",
     "output_type": "stream",
     "text": [
      "[3, 15, 6, 6, 9, 7, 18, 16, 18, 5]\n"
     ]
    }
   ],
   "source": [
    "import java.util.Random;\n",
    "\n",
    "Random rnd = new Random();\n",
    "int[] random = rnd.ints(1, 21).limit(10).toArray(); // random.ints() returns an IntStream\n",
    "System.out.println(Arrays.toString(random));"
   ]
  },
  {
   "cell_type": "code",
   "execution_count": 27,
   "metadata": {
    "vscode": {
     "languageId": "java"
    }
   },
   "outputs": [
    {
     "name": "stdout",
     "output_type": "stream",
     "text": [
      "Sorted [1, 3, 3, 6, 7, 7, 8, 9, 9, 10, 10, 11, 11, 11, 12, 14, 17, 19, 20, 20]\n",
      "Max value 20\n",
      "Min value 1\n"
     ]
    }
   ],
   "source": [
    "int[] random = rnd.ints(1, 21).limit(20).sorted().toArray();\n",
    "System.out.println(\"Sorted \" + Arrays.toString(random));\n",
    "System.out.println(\"Max value \" + rnd.ints(1, 21).limit(20).max().getAsInt()); // these are technically different random lists\n",
    "System.out.println(\"Min value \" + rnd.ints(1, 21).limit(20).min().getAsInt());"
   ]
  },
  {
   "cell_type": "markdown",
   "metadata": {},
   "source": [
    "Also, we can run statistics pretty easily!"
   ]
  },
  {
   "cell_type": "code",
   "execution_count": 18,
   "metadata": {
    "vscode": {
     "languageId": "java"
    }
   },
   "outputs": [
    {
     "name": "stdout",
     "output_type": "stream",
     "text": [
      "Max: 4\n",
      "Min: 0\n",
      "Sum: 16\n",
      "Average: 2.2857142857142856\n",
      "Mode: 3\n"
     ]
    }
   ],
   "source": [
    "List<Integer> grades = Arrays.asList(1, 4, 2, 3, 3, 3, 0);\n",
    "IntSummaryStatistics stats = grades.stream().mapToInt((x) -> x).summaryStatistics();\n",
    "System.out.println(\"Max: \" + stats.getMax());\n",
    "System.out.println(\"Min: \" + stats.getMin());\n",
    "System.out.println(\"Sum: \" + stats.getSum());\n",
    "System.out.println(\"Average: \" + stats.getAverage());\n",
    "\n",
    "// mode is still more complicated\n",
    "Map<Integer, Integer> counter = new HashMap<Integer, Integer>();\n",
    "for (Integer i : grades) {\n",
    "    Integer j = counter.get(i);\n",
    "    counter.put(i, (j == null) ? 1 : j + 1);\n",
    "}\n",
    "int max = Collections.max(counter.values());\n",
    "List<Integer> mode = counter.entrySet().stream()\n",
    "    .filter(entry -> entry.getValue() == max)\n",
    "    .map(entry -> entry.getKey())\n",
    "    .collect(Collectors.toList());\n",
    "\n",
    "System.out.println(\"Mode: \" + mode.get(0));\n"
   ]
  },
  {
   "cell_type": "markdown",
   "metadata": {},
   "source": [
    "## Using our own objects\n",
    "\n",
    "This is all great, but we want to use our own objects!\n",
    "\n",
    "You can call specific methods in an object using `Class::method`."
   ]
  },
  {
   "cell_type": "code",
   "execution_count": 21,
   "metadata": {
    "vscode": {
     "languageId": "java"
    }
   },
   "outputs": [
    {
     "name": "stdout",
     "output_type": "stream",
     "text": [
      "[Lab 1::ID=1::grade=4, Lab 2::ID=2::grade=3, Lab 2::ID=2::grade=4, Lab 3::ID=3::grade=3, Lab 3::ID=3::grade=0, Lab 3::ID=3::grade=0, Lab 3::ID=3::grade=4]\n"
     ]
    }
   ],
   "source": [
    "public class Submission  {\n",
    "    final String name;\n",
    "    final int id;\n",
    "    final int grade;\n",
    "\n",
    "    public Submission(String name, int id, int grade) {\n",
    "        this.name = name;\n",
    "        this.id = id;\n",
    "        this.grade = grade;\n",
    "    }\n",
    "\n",
    "    public String getName() { return name;}\n",
    "    public int getID() { return id;}\n",
    "    public int getGrade() { return grade;}\n",
    "    public String toString() { return String.format(\"%s::ID=%d::grade=%d\", name, id, grade);}\n",
    "}\n",
    "\n",
    "List<Submission> assignments = new LinkedList<>();\n",
    "\n",
    "assignments.add(new Submission(\"Lab 1\", 1, 4));\n",
    "assignments.add(new Submission(\"Lab 2\", 2, 3));\n",
    "assignments.add(new Submission(\"Lab 2\", 2, 4));\n",
    "assignments.add(new Submission(\"Lab 3\", 3, 3));\n",
    "assignments.add(new Submission(\"Lab 3\", 3, 0));\n",
    "assignments.add(new Submission(\"Lab 3\", 3, 0));\n",
    "assignments.add(new Submission(\"Lab 3\", 3, 4));\n",
    "System.out.println(assignments);"
   ]
  },
  {
   "cell_type": "code",
   "execution_count": 22,
   "metadata": {
    "vscode": {
     "languageId": "java"
    }
   },
   "outputs": [
    {
     "name": "stdout",
     "output_type": "stream",
     "text": [
      "{1=[Lab 1::ID=1::grade=4], 2=[Lab 2::ID=2::grade=3, Lab 2::ID=2::grade=4], 3=[Lab 3::ID=3::grade=3, Lab 3::ID=3::grade=0, Lab 3::ID=3::grade=0, Lab 3::ID=3::grade=4]}\n",
      "\n",
      "[Lab 1::ID=1::grade=4]\n",
      "[Lab 5::ID=5::grade=0]\n"
     ]
    }
   ],
   "source": [
    "Map<Integer, List<Submission>> byId = assignments.stream().collect(Collectors.groupingBy(Submission::getID));\n",
    "\n",
    "System.out.println(byId);\n",
    "\n",
    "System.out.println();\n",
    "System.out.println(byId.getOrDefault(1, List.of(new Submission(\"Lab 1\", 1, 0))));\n",
    "System.out.println(byId.getOrDefault(5, List.of(new Submission(\"Lab 5\", 5, 0))));"
   ]
  },
  {
   "cell_type": "markdown",
   "metadata": {},
   "source": [
    "## Overall\n",
    "\n",
    "* Using Collections is extremely beneficial and common in programming\n",
    "* The stream interface changes how you view collections\n",
    "  * Instead of objects to iterate over\n",
    "  * They become objects to Query and modify - like accessing databases.\n",
    "* Lambda Expressions allows for functional programming in java\n",
    "  * where functions can be defined on the fly for small quick actions\n",
    "* How do we figure this all out?\n",
    "  * **DIVIDE**-**CONQUER**-**GLUE**\n",
    "  * Write out in small stages, test, print, guess, keep expanding. \n",
    "\n",
    "\n",
    "The world of computer science is just beginning. Just remember, we spend a lot of time looking things up (the Javadoc SDK website is our friend!) - that is ok! No one has it all memorized, but knowing when, how and what to modify that is important. "
   ]
  }
 ],
 "metadata": {
  "kernelspec": {
   "display_name": "Java",
   "language": "java",
   "name": "java"
  },
  "language_info": {
   "codemirror_mode": "java",
   "file_extension": ".jshell",
   "mimetype": "text/x-java-source",
   "name": "Java",
   "pygments_lexer": "java",
   "version": "17.0.2+8"
  },
  "orig_nbformat": 4
 },
 "nbformat": 4,
 "nbformat_minor": 2
}
