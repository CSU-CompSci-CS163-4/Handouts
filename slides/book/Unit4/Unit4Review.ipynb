{
 "cells": [
  {
   "cell_type": "markdown",
   "metadata": {},
   "source": [
    "# Unit 4 / Final Review Sessions\n",
    "\n",
    "Side comment, if you haven't please fill out the course survey (in canvas in the side bar)."
   ]
  },
  {
   "cell_type": "markdown",
   "metadata": {},
   "source": [
    "## Multidimensional Arrays\n",
    "\n",
    "How do we work out the following problems?\n",
    "\n",
    "```java\n",
    "public static int[] x(int[][] matrix, int[] row) {\n",
    "    int[] answer = new int[row.length];\n",
    "    for (int i = 0; i < matrix.length; i++) {\n",
    "        int total = 0;\n",
    "        for (int j = 0; j < matrix[i].length; j++) {\n",
    "            total += matrix[i][j] * row[j];\n",
    "        }\n",
    "        answer[i] = total;\n",
    "    }\n",
    "    return answer;\n",
    "}\n",
    "\n",
    "int[][] matrix = { { 1, 2, 3 }, { 2, 2, 2 }, { 3, 3, 3 } };\n",
    "System.out.println(Arrays.toString(x(matrix, new int[]{2,2,2})));\n",
    "```\n",
    "\n",
    "1. First off, while there isn't a 'quick' way\n",
    "   * You can take short cuts\n",
    "   * But only after you really understand what is going on\n",
    "2. This is about first stepping through the code\n",
    "   * Take notes\n",
    "3. So here is **one** way to solve this. \n",
    "\n",
    "\n",
    "#### Step 1:\n",
    "\n",
    "List what you know about the code\n",
    "\n",
    "1. The multidimensional array matrix is actually a square array of 3x3\n",
    "   * while I don't have to list it this way, I often list it as a grid. easier to follow for me  \n",
    "     $matrix =\\begin{bmatrix}1 & 2 & 3\\\\2 & 2 & 2\\\\3 & 3 & 3\\end{bmatrix}$\n",
    "2. There is a 3 dimensional array (row), that is also the same *length* or the return value (answer)  \n",
    "    $row = \\begin{bmatrix}2 & 2 & 2\\end{bmatrix}$,  $answer = \\begin{bmatrix}0 & 0 & 0\\end{bmatrix}$\n",
    "3. $i$ loops through the rows, $j$ loops through the columns of $matrix$, and total restarts at 0 with every row. \n",
    "4. answer\\[i\\] is actually the 'column' of the single array. \n",
    "5. which leaves the following line as the 'critical work'  \n",
    "    ```java\n",
    "    total += matrix[i][j] * row[j];\n",
    "    ```\n",
    "\n",
    "#### Step 2:\n",
    "1. Walk through a single iteration of the code, carefully and slowly\n",
    "   * $i = 0$\n",
    "   * $j = 0, 1, 2$ (this is my changing element)\n",
    "   * $j(0), total = matrix[0][0] * row[0] = 1 * 2 = 2$\n",
    "   * $j(1), total = 2 + (2 * 2) = 6$\n",
    "   * $j(2), total = 6 + (3 * 2) = 12$\n",
    "   * $answer = \\begin{bmatrix}12 & 0 & 0\\end{bmatrix}$\n",
    "2. At this point you can step through each one again - or you can get the idea and do the math\n",
    "   * Either is fine. \n"
   ]
  },
  {
   "cell_type": "markdown",
   "metadata": {},
   "source": [
    "### Your turn\n",
    "\n",
    "Try this at each table. \n",
    "Make sure to draw out the elements as you do it. "
   ]
  },
  {
   "cell_type": "code",
   "execution_count": null,
   "metadata": {
    "vscode": {
     "languageId": "java"
    }
   },
   "outputs": [],
   "source": [
    "public static int[] x(int[][] matrix, int[] row) {\n",
    "    int[] answer = new int[row.length];\n",
    "    for (int i = 0; i < matrix.length; i++) {\n",
    "        int total = 0;\n",
    "        for (int j = 0; j < matrix[i].length; j++) {\n",
    "            total += matrix[i][j] % row[j];\n",
    "        }\n",
    "        answer[i] = total;\n",
    "    }\n",
    "    return answer;\n",
    "}\n",
    "\n",
    "int[][] matrix = { { 1, 2, 3 }, { 2, 2, 2 }, { 3, 3, 3 } };\n",
    "System.out.println(Arrays.toString(x(matrix, new int[]{2,2,2})));"
   ]
  },
  {
   "cell_type": "markdown",
   "metadata": {},
   "source": [
    "### Swapper\n",
    "\n",
    "The ```swapper``` methods are also code tracing questions. \n",
    "\n",
    "Let's take the following:\n",
    "```java\n",
    "public static void swapper(int[][] matrix) {\n",
    "    for (int i = 0; i < matrix.length; i++) {\n",
    "        for (int j = i; j < matrix[i].length; j++) {\n",
    "            int tmp = matrix[i][j];\n",
    "            matrix[i][j] = matrix[j][i];\n",
    "            matrix[j][i] = tmp;\n",
    "        }\n",
    "    }\n",
    "}\n",
    "int[][] matrix = { { 1, 2, 3 }, { 20, 21, 22 }, { 30, 31, 32 } };\n",
    "swapper(matrix); // you then have to drag and drop into the correct row\n",
    "```\n",
    "\n",
    "#### Step 1\n",
    "\n",
    "1. As above we ask ourselves what we notice about the code\n",
    "   * $matrix = \\begin{bmatrix}1 & 2 & 3\\\\20 & 21 & 22\\\\30 & 31 & 32\\end{bmatrix}$\n",
    "   * *i* is the row, and *j* is the column of the matrix\n",
    "   * We notice column starts at the location of row\n",
    "     * so if row is 0, column starts at 0, if row is 1, column starts at 1\n",
    "     * This is interesting and may be important!\n",
    "   * The interesting bit of code is inside the second loop  \n",
    "    ```java\n",
    "    int tmp = matrix[i][j];\n",
    "    matrix[i][j] = matrix[j][i];\n",
    "    matrix[j][i] = tmp;\n",
    "    ```\n",
    "   * This is the same type of code for swapping two variables in a single array (the 'chair' game we did in lecture!)\n",
    "   * so we are swapping two variables in the matrix, but which ones, where?\n",
    "\n",
    "#### Step 2\n",
    "\n",
    "Run through one complete iteration of the loop. Traditionally, I would just 'scratch out' stuff, but for clarity will keep writing the entire matrix over and over. \n",
    "\n",
    "1. $i = 0, j=0$ \n",
    "  * $matrix[0][0]$ swap with $matrix[0][0]$ -- ok, this isn't interesting, lets not worry as much\n",
    "2. $i = 0, j=1$\n",
    "   * $matrix[0][1]$ swap with $matrix[1][0]$ -- ok, this is interesting\n",
    "3. $i = 0, j=2$\n",
    "   * $matrix[0][2]$ swap with $matrix[2][0]$ -- ok, this is interesting\n",
    "   * This give me the following matrix  \n",
    "    $matrix = \\begin{bmatrix}1, 20, 30\\\\2, 21, 22\\\\3, 31, 32\\end{bmatrix}$\n",
    "4. Now you can continue step by step, or see the pattern and complete it\n",
    "   * Keep in mind, that we start at i, so the next step just looks at  \n",
    "    $i = 1, j = 1$ and then $i = 1, j = 2$\n",
    "   * Write out the completed matrix! and then go in and solve the problem in canvas"
   ]
  },
  {
   "cell_type": "markdown",
   "metadata": {},
   "source": [
    "#### Your Turn\n",
    "\n",
    "Work out the following at the table, make sure you draw out the completed matrix"
   ]
  },
  {
   "cell_type": "code",
   "execution_count": null,
   "metadata": {
    "vscode": {
     "languageId": "java"
    }
   },
   "outputs": [],
   "source": [
    "public static void swapper(int[][] matrix) {\n",
    "    for (int i = 0; i < matrix.length; i++) {\n",
    "        for (int j = matrix[i].length-1; j > i; j--) {\n",
    "            int tmp = matrix[i][j];\n",
    "            matrix[i][j] = matrix[j][i];\n",
    "            matrix[j][i] = tmp;\n",
    "        }\n",
    "    }\n",
    "}\n",
    "int[][] matrix = { { 1, 2, 3 }, { 20, 21, 22 }, { 30, 31, 32 } };\n",
    "swapper(matrix); // you then have to drag and drop into the correct row\n",
    "\n",
    "for(int[] row : matrix) \n",
    "    System.out.println(Arrays.toString(row));\n"
   ]
  },
  {
   "cell_type": "markdown",
   "metadata": {},
   "source": [
    "## Sorting Confirmation \n",
    "\n",
    "There are questions in the knowledge check that provides code, and asks which sort it is!\n",
    "\n",
    "```java\n",
    "void sort(int arr[]) { \n",
    "    int n = arr.length;   \n",
    "    for (int i = 0; i < n-1; i++) { \n",
    "        int min_idx = i; \n",
    "        for (int j = i+1; j < n; j++) {\n",
    "            if (arr[j] < arr[min_idx]) {  min_idx = j; }\n",
    "        } \n",
    "        int temp = arr[min_idx]; \n",
    "        arr[min_idx] = arr[i]; \n",
    "        arr[i] = temp; \n",
    "    } \n",
    "} \n",
    "```\n",
    "> Discussion:  \n",
    "> At your table, discuss key elements of this sort.  \n",
    "> Talk it through. In the end, determine if it is a **selection** or **bubble** sort.\n",
    "\n",
    "\n",
    "#### Part 2 - Let's try another one\n",
    "\n",
    "```java\n",
    "void sort(int arr[]) { \n",
    "    int n = arr.length; \n",
    "    for (int i = 0; i < n-1; i++) {\n",
    "        for (int j = 0; j < n-i-1; j++) { \n",
    "            if (arr[j] > arr[j+1])  { \n",
    "                int temp = arr[j]; \n",
    "                arr[j] = arr[j+1]; \n",
    "                arr[j+1] = temp; \n",
    "            }\n",
    "        } \n",
    "    }\n",
    "}\n",
    "```\n",
    "> Discussion:  \n",
    "> At your table, discuss key elements of this sort.  \n",
    "> Talk it through. In the end, determine if it is a **selection** or **bubble** sort.\n",
    "\n",
    "### Part 3\n",
    "\n",
    "* List all differences and similarities between the sorts!\n",
    "* What can you figure out from the code \n",
    "  * For example: a loop with a loop, that is a $O(n^2)$\n",
    "    * This means your possible answers are selection, insertion, bubble\n",
    "* Where are you making the swap happen?\n",
    "  * Inside the inner loop or in the outer loop?\n",
    "  * Inner loop means = bubble sort\n",
    "  * Outer loop\n",
    "    * Are you looking for the smallest or largest value?\n",
    "      * and just swapping it with the 'next' location?\n",
    "      * Selection sort\n",
    "    * Is it grabbing values in order, and deciding where they should be in the 'sorted' values?\n",
    "      * Insertion sort\n",
    "      * Spoiler, while the book covered this, it won't be on the exam as we didn't cover it in class. "
   ]
  },
  {
   "cell_type": "markdown",
   "metadata": {},
   "source": [
    "## More Arrays\n",
    "\n",
    "Let's have a practice problem. Write a method that\n",
    "\n",
    "1. Takes in a number of type **int**\n",
    "   * This defines the length of the array\n",
    "2. And takes in a second number of type **int**\n",
    "   * This defines the 'range' of random (1 to including range)\n",
    "3. Returns the array of random numbers of length n\n"
   ]
  },
  {
   "cell_type": "code",
   "execution_count": 10,
   "metadata": {
    "vscode": {
     "languageId": "java"
    }
   },
   "outputs": [
    {
     "name": "stdout",
     "output_type": "stream",
     "text": [
      "[0, 0, 0, 0, 0, 0, 0, 0, 0, 0, 0, 0, 0, 0, 0]\n",
      "[15, 5, 7, 4, 3, 16, 11, 3, 20, 9, 10, 19, 10, 2, 16]\n"
     ]
    }
   ],
   "source": [
    "public static int[] random_ints(int n, int range) {\n",
    "    Random rnd = new Random();\n",
    "    int[] ints = new int[n]; // arrays need to have their size declared when initialized!\n",
    "    System.out.println(Arrays.toString(ints));\n",
    "    for(int i =0; i < ints.length; i++) {\n",
    "        ints[i] = rnd.nextInt(range)+1;\n",
    "    }\n",
    "    return ints;\n",
    "}\n",
    "\n",
    "\n",
    "int[] values = random_ints(15, 20);\n",
    "System.out.println(Arrays.toString(values));"
   ]
  },
  {
   "cell_type": "markdown",
   "metadata": {},
   "source": [
    "Given the code above, what are some things we can ask ourselves of arrays\n",
    "\n",
    "1. They are **fixed** length\n",
    "2. They start with either 0 or null for the values (primitive or objects)\n",
    "3. Since the **new** keyword is used, their information is stored on the heap like objects\n",
    "   * and a pointer / reference to their location is what is passed in parameters or returned\n",
    "4. They can hold *any* type!\n",
    "   * they can be types in themselves. \n",
    "5. They do not have methods, so much use the wrapper class `Arrays`"
   ]
  },
  {
   "cell_type": "markdown",
   "metadata": {},
   "source": [
    "## ArrayLists\n",
    "\n",
    "Let's try the same problem above, but instead use an ArrayList!"
   ]
  },
  {
   "cell_type": "code",
   "execution_count": 17,
   "metadata": {
    "vscode": {
     "languageId": "java"
    }
   },
   "outputs": [
    {
     "name": "stdout",
     "output_type": "stream",
     "text": [
      "[]\n",
      "[12, 17, 9, 7, 15, 5, 20, 3, 16, 13]\n"
     ]
    }
   ],
   "source": [
    "public static List<Integer> random_ints2(int n, int range) {\n",
    "    Random rnd = new Random();\n",
    "    List<Integer> lst = new ArrayList<>(n);\n",
    "    System.out.println(lst);\n",
    "    for(int i = 0; i < n; i++) {\n",
    "        lst.add(rnd.nextInt(range)+1);\n",
    "    }\n",
    "    return lst;\n",
    "}\n",
    "\n",
    "// don't forget to test the output\n",
    "\n",
    "System.out.println(random_ints2(10, 20));"
   ]
  },
  {
   "cell_type": "markdown",
   "metadata": {},
   "source": [
    "Given the code above, we have\n",
    "\n",
    "* ArrayLists are objects\n",
    "* Best practice is to declare it as a List (polymorphism power)\n",
    "* You need to use `.add()`\n",
    "* Values must be objects (and you specify the value type when you declare!)\n",
    "* The size can be variable\n",
    "* Are slower than arrays, but at a much greater flexibility on sizes and changing\n",
    "  * Great when your size is unknown, like lines in a file"
   ]
  },
  {
   "cell_type": "markdown",
   "metadata": {},
   "source": [
    "## AbstractClasses\n",
    "\n",
    "* We have interfaces\n",
    "  * No code method definitions only\n",
    "* Classes\n",
    "  * All defined methods must be implemented\n",
    "  * Can be instantiated \n",
    "* AbstractClasses\n",
    "  * Not all methods need to be defined\n",
    "  * But most/some are defined\n",
    "  * Can **not** be instantiated\n",
    "\n",
    "\n",
    "Let's walk through an example. "
   ]
  },
  {
   "cell_type": "code",
   "execution_count": null,
   "metadata": {
    "vscode": {
     "languageId": "java"
    }
   },
   "outputs": [],
   "source": []
  }
 ],
 "metadata": {
  "kernelspec": {
   "display_name": "Java",
   "language": "java",
   "name": "java"
  },
  "language_info": {
   "codemirror_mode": "java",
   "file_extension": ".jshell",
   "mimetype": "text/x-java-source",
   "name": "Java",
   "pygments_lexer": "java",
   "version": "17.0.2+8"
  },
  "orig_nbformat": 4
 },
 "nbformat": 4,
 "nbformat_minor": 2
}
