{
 "cells": [
  {
   "cell_type": "markdown",
   "metadata": {},
   "source": [
    "# 2D Arrays in Java\n",
    "\n",
    "* In this lecture, we will cover\n",
    "  * Multidimensional Arrays \n",
    "    * An array of arrays\n",
    "  * Keeping track of access"
   ]
  },
  {
   "cell_type": "markdown",
   "metadata": {},
   "source": [
    "### Your future in CS \n",
    "I used to include this on my slides, but since these slides have changed - going to just leave it up here for every notebook. I get a lot of questions about more programming courses, the concentrations, and minors in computer science. Here is a brief reminder.\n",
    "\n",
    "CS 165 – Next Course In Sequence, also consider CS 220 (math and stats especially) \n",
    "* CO Jobs Report 2021 – 77% of *all* new jobs in Colorado require programming\n",
    "* 60% of all STEM jobs requires *advanced* (200-300 level) \n",
    "* 31% of all Bachelor of Arts degree titled jobs also required coding skills \n",
    "* 2016 Report found on average jobs that require coding skills paid $22,000 more\n",
    "\n",
    "* Concentrations in CS:\n",
    "  * Computer science has a number of concentrations. \n",
    "    * [General concentration](https://catalog.colostate.edu/general-catalog/colleges/natural-sciences/computer-science/computer-science-major/computer-science-concentration/#requirementstext) is the most flexible, and even allows students to double major or minor pretty easily. \n",
    "    * [Software Engineering](https://catalog.colostate.edu/general-catalog/colleges/natural-sciences/computer-science/computer-science-major-software-engineering-concentration/)\n",
    "    * [Computing Systems](https://catalog.colostate.edu/general-catalog/colleges/natural-sciences/computer-science/computer-science-major-computing-systems-concentration/)\n",
    "    * [Human Centered Computing](https://catalog.colostate.edu/general-catalog/colleges/natural-sciences/computer-science/computer-science-major/human-centered-computing-concentration/)\n",
    "    * [Networks and Security](https://catalog.colostate.edu/general-catalog/colleges/natural-sciences/computer-science/computer-science-major-networks-security-concentration/)\n",
    "    * [Artificial Intelligence](https://catalog.colostate.edu/general-catalog/colleges/natural-sciences/computer-science/computer-science-major-artificial-intelligence-machine-learning-concentration/)\n",
    "    * Computer Science Education. \n",
    "  * Minors: \n",
    "    * [Minor in Computer Science](https://catalog.colostate.edu/general-catalog/colleges/natural-sciences/computer-science/computer-science-minor/) - choose your own adventure minor\n",
    "    * [Minor in Machine Learning](https://catalog.colostate.edu/general-catalog/colleges/natural-sciences/computer-science/machine-learning-minor/) - popular with stats/math, and engineering\n",
    "    * [Minor in Bioinformatics](https://catalog.colostate.edu/general-catalog/colleges/natural-sciences/computer-science/bioinformatics-minor/) - Biology + Computer Science\n"
   ]
  },
  {
   "cell_type": "markdown",
   "metadata": {},
   "source": [
    "## Warmup Activity \n",
    "\n",
    "* write a method that build an array of length N\n",
    "* Adds random **int**s to the array until N\n",
    "  * from 1 until and including *range* (another parameter passed in)\n",
    "* returns the array\n",
    "\n",
    "Reminder:\n",
    "\n",
    "```java\n",
    "Random rnd = new Random();\n",
    "int val = rnd.nextInt(6)+1; \n",
    "```\n",
    "generates a random number between 0-5, adds 1 to it, and stores it into val"
   ]
  },
  {
   "cell_type": "code",
   "execution_count": null,
   "metadata": {},
   "outputs": [],
   "source": [
    "public static int[] randomArray(int n, int range) {\n",
    "   // to do in class\n",
    "}\n",
    "\n",
    "int[] random_one = randomArray(10, 12);\n",
    "System.out.println(Arrays.toString(random_one));\n",
    "\n",
    "int[] random_two = randomArray(10, 20);\n",
    "System.out.println(Arrays.toString(random_two))\n"
   ]
  },
  {
   "cell_type": "markdown",
   "metadata": {},
   "source": [
    "## Array Review\n",
    "\n",
    "![Array Review](img/array_review.png)\n",
    "\n",
    "* Ways to store\n",
    "  * Variables in order\n",
    "  * index from 0..N\n",
    "* Arrays are\n",
    "  * a type themselves\n",
    "  * the value of the array \n",
    "    * reference to memory location!\n",
    "    * Matters for parameters and return values!\n",
    "  * .length gives us total memory allocated\n",
    "* Arrays can\n",
    "  * be any size – as long as you allocate it\n",
    "  * Store any valid type\n",
    "  * primitives and objects\n",
    "  * and other arrays (since they are a type themselves)!\n",
    "\n",
    "![Array of Objects](img/array_objects_review.png)\n",
    "\n",
    "* An array of objects are always references to those objects\n",
    "* So since arrays are types, we can also do the following\n",
    "\n",
    "\n",
    "![Array 2D](img/array_2D.png)\n"
   ]
  },
  {
   "cell_type": "code",
   "execution_count": null,
   "metadata": {},
   "outputs": [],
   "source": [
    "int[][] arr2D = {{1,2,3},{6,7,8},{12,13,14}};\n",
    "\n",
    "int[] inner = arr2D[0];\n",
    "System.out.println(inner[0]); // what is printed here?\n",
    "\n",
    "// we also have a short hand notation that is *very* common\n",
    "\n",
    "int val = arr2D[2][1]; \n",
    "System.out.println(val); // what is printed here?"
   ]
  },
  {
   "cell_type": "markdown",
   "metadata": {},
   "source": [
    "The above array is known as  3x3 array. \n",
    "\n",
    "Printing the array is also commonly done with nested for loops"
   ]
  },
  {
   "cell_type": "code",
   "execution_count": null,
   "metadata": {},
   "outputs": [],
   "source": [
    "for(int[] row : arr2D) {\n",
    "    for(int col: row)\n",
    "        System.out.printf(\"%4d\", col);\n",
    "    System.out.println();\n",
    "}"
   ]
  },
  {
   "cell_type": "code",
   "execution_count": null,
   "metadata": {},
   "outputs": [],
   "source": [
    "// just adding these so it will be easier later in our code\n",
    "public static void print2D(Object[][] values) {\n",
    "    for(Object[] row: values) {\n",
    "        for(Object col: row) \n",
    "            System.out.printf(\"%20s\", col);\n",
    "        System.out.println();\n",
    "    }\n",
    "    System.out.println();\n",
    "}\n",
    "\n",
    "public static void print2D(int[][] values) {\n",
    "    for(int[] row: values) {\n",
    "        for(int col: row) \n",
    "            System.out.printf(\"%4d\", col);\n",
    "        System.out.println();\n",
    "    }\n",
    "    System.out.println();\n",
    "}"
   ]
  },
  {
   "cell_type": "markdown",
   "metadata": {},
   "source": [
    "However, if I need to modify the values, I need to use a standard for loop!"
   ]
  },
  {
   "cell_type": "code",
   "execution_count": null,
   "metadata": {},
   "outputs": [],
   "source": [
    "String[][] names = {{\"Superman\", \"Batman\"}, {\"Lex Luther\", \"Joker\"}};\n",
    "\n",
    "\n",
    "print2D(names);\n",
    "\n",
    "\n",
    "for(int row =0; row < names.length; row++) {\n",
    "    for(int col = 0; col < names[row].length; col++) { // notice!!!\n",
    "        names[row][col] = names[row][col].toUpperCase();\n",
    "    }\n",
    "\n",
    "}\n",
    "\n",
    "print2D(names); // notice names is modified!"
   ]
  },
  {
   "cell_type": "markdown",
   "metadata": {},
   "source": [
    "### Declaring Arrays \n",
    "\n",
    "* There are multiple ways to declare arrays\n",
    "* Shorthand using the curly brackets\n",
    "* Declaring the entire array at once\n",
    "* Irregular / declaring on the fly"
   ]
  },
  {
   "cell_type": "code",
   "execution_count": null,
   "metadata": {},
   "outputs": [],
   "source": [
    "int[][] matrix = new int[3][3];\n",
    "\n",
    "\n",
    "print2D(matrix); // fully initialized with 0"
   ]
  },
  {
   "cell_type": "markdown",
   "metadata": {},
   "source": [
    "And then modify the values of the empty array. "
   ]
  },
  {
   "cell_type": "code",
   "execution_count": null,
   "metadata": {},
   "outputs": [],
   "source": [
    "for(int i  = 0; i < matrix.length; i++) {\n",
    "    for(int j = 0; j < matrix[i].length; j++) {\n",
    "        matrix[i][j] = j + (i*10) +1;\n",
    "    }\n",
    "}\n",
    "\n",
    "print2D(matrix);"
   ]
  },
  {
   "cell_type": "markdown",
   "metadata": {},
   "source": [
    "### Irregular / Ragged Arrays\n",
    "\n",
    "* You can have arrays of variable length within an array\n",
    "* These are often called 'ragged' or irregular arrays"
   ]
  },
  {
   "cell_type": "code",
   "execution_count": null,
   "metadata": {},
   "outputs": [],
   "source": [
    "int[][] ragged = new int[3][];\n",
    "\n",
    "System.out.println(Arrays.toString(ragged));\n"
   ]
  },
  {
   "cell_type": "markdown",
   "metadata": {},
   "source": [
    "Notice: It created an array of 3 null values, but it will require an `int[]` to be placed in each spot. "
   ]
  },
  {
   "cell_type": "code",
   "execution_count": null,
   "metadata": {},
   "outputs": [],
   "source": [
    "Random rnd  = new Random();\n",
    "\n",
    "for(int i = 0; i < ragged.length; i++) {\n",
    "    ragged[i] = new int[rnd.nextInt(6)+1];\n",
    "    for(int j = 0; j < ragged[i].length; j++) {\n",
    "        ragged[i][j] = j + (i*10);\n",
    "    }\n",
    "}\n",
    "\n",
    "print2D(ragged);"
   ]
  },
  {
   "cell_type": "markdown",
   "metadata": {},
   "source": [
    "### In class activity\n",
    "\n",
    "* Write a method that\n",
    "  * builds an NxM array (n and m are both parameters)\n",
    "  * populates it with random double values between 0 and 1 \n",
    "    * ```java\n",
    "      Random rnd = new Random();\n",
    "      rnd.nextDouble(); // gives between 0 and 1\n",
    "      ```\n",
    "  * returns that array\n",
    "    * print out the array contents\n",
    "* Expert level (if you finish with the first task)\n",
    "  * Create a second level where M is random 1-M creating a ragged array."
   ]
  },
  {
   "cell_type": "code",
   "execution_count": null,
   "metadata": {},
   "outputs": [],
   "source": [
    "public static double[][] matrixSeed(int n, int m) {\n",
    "    // todo in class\n",
    "}\n",
    "\n",
    "\n",
    "public static void printSeed(double[][] seed) {\n",
    "    // to do in class\n",
    "}\n",
    "\n",
    "\n",
    "double[][] hidden_a = matrixSeed(10, 10);\n",
    "double[][] hidden_b = matrixSeed(10, 5);\n",
    "\n",
    "printSeed(hidden_a);\n",
    "printSeed(hidden_b);\n",
    "\n"
   ]
  },
  {
   "cell_type": "markdown",
   "metadata": {},
   "source": [
    "Why am I calling it a \"seed\"?\n",
    "\n",
    "This is actually common to do when working with artificial neural networks or other machine learning applications. It is the 'starting point' for learning!"
   ]
  },
  {
   "cell_type": "markdown",
   "metadata": {},
   "source": [
    "### Overview\n",
    "\n",
    "* Practice arrays! \n",
    "* You can even make 3D arrays, just be adding on another layer \n",
    "  * You are now dealing in 3D space.. \n",
    "* Data science and Machine Learning often deals with N-dimensional arrays!\n",
    "  * Often, you don't know the N, so making sure you break it down is important!\n",
    "* This is a topic we cover the least, that you will want to practice before CS 165.  "
   ]
  }
 ],
 "metadata": {
  "kernelspec": {
   "display_name": "Java",
   "language": "java",
   "name": "java"
  },
  "language_info": {
   "codemirror_mode": "java",
   "file_extension": ".jshell",
   "mimetype": "text/x-java-source",
   "name": "java",
   "pygments_lexer": "java",
   "version": "17.0.1+12"
  },
  "orig_nbformat": 4
 },
 "nbformat": 4,
 "nbformat_minor": 2
}
