{
 "cells": [
  {
   "cell_type": "markdown",
   "metadata": {},
   "source": [
    "# Logical Operators\n",
    "\n",
    "This unit I am trying something with the slides. Please send me your feedback if this helps with lecture content or not. You can still download the old slide set / powerpoint, if you find that helpful - and the videos I record are using the old slide sets."
   ]
  },
  {
   "cell_type": "markdown",
   "metadata": {},
   "source": [
    "## Review: Conditional Operators\n",
    "\n",
    "* They take two **primative** values\n",
    "    * provide a true or false answer\n",
    "\n",
    "|Standard Operations|Conditional Operators|\n",
    "|-|-|\n",
    "|a `+` b - Adds a and b | a `>` b - **true** when a is greater than b |\n",
    "|a `-` b - subtracts b from a | a `<` b - **true** when a is less than b |\n",
    "|a `*` b - multiply a and b | a `>=` b - **true** when a is greater than *or* equal to b |\n",
    "|a `/` b - divide a by b | a `<=` b - **true** when a is less than *or* equal to b |\n",
    "|a `%` b - remainder of a divided by b | a `==` b - **true** only when a equals b |\n",
    "|a `=` b - assign the value of  b to a | a `!=` b - **true** only when a does not equal b |\n",
    "\n",
    "\n",
    "When we want to compare two objects (such as Strings), we use `obj1.equals(obj2)`\n",
    "* Why?\n",
    "  * `==` only compares the local stack, which is just the memory addres of the object!\n",
    "  * `.equals` allow the object to decide what that means\n",
    "    * For `String` that means each character is compared from left to right.\n",
    "* The .equals()  method returns `true` or `false`\n",
    "\n",
    "> **Pro Tip**  \n",
    "> We can use the not operator `!` to flip a sign. Which means `!(a === b)` and `a != b` are quivalent.  \n",
    "> Also the following code is valid\n",
    "> ```java\n",
    "> boolean val1 = 10 < 5;  // sets false to val1\n",
    "> System.out.println(!val1); // prints true \n",
    "> ```\n",
    "> It is especially useful when we want an object not equal to another object\n",
    "> ```java\n",
    "> boolean isEquel = \"hello\".equals(\"hello\");\n",
    "> boolean notEqual = !(\"hello\".equals(\"hello\"));\n",
    "> ```\n",
    ">"
   ]
  },
  {
   "cell_type": "markdown",
   "metadata": {},
   "source": [
    "## Inclass Activity: BoundsChecker.java\n",
    "\n",
    "The inclass activity is available on github under the following location  (link is also on the syllabus under resources)\n",
    "\n",
    "[https://github.com/CSU-CompSci-CS163-4/Handouts/tree/main/ClassExamples/08LogicalOperators](https://github.com/CSU-CompSci-CS163-4/Handouts/tree/main/ClassExamples/08LogicalOperators). \n",
    "\n",
    "Download the activity either directly, or using git. You can also clone the entire handouts repo, by saying new project from version control. \n",
    "\n",
    "### Task 1: Basic Conditionals and Operations\n",
    "\n",
    "For this first task, you will be writing a method called `boundsCheckConditionalsOnly` that takes in three paremeters \n",
    "* lower \n",
    "* upper\n",
    "* value\n",
    "\n",
    "You will then return a String based on the following:\n",
    "* if the value is lower than the lower, return `null`\n",
    "* if the value is equal to the lower, and lower than the upper\n",
    "  * return the String \"Near upper\" if the value is closer to upper than lower\n",
    "  * return the String \"Near lower\" if the value is closer to lower than upper\n",
    "* if the value is equal to upper or higher, then return `null`\n",
    "* Cavaet: You should *NOT* use logical operators yet (we will get to that in the next activity)\n",
    "\n",
    "You will also see this method is tested with a few values.  The method signature is already in the file: `BoundsChecker.java`\n",
    "\n",
    "### Reminder:\n",
    "Try to draw out your logic **before** coding your logic! "
   ]
  },
  {
   "cell_type": "code",
   "execution_count": null,
   "metadata": {},
   "outputs": [],
   "source": [
    "public static String boundsCheckConditionalsOnly(int upper, int lower, int value) {\n",
    "    if (value < upper) {\n",
    "        if(value >= lower) {\n",
    "            int difference = upper - value;\n",
    "            if (difference < value-lower) {\n",
    "                return \"Near upper\";\n",
    "            }else {\n",
    "                return \"Near lower\";\n",
    "            }\n",
    "\n",
    "        }\n",
    "    }\n",
    "    \n",
    "\n",
    "    return null;\n",
    "}\n",
    "\n",
    "public static void testBounds(String expected, String actual) {\n",
    "    System.out.printf(\"Results should be %s => Result is %s%n\", expected, actual);\n",
    "}\n",
    "\n",
    "testBounds(\"Near upper\", boundsCheckConditionalsOnly(10, 3, 8));\n",
    "testBounds(null, boundsCheckConditionalsOnly(100, 0, 101));\n",
    "testBounds(null, boundsCheckConditionalsOnly(100, 90, 80));\n",
    "testBounds(\"Near lower\", boundsCheckConditionalsOnly(100, 0, 49));"
   ]
  },
  {
   "cell_type": "markdown",
   "metadata": {},
   "source": [
    "## Reading Check-in\n",
    "\n",
    "Given the following code, what value do we need to make ??\n",
    "\n",
    "A - `&&`  \n",
    "B - `||`  \n",
    "C - `!=`  "
   ]
  },
  {
   "cell_type": "code",
   "execution_count": null,
   "metadata": {},
   "outputs": [],
   "source": [
    "public static boolean readingCheckin(boolean value1, boolean value2) {\n",
    "    return value1 && value2;\n",
    "}\n",
    "\n",
    "System.out.println(readingCheckin(false, false)); // prints false\n",
    "System.out.println(readingCheckin(false, true));  // prints false\n",
    "System.out.println(readingCheckin(true, false));  // prints false\n",
    "System.out.println(readingCheckin(true, true));   // print true"
   ]
  },
  {
   "cell_type": "markdown",
   "metadata": {},
   "source": [
    "## Logical Operators\n",
    "This works, but there is another way to do it! \n",
    "* Conditional Operators work on primative values\n",
    "* Logical Operators work *exclusively* on boolean values\n",
    "\n",
    "| Logical Operator | Properties |\n",
    "| :-: | - | \n",
    "| a `&&` b | both a *and* b are `true`  |\n",
    "| a `\\|\\|` b | either a *or* b are `true` |\n",
    "\n",
    "This allows us to increase representational power of our logic.\n",
    "\n",
    "> Deeper Understanding / Style Comment  \n",
    "> You can also use `==` and `!=` on boolean values.   \n",
    "> For the most part, you don't need to, and is considered poor style\n",
    "> ```java\n",
    "> \"hello\".equals(\"hello\") != true // you want it to be false\n",
    "> !(\"hello\".equals(\"hello\")) // same as saying \"hello\".equals(\"hello\") != true\n",
    "> ```\n",
    "> Using the not operator to \"flip\" the sign, is the preferred way to doing it. \n",
    "\n",
    "Let's try it.  \n",
    "**Time to play rock, paper, scissors**"
   ]
  },
  {
   "cell_type": "code",
   "execution_count": null,
   "metadata": {},
   "outputs": [],
   "source": [
    "public static void playGame(String player1, String player2) {\n",
    "    System.out.printf(\"Player 1 throws: %s, and Player 2 throws: %s%n\", player1, player2);\n",
    "    if(checkAnswer(player1, player2)) {\n",
    "        System.out.println(\"Player 1 wins\");\n",
    "    } else if(checkAnswer(player2, player1)) { \n",
    "        System.out.println(\"Player 2 wins\");\n",
    "    } else {\n",
    "        System.out.println(\"No one wins!\");\n",
    "    }\n",
    "}\n",
    "\n",
    "// will be completed in class\n",
    "public static boolean checkAnswer(String throw1, String throw2) {\n",
    "    return (throw1.equals(\"rock\") && throw2.equals(\"scissors\")) ||\n",
    "           (throw1.equals(\"scissors\") && throw2.equals(\"paper\")) ||\n",
    "           (throw1.equals(\"paper\") && throw2.equals(\"rock\")) ;\n",
    "      \n",
    "}\n",
    "\n",
    "playGame(\"rock\", \"scissors\");\n",
    "playGame(\"rock\", \"paper\");\n",
    "playGame(\"paper\", \"scissors\");\n",
    "playGame(\"rock\", \"rock\");"
   ]
  },
  {
   "cell_type": "markdown",
   "metadata": {},
   "source": [
    "### Inclass Activity Task 2\n",
    "\n",
    "In the method `boundsCheck`, rewrite your if statements from `boundsCheckerConditionalsOnly`\n",
    "to use Logical Operators.\n",
    "\n",
    "Yes, every bounds can be rewritten as a logical statement. "
   ]
  },
  {
   "cell_type": "code",
   "execution_count": null,
   "metadata": {},
   "outputs": [],
   "source": [
    "public static String boundsCheck(int upper, int lower, int value) {\n",
    "  if(value < upper && value >= lower) {\n",
    "      int difference = upper - value;\n",
    "      if (value - lower < difference) {\n",
    "          return \"Near lower\";\n",
    "    }else {\n",
    "          return \"Near upper\";\n",
    "    }\n",
    "   }\n",
    "  \n",
    "  return null;\n",
    "}\n",
    "\n",
    "testBounds(\"Near upper\", boundsCheck(10, 3, 8));\n",
    "testBounds(null, boundsCheck(100, 0, 101));\n",
    "testBounds(null, boundsCheck(100, 90, 80));\n",
    "testBounds(\"Near lower\", boundsCheck(100, 0, 49));"
   ]
  },
  {
   "cell_type": "markdown",
   "metadata": {},
   "source": [
    "## Short Circuiting Operations\n",
    "\n",
    "The `&&` operator has a special condition. It \"short circuits\". \n",
    "\n",
    "* Short circuiting means once a `false` condition is found, it stops processing checks!\n",
    "  * This is possible because the whole thing has to be true!\n",
    "  * We can't do this with `||` because anything can be true.\n",
    "\n",
    "Example:"
   ]
  },
  {
   "cell_type": "code",
   "execution_count": 3,
   "metadata": {},
   "outputs": [
    {
     "name": "stdout",
     "output_type": "stream",
     "text": [
      "In test it!\n"
     ]
    }
   ],
   "source": [
    "public static boolean testIt() {\n",
    "    System.out.println(\"In test it!\");\n",
    "    return true;\n",
    "}\n",
    "boolean val1 = false;\n",
    "boolean val2 = false;\n",
    "\n",
    "boolean combined = val1 || val2 || testIt(); // will test it be executed? \n",
    "\n"
   ]
  },
  {
   "cell_type": "markdown",
   "metadata": {},
   "source": [
    "### Null Checks\n",
    "\n",
    "If we have the following code:"
   ]
  },
  {
   "cell_type": "code",
   "execution_count": null,
   "metadata": {},
   "outputs": [],
   "source": [
    "String value = null;\n",
    "int len = value.length();"
   ]
  },
  {
   "cell_type": "markdown",
   "metadata": {},
   "source": [
    "It will throw a `NullPointerException`\n",
    "\n",
    "This means we are trying to access the 'empty' memory / null space! \n",
    "\n",
    "The computer doesn't know what to do with that. \n",
    "\n",
    "*Null checking* to the rescue\n",
    "\n",
    "\n",
    "> Random Trivia  \n",
    "> The Null is called the \"[Billion Dollar Mistake](https://hinchman-amanda.medium.com/null-pointer-references-the-billion-dollar-mistake-1e616534d485)\", so use it carefully!\n"
   ]
  },
  {
   "cell_type": "code",
   "execution_count": null,
   "metadata": {},
   "outputs": [],
   "source": [
    "public static void lengthCheck(String value) {\n",
    "    if(value != null && value.length() > 5) {\n",
    "        System.out.println(\"String is greater than 5\");\n",
    "    }\n",
    "}\n",
    "\n",
    "lengthCheck(null); // it didn't blow up AND value.length() was never executed!\n",
    "lengthCheck(\"Hello World\");"
   ]
  },
  {
   "cell_type": "markdown",
   "metadata": {},
   "source": [
    "## Inclass Activity Task 3\n",
    "\n",
    "A useful method for Strings is `.contains(String)`. \n",
    "\n",
    "It returns `true` is a String contains the other String (case matters!).  \n",
    "\n",
    "For this task\n",
    "* uncomment the line in main, and run the program.\n",
    "* fix the program! (using the null check)\n"
   ]
  },
  {
   "cell_type": "code",
   "execution_count": null,
   "metadata": {},
   "outputs": [],
   "source": [
    "public static void reprintBounds(int upper, int lower, int value) {\n",
    "    String check = boundsCheck(upper, lower, value);\n",
    "    if(check.contains(\"upper\")) {\n",
    "        System.out.printf(\"%d is closer to upper bound between %d and %d.%n\", value, lower, upper);\n",
    "    }else if(check.contains(\"lower\")) {\n",
    "        System.out.printf(\"%d is closer to lower bound between %d and %d.%n\", value, lower, upper);\n",
    "    }else {\n",
    "        System.out.println(\"Out of bounds\");\n",
    "    }\n",
    "}\n",
    "\n",
    "reprintBounds(10, 3, 8);\n",
    "reprintBounds(100, 0, 101);\n",
    "reprintBounds(100, 90, 80);\n",
    "reprintBounds(100, 0, 49);"
   ]
  }
 ],
 "metadata": {
  "interpreter": {
   "hash": "507d0580e2b527a70f64f40fb9b6583b2a77378ccde06f27533dbdd39bb8d03d"
  },
  "kernelspec": {
   "display_name": "Java",
   "language": "java",
   "name": "java"
  },
  "language_info": {
   "codemirror_mode": "java",
   "file_extension": ".jshell",
   "mimetype": "text/x-java-source",
   "name": "java",
   "pygments_lexer": "java",
   "version": "17.0.2+8-LTS-86"
  },
  "orig_nbformat": 4
 },
 "nbformat": 4,
 "nbformat_minor": 2
}
