{
 "cells": [
  {
   "cell_type": "markdown",
   "metadata": {},
   "source": [
    "# Logical Operators\n",
    "\n",
    "This unit I am trying something with the slides. Please send me your feedback if this helps with lecture content or not. You can still download the old slide set / powerpoint, if you find that helpful - and the videos I record are using the old slide sets."
   ]
  },
  {
   "cell_type": "markdown",
   "metadata": {},
   "source": [
    "## Review: Conditional Operators\n",
    "\n",
    "* They take two **primative** values\n",
    "    * provide a true or false answer\n",
    "* Cases we know are:\n",
    "    * `>` - greater than\n",
    "    * `<` - less than\n",
    "    * `>=` - greater than or equal to\n",
    "    * `<=` - less than or equal to\n",
    "    * `==` - equal to\n",
    "    * `!=` - not equal to\n",
    "\n",
    "When we want to compare two objects (such as Strings), we use `obj1.equals(obj2)`\n",
    "* Why?\n",
    "  * `==` only compares the local stack, which is just the memory addres of the object!\n",
    "  * `.equals` allow the object to decide what that means\n",
    "    * For `String` that means each character is compared from left to right.\n",
    "* The .equals()  method returns `true` or `false`\n",
    "\n",
    "> **Pro Tip**  \n",
    "> We can use the not operator `!` to flip a sign. So the following code is valid\n",
    "> ```java\n",
    ">  boolean val1 = 10 < 5;  // sets false to val1\n",
    ">  System.out.println(!val1); // true! \n",
    "> ```\n",
    "> It is useful when we want an object not equal to another object\n",
    "> ```java\n",
    "> boolean isEquel = \"hello\".equals(\"hello\");\n",
    "> boolean notEqual = !(\"hello\".equals(\"hello\"));"
   ]
  },
  {
   "cell_type": "markdown",
   "metadata": {},
   "source": [
    "## Inclass Activity\n",
    "\n",
    "The inclass activity is available on github under the following location  (link is also on the syllabus under resources)\n",
    "\n",
    "[https://github.com/CSU-CompSci-CS163-4/Handouts/tree/main/ClassExamples/08LogicalOperators](https://github.com/CSU-CompSci-CS163-4/Handouts/tree/main/ClassExamples/08LogicalOperators). \n",
    "\n",
    "Download the activity either directly, or using git. You can also clone the entire handouts repo, by saying new project from version control. \n",
    "\n",
    "### Task 1: Basic Conditionals"
   ]
  },
  {
   "cell_type": "code",
   "execution_count": 7,
   "metadata": {},
   "outputs": [],
   "source": []
  }
 ],
 "metadata": {
  "interpreter": {
   "hash": "507d0580e2b527a70f64f40fb9b6583b2a77378ccde06f27533dbdd39bb8d03d"
  },
  "kernelspec": {
   "display_name": "Java",
   "language": "java",
   "name": "java"
  },
  "language_info": {
   "codemirror_mode": "java",
   "file_extension": ".jshell",
   "mimetype": "text/x-java-source",
   "name": "Java",
   "pygments_lexer": "java",
   "version": "17.0.1+12"
  },
  "orig_nbformat": 4
 },
 "nbformat": 4,
 "nbformat_minor": 2
}
