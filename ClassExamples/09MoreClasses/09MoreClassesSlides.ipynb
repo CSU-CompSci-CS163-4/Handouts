{
 "cells": [
  {
   "cell_type": "markdown",
   "metadata": {},
   "source": [
    "# More Classes\n",
    "\n",
    "Today's topics:\n",
    "* `final` keyword \n",
    "* Scope public/private \n",
    "* Classes / Objects / Constructors (and constructor overloading)\n",
    "* toString\n",
    "* Static and instance\n",
    "\n",
    "This sounds like a lot, but they are all tied together!\n",
    "\n",
    "## final countdown, err frontier.. variable! \n",
    "\n",
    "* the keyword `final` when placed before a variable declaration\n",
    "    * prevents the variable from being overwritten\n",
    "    * which means for primative variables\n",
    "        * that value is set, and unchanging\n",
    "    * for objects\n",
    "        * it means it will always point towards that object in memory\n",
    "        * but the inner contents can change\n",
    "* Think of final as *readonly*\n",
    "\n",
    "### Why final?\n",
    "\n",
    "It is meant to be a **compile time** check. Your code won't compile if you try to overwrite the final variable!\n",
    "\n",
    "How does it look?"
   ]
  },
  {
   "cell_type": "code",
   "execution_count": 2,
   "metadata": {},
   "outputs": [
    {
     "name": "stdout",
     "output_type": "stream",
     "text": [
      "Silly String\n",
      "Silly putty\n",
      "Yes name\n"
     ]
    }
   ],
   "source": [
    "public class SillyClass {\n",
    "    public static final String NAME = \"Silly String\";\n",
    "    public static String NO_NAME = \"No name\";\n",
    "    public final String localName = \"Silly putty\";\n",
    "\n",
    "}\n",
    "\n",
    "// the following would be inside a main method usually\n",
    "System.out.println(SillyClass.NAME);\n",
    "SillyClass egg = new SillyClass();\n",
    "System.out.println(egg.localName);\n",
    "\n",
    "SillyClass.NO_NAME = \"Yes name\";\n",
    "System.out.println(SillyClass.NO_NAME);\n"
   ]
  },
  {
   "cell_type": "markdown",
   "metadata": {},
   "source": [
    "But the following would not compile!"
   ]
  },
  {
   "cell_type": "code",
   "execution_count": 3,
   "metadata": {},
   "outputs": [
    {
     "ename": "CompilationException",
     "evalue": "",
     "output_type": "error",
     "traceback": [
      "\u001b[1m\u001b[30m|   \u001b[1m\u001b[30m\u001b[0m\u001b[1m\u001b[30m\u001b[41mSillyClass.NAME\u001b[0m\u001b[1m\u001b[30m = \"hello\";\u001b[0m",
      "\u001b[1m\u001b[31mcannot assign a value to final variable NAME\u001b[0m",
      ""
     ]
    }
   ],
   "source": [
    "SillyClass.NAME = \"hello\";\n",
    "egg.localName = \"Slinky\";"
   ]
  },
  {
   "cell_type": "markdown",
   "metadata": {},
   "source": [
    "## Wait, that is a public variable?\n",
    "\n",
    "For the most part, we have:\n",
    "* Made methods public\n",
    "* variables private\n",
    "\n",
    "But, we just made a variable **public**\n",
    "\n",
    "Both variables and method can be\n",
    "* public\n",
    "* private\n",
    "* protected (future class)\n",
    "* internal/package private (future class)\n",
    "\n",
    "### Public\n",
    "public means all classes have access. This controls the way other classes interact with the code you are writing. \n",
    "\n",
    "Traditionally, we want to control access! \n",
    "\n",
    "However, if  variable is final - they can't mess with it, so safe to make it public (if we want to allow access).\n",
    "\n",
    "\n",
    "### Private\n",
    "Most instance variables are private.\n",
    "\n",
    "Many **methods** can be private. \n",
    "* This means only the 'class' can see the private method.\n",
    "* This is often called a helper method (helps other methods work). Used a lot in good design. \n",
    "\n",
    "We actually won't use it much, as we can't grade private methods! \n",
    "\n"
   ]
  },
  {
   "cell_type": "code",
   "execution_count": null,
   "metadata": {},
   "outputs": [
    {
     "name": "stdout",
     "output_type": "stream",
     "text": [
      "Shoots a spray of 6 feet!\n"
     ]
    }
   ],
   "source": [
    "public class SillyString {\n",
    "\n",
    "    public int sprayLength() {\n",
    "        if(checkSprayRemaining()) {\n",
    "            return 6;\n",
    "        }\n",
    "        return 0;\n",
    "    }\n",
    "\n",
    "    private boolean checkSprayRemaining() {\n",
    "        return true;\n",
    "    }\n",
    "}\n",
    "\n",
    "SillyString blueCan = new SillyString();\n",
    "\n",
    "System.out.println(String.format(\"Shoots a spray of %d feet!\", blueCan.sprayLength())); // this is allowed"
   ]
  },
  {
   "cell_type": "code",
   "execution_count": null,
   "metadata": {},
   "outputs": [
    {
     "ename": "CompilationException",
     "evalue": "",
     "output_type": "error",
     "traceback": [
      "\u001b[1m\u001b[30m|   \u001b[1m\u001b[30mSystem.out.println(\"Does it have more? \" + \u001b[0m\u001b[1m\u001b[30m\u001b[41mblueCan.checkSprayRemaining\u001b[0m\u001b[1m\u001b[30m()); \u001b[0m",
      "\u001b[1m\u001b[31mcheckSprayRemaining() has private access in SillyString\u001b[0m",
      ""
     ]
    }
   ],
   "source": [
    "System.out.println(\"Does it have more? \" + blueCan.checkSprayRemaining()); "
   ]
  },
  {
   "cell_type": "markdown",
   "metadata": {},
   "source": [
    "\n",
    "## Building Objects: Constructors\n",
    "\n",
    "In the past, when we have added properties to objects, we have called methods.\n",
    "\n",
    "```java\n",
    "public class Rectangle {\n",
    "    private int width;\n",
    "    private int length;\n",
    "\n",
    "    public void setWidth(int width) {\n",
    "        this.width = width; // remember this!\n",
    "    }\n",
    "\n",
    "    public void setLength(int length) {\n",
    "        this.length = length;\n",
    "    }\n",
    "\n",
    "    public static void main(String[] args) {\n",
    "        Rectangle small = new Rectangle();\n",
    "        small.setWidth(10);\n",
    "        small.setLength(12);\n",
    "    }\n",
    "}\n",
    "```\n",
    "\n",
    "But does a rectangle make sense with **zero** length and width?\n",
    "* not really.\n",
    "* We ideally want a way to set the length and width at creation time. \n",
    "\n",
    "\n",
    "### Enter Constructors!\n",
    "\n",
    "Specialized methods are invoked only when **new** is used.\n",
    "\n",
    "Properties:\n",
    "* they don't have a return type defined\n",
    "* they can only be called using **new**\n",
    "* the job is to set values that are *required* for the class to work\n",
    "* you can have more than one with different parameters\n",
    "    * it will call the one with the matching parameters\n"
   ]
  },
  {
   "cell_type": "code",
   "execution_count": null,
   "metadata": {},
   "outputs": [],
   "source": [
    "public class Rectangle {\n",
    "    private int width;\n",
    "    private int length;\n",
    "\n",
    "    public Rectangle(int width, int length) {\n",
    "        setWidth(width);  // i could have typed this.width = width\n",
    "        setLength(length); // better practice is to call setters if they exist\n",
    "    }\n",
    "\n",
    "    public void setWidth(int width) { this.width = width; }\n",
    "\n",
    "    public void setLength(int length) {this.length = length;}\n",
    "\n",
    "    public int getWidth() { return width;}\n",
    "    public int getLength() { return length;}\n",
    "}"
   ]
  },
  {
   "cell_type": "code",
   "execution_count": null,
   "metadata": {},
   "outputs": [
    {
     "name": "stdout",
     "output_type": "stream",
     "text": [
      "Rectangle - width: 10, length: 12\n"
     ]
    }
   ],
   "source": [
    "Rectangle smallBuilding = new Rectangle(10, 12);\n",
    "String formatted = String.format(\"Rectangle - width: %d, length: %d\", \n",
    "    smallBuilding.getWidth(), smallBuilding.getLength());\n",
    "\n",
    "System.out.println(formatted);"
   ]
  },
  {
   "cell_type": "markdown",
   "metadata": {},
   "source": [
    "Also, once a constructor is made, the \"default\" constructor can't be used until you purposely add it!"
   ]
  },
  {
   "cell_type": "code",
   "execution_count": null,
   "metadata": {},
   "outputs": [
    {
     "ename": "CompilationException",
     "evalue": "",
     "output_type": "error",
     "traceback": [
      "\u001b[1m\u001b[30m|   \u001b[1m\u001b[30mRectangle unknownBuilding = \u001b[0m\u001b[1m\u001b[30m\u001b[41mnew Rectangle()\u001b[0m\u001b[1m\u001b[30m; \u001b[0m",
      "\u001b[1m\u001b[31mconstructor Rectangle in class Rectangle cannot be applied to given types;\u001b[0m",
      "\u001b[1m\u001b[31m  required: int,int\u001b[0m",
      "\u001b[1m\u001b[31m  found:    no arguments\u001b[0m",
      "\u001b[1m\u001b[31m  reason: actual and formal argument lists differ in length\u001b[0m",
      ""
     ]
    }
   ],
   "source": [
    "Rectangle unknownBuilding = new Rectangle(); "
   ]
  },
  {
   "cell_type": "markdown",
   "metadata": {},
   "source": [
    "## In Class Activity\n",
    "\n",
    "In Canvas you will find a link to the code. I have placed the code **both** in zybooks and on the github. \n",
    "\n",
    "* Feel free to use whatever is easier / quicker for your table!\n",
    "\n",
    "You will see StudentInClass does not have a constructor, and will not compile as is.\n",
    "\n",
    "Add a constructor, and run the program. \n",
    "\n",
    "The format of the constructor should be\n",
    "* classID\n",
    "* ename\n",
    "* name\n",
    "\n",
    "\n",
    "> Discussion  \n",
    "> Why are some methods private?  \n",
    "> Why was I able to keep classID public?  \n",
    "> What pick a 'path' through the program, and try to follow the method calls based on client input.\n"
   ]
  },
  {
   "cell_type": "markdown",
   "metadata": {},
   "source": [
    "### Example Path Trace:\n",
    "\n",
    "Run program\n",
    "* Creates an InclassMain object\n",
    "* Invokes the run() method\n",
    "    * Asks for client input \\[Enter: \"l\"\\]\n",
    "    * Reads response using scanner (whole line!)\n",
    "    * invokes/calls processAction(\"l\")\n",
    "      * in **processAction**\n",
    "      * compares \"l\" with \"list\" || (OR!) \"l\" - finds it to be true\n",
    "        * invokes the printStudents() method\n",
    "        * in **printStudents()**\n",
    "          * invokes printStudent with the object amy\n",
    "            * in **printStudent(amy)**\n",
    "            * String.format \n",
    "              ```text\n",
    "              Class: CS164\n",
    "              Name: Amy Pond\n",
    "              Grade: 0.00%\n",
    "              ```\n",
    "            * prints String to the screen (return)\n",
    "          * invokes the printStudent with the object rory\n",
    "            * see above, different output\n",
    "          * invokes the printStudent with the object clara\n",
    "            * see above, different output\n",
    "          * invokes the printStudent with the objet alice\n",
    "            * see above, different output\n",
    "          * return out of printStudents()\n",
    "        * return out of processAction()\n",
    "      * repeats loop, asks client for next action\n",
    "      * type exit\n",
    "    * ends loop\n",
    "* end program\n",
    "\n",
    "This can vary for everyone! This is just one way to think about it\n"
   ]
  },
  {
   "cell_type": "markdown",
   "metadata": {},
   "source": [
    "## toString()\n",
    "\n",
    "Whenever we have wanted to print code, we have built a 'formattedOutput' type method.\n",
    "\n",
    "What happens if we just print the object?"
   ]
  },
  {
   "cell_type": "code",
   "execution_count": null,
   "metadata": {},
   "outputs": [
    {
     "name": "stdout",
     "output_type": "stream",
     "text": [
      "REPL.$JShell$12$Student@7fca74fa\n",
      "REPL.$JShell$12$Student@69467ee0\n",
      "REPL.$JShell$12$Student@7c5252b6\n"
     ]
    }
   ],
   "source": [
    "public class Student {\n",
    "    private final int id; // we want it internal to student only\n",
    "    public final String ename; // ok for other classes to see, but not change it!\n",
    "    private String name;\n",
    "\n",
    "    public Student(int id, String ename, String name) {\n",
    "        this.id= id;\n",
    "        this.ename = ename;\n",
    "        setName(name);\n",
    "    }\n",
    "\n",
    "    public void setName(String name) {this.name = name;}\n",
    "    public String getName() {return name;}\n",
    "}\n",
    "\n",
    "Student airbender = new Student(811222333, \"zackeis\", \"Aang\");\n",
    "Student waterbender = new Student(899888777, \"maewhit\", \"Katara\");\n",
    "Student weaponmaster = new Student(877666555, \"jackdese\", \"Sokka\");\n",
    "\n",
    "System.out.println(airbender);\n",
    "System.out.println(waterbender);\n",
    "System.out.println(weaponmaster);"
   ]
  },
  {
   "cell_type": "markdown",
   "metadata": {},
   "source": [
    "That doesn't make sense! \n",
    "\n",
    "But if you think about classes, it does. \n",
    "* with every **new** key word, I create an additional memory table. \n",
    "* so for the program, the memory tables look like the following.\n",
    "\n",
    "#### Current \"Stack\"\n",
    "|variable | value |\n",
    "| - |  - |\n",
    "| airbender | Student@7fca74fa |\n",
    "| waterbender | Student@69467ee0 |\n",
    "| weaponmaster | Student@7c5252b6|\n",
    "\n",
    "#### Student@7fca74fa\n",
    "|variable | value |\n",
    "| - |  - |\n",
    "| id (final) | 811222333 |\n",
    "| ename (final) |zackeis|\n",
    "| name | Aang |\n",
    "\n",
    "#### Student@69467ee0\n",
    "|variable | value |\n",
    "| - |  - |\n",
    "| id (final) | 899888777 |\n",
    "| ename (final) |maewhit|\n",
    "| name | Katara |\n",
    "\n",
    "\n",
    "#### Student@7c5252b6\n",
    "|variable | value |\n",
    "| - |  - |\n",
    "| id (final) | 877666555 |\n",
    "| ename (final) |jackdese|\n",
    "| name | Sokka |\n",
    "\n",
    "Essentially, Java is printing what is on the stack memory!\n",
    "* Only because you didn't tell it differently\n",
    "* Introducing `toString()` a way to tell it do print something else for Objects"
   ]
  },
  {
   "cell_type": "code",
   "execution_count": null,
   "metadata": {},
   "outputs": [
    {
     "name": "stdout",
     "output_type": "stream",
     "text": [
      "Character: Aang, ID: 811222333\n",
      "Character: Katara, ID: 899888777\n",
      "Character: Sokka, ID: 877666555\n"
     ]
    }
   ],
   "source": [
    "public class Student {\n",
    "    private final int id; // we want it internal to student only\n",
    "    public final String ename; // ok for other classes to see, but not change it!\n",
    "    private String name;\n",
    "\n",
    "    public Student(int id, String ename, String name) {\n",
    "        this.id= id;\n",
    "        this.ename = ename;\n",
    "        setName(name);\n",
    "    }\n",
    "\n",
    "    public void setName(String name) {this.name = name;}\n",
    "    public String getName() {return name;}\n",
    "\n",
    "    public String toString() {\n",
    "        return String.format(\"Character: %s, ID: %d\", getName(), id);\n",
    "    }\n",
    "}\n",
    "\n",
    "Student airbender = new Student(811222333, \"zackeis\", \"Aang\");\n",
    "Student waterbender = new Student(899888777, \"maewhit\", \"Katara\");\n",
    "Student weaponmaster = new Student(877666555, \"jackdese\", \"Sokka\");\n",
    "\n",
    "System.out.println(airbender);\n",
    "System.out.println(waterbender);\n",
    "System.out.println(weaponmaster);"
   ]
  },
  {
   "cell_type": "markdown",
   "metadata": {},
   "source": [
    "* With toString() we can print objects directly\n",
    "    * and they make sense / are readable to us!!\n",
    "\n",
    "### In Class Activity: Task 2\n",
    "\n",
    "Add a toString() method to `StudentInClass.java`.\n",
    "\n",
    "The method should return a String of the following format:\n",
    "\n",
    "```text\n",
    "Class: CS164\n",
    "Name: Amy Pond\n",
    "Grade: 89.00%\n",
    "```\n",
    "\n",
    "where class is the class they are in, name is the name of the student, and grade is the *current* grade.\n",
    "\n",
    "You can pull the formatting String from InclassMain.printStudent\n",
    "\n",
    "You will also want to update the InclassMain.printStudents() method to be the following:\n",
    "\n",
    "```java\n",
    "System.out.println(amy);\n",
    "System.out.println(clara);\n",
    "System.out.println(rory);\n",
    "System.out.println(alice);\n",
    "```\n",
    "\n",
    "Run the program, if done correctly - nothing should look different!\n"
   ]
  },
  {
   "cell_type": "markdown",
   "metadata": {},
   "source": [
    "## Memory (Static / Instance)\n",
    "\n",
    "Let's think about memory.\n",
    "\n",
    "In the example above:\n",
    "* `new` created a new instance of the object\n",
    "* we built out the memory table\n",
    "* the variable values are unique to that object\n",
    "\n",
    "Static:\n",
    "* Anything that is static is not unique\n",
    "* It is *shared* across all objects\n",
    "* A way to visualize this is the following:\n",
    "\n",
    "![Memory Static/Instance](img/CS163_ObjectsStaticMemory_small.png)"
   ]
  },
  {
   "cell_type": "code",
   "execution_count": null,
   "metadata": {},
   "outputs": [
    {
     "name": "stdout",
     "output_type": "stream",
     "text": [
      "Character: Aang, ID: 0\n",
      "Character: Katara, ID: 1\n",
      "Character: Sokka, ID: 2\n",
      "3\n"
     ]
    }
   ],
   "source": [
    "public class Student {\n",
    "    private final int id; // we want it internal to student only\n",
    "    public final String ename; // ok for other classes to see, but not change it!\n",
    "    private String name;\n",
    "    static int studentCounter = 0;\n",
    "\n",
    "    public Student(String ename, String name) {\n",
    "        this.id= studentCounter; // just set the ID based on the student object created\n",
    "        this.ename = ename;\n",
    "        setName(name);\n",
    "        studentCounter += 1; \n",
    "    }\n",
    "\n",
    "    public void setName(String name) {this.name = name;}\n",
    "    public String getName() {return name;}\n",
    "\n",
    "    public String toString() {\n",
    "        return String.format(\"Character: %s, ID: %d\", getName(), id);\n",
    "    }\n",
    "}\n",
    "\n",
    "Student airbender = new Student(\"zackeis\", \"Aang\");\n",
    "Student waterbender = new Student(\"maewhit\", \"Katara\");\n",
    "Student weaponmaster = new Student(\"jackdese\", \"Sokka\");\n",
    "\n",
    "System.out.println(airbender);\n",
    "System.out.println(waterbender);\n",
    "System.out.println(weaponmaster);\n",
    "\n",
    "System.out.println(Student.studentCounter)"
   ]
  },
  {
   "cell_type": "markdown",
   "metadata": {},
   "source": [
    "### Notice:\n",
    "\n",
    "ID continues to change. If we continue to run the code, it will continue to go up! (at least until the program ends!).\n",
    "\n",
    "\n",
    "## Conclusion\n",
    "\n",
    "Just focus on building objects, and \"drawing out\" what is going on.\n",
    "\n",
    "The design of when to use static and instance makes more sense with practice."
   ]
  }
 ],
 "metadata": {
  "kernelspec": {
   "display_name": "Java",
   "language": "java",
   "name": "java"
  },
  "language_info": {
   "codemirror_mode": "java",
   "file_extension": ".jshell",
   "mimetype": "text/x-java-source",
   "name": "Java",
   "pygments_lexer": "java",
   "version": "17.0.1+12"
  },
  "orig_nbformat": 4
 },
 "nbformat": 4,
 "nbformat_minor": 2
}
