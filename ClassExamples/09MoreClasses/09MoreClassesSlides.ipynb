{
 "cells": [
  {
   "cell_type": "markdown",
   "metadata": {},
   "source": [
    "# More Classes\n",
    "\n",
    "Today's topics:\n",
    "* `final` keyword \n",
    "* Scope public/private \n",
    "* Classes / Objects / Constructors (and constructor overloading)\n",
    "* toString\n",
    "* Static and instance\n",
    "\n",
    "This sounds like a lot, but they are all tied together!\n",
    "\n",
    "## final countdown, err frontier.. variable! \n",
    "\n",
    "* the keyword `final` when placed before a variable declaration\n",
    "    * prevents the variable from being overwritten\n",
    "    * which means for primative variables\n",
    "        * that value is set, and unchanging\n",
    "    * for objects\n",
    "        * it means it will always point towards that object in memory\n",
    "        * but the inner contents can change\n",
    "* Think of final as *readonly*\n",
    "\n",
    "### Why final?\n",
    "\n",
    "It is meant to be a **compile time** check. Your code won't compile if you try to overwrite the final variable!\n",
    "\n",
    "How does it look?"
   ]
  },
  {
   "cell_type": "code",
   "execution_count": 7,
   "metadata": {},
   "outputs": [
    {
     "name": "stdout",
     "output_type": "stream",
     "text": [
      "Silly String\n",
      "Silly putty\n",
      "Yes name\n"
     ]
    }
   ],
   "source": [
    "public class SillyClass {\n",
    "    public static final String NAME = \"Silly String\";\n",
    "    public static String NO_NAME = \"No name\";\n",
    "    public final String localName = \"Silly putty\";\n",
    "\n",
    "}\n",
    "\n",
    "// the following would be inside a main method usually\n",
    "System.out.println(SillyClass.NAME);\n",
    "SillyClass egg = new SillyClass();\n",
    "System.out.println(egg.localName);\n",
    "\n",
    "SillyClass.NO_NAME = \"Yes name\";\n",
    "System.out.println(SillyClass.NO_NAME);\n"
   ]
  },
  {
   "cell_type": "markdown",
   "metadata": {},
   "source": [
    "But the following would not compile!"
   ]
  },
  {
   "cell_type": "code",
   "execution_count": 6,
   "metadata": {},
   "outputs": [
    {
     "ename": "CompilationException",
     "evalue": "",
     "output_type": "error",
     "traceback": [
      "\u001b[1m\u001b[30m|   \u001b[1m\u001b[30m\u001b[0m\u001b[1m\u001b[30m\u001b[41megg.localName\u001b[0m\u001b[1m\u001b[30m = \"Slinky\";\u001b[0m",
      "\u001b[1m\u001b[31mcannot assign a value to final variable localName\u001b[0m",
      ""
     ]
    }
   ],
   "source": [
    "SillyClass.NAME = \"hello\";\n",
    "egg.localName = \"Slinky\";"
   ]
  },
  {
   "cell_type": "markdown",
   "metadata": {},
   "source": [
    "## Wait public variable?\n",
    "\n",
    "For the most part, we have:\n",
    "* Made methods public\n",
    "* variables private\n",
    "\n",
    "But, we just made a variable **public**\n",
    "\n",
    "Both variables and method can be\n",
    "* public\n",
    "* private\n",
    "* protected (future class)\n",
    "* internal (future class)\n",
    "\n",
    "### Public\n",
    "public means all classes have access. This controls the 'interface' with the code you are writing. \n",
    "\n",
    "Traditionally, we want to control access! \n",
    "\n",
    "However, if  variable is final - they can't mess with it, so safe to make it public (if we want to allow access).\n",
    "\n",
    "\n",
    "### Private\n",
    "Most instance variables are private.\n",
    "\n",
    "Many **methods** can be private. \n",
    "\n",
    "This means only the 'class' can see the private method.\n",
    "\n",
    "This is often called a helper method (helps other methods work). Used a lot in good design. \n",
    "\n",
    "We actually won't use it much, as we can't grade private methods! \n",
    "\n",
    "\n",
    "## Building Objects: Constructors\n",
    "\n",
    "\n"
   ]
  }
 ],
 "metadata": {
  "kernelspec": {
   "display_name": "Java",
   "language": "java",
   "name": "java"
  },
  "language_info": {
   "codemirror_mode": "java",
   "file_extension": ".jshell",
   "mimetype": "text/x-java-source",
   "name": "Java",
   "pygments_lexer": "java",
   "version": "17.0.1+12"
  },
  "orig_nbformat": 4
 },
 "nbformat": 4,
 "nbformat_minor": 2
}
